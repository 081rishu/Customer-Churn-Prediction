{
 "cells": [
  {
   "cell_type": "markdown",
   "id": "8389646c-33bb-4c3b-aa99-5051cf8026ac",
   "metadata": {},
   "source": [
    "## Step 1: Importing Data"
   ]
  },
  {
   "cell_type": "code",
   "execution_count": 1,
   "id": "b2119af8-34fa-44c4-ab36-2610b3b2ab50",
   "metadata": {},
   "outputs": [],
   "source": [
    "import numpy as np\n",
    "import pandas as pd"
   ]
  },
  {
   "cell_type": "code",
   "execution_count": 2,
   "id": "f1671c78-d11e-42cf-ae8c-3796c218eca3",
   "metadata": {},
   "outputs": [],
   "source": [
    "# Suppressing Warnings\n",
    "import warnings\n",
    "warnings.filterwarnings('ignore')"
   ]
  },
  {
   "cell_type": "code",
   "execution_count": 3,
   "id": "b8b2e2f8-4fbb-480a-9034-81f26db72d99",
   "metadata": {},
   "outputs": [
    {
     "data": {
      "text/html": [
       "<div>\n",
       "<style scoped>\n",
       "    .dataframe tbody tr th:only-of-type {\n",
       "        vertical-align: middle;\n",
       "    }\n",
       "\n",
       "    .dataframe tbody tr th {\n",
       "        vertical-align: top;\n",
       "    }\n",
       "\n",
       "    .dataframe thead th {\n",
       "        text-align: right;\n",
       "    }\n",
       "</style>\n",
       "<table border=\"1\" class=\"dataframe\">\n",
       "  <thead>\n",
       "    <tr style=\"text-align: right;\">\n",
       "      <th></th>\n",
       "      <th>cID</th>\n",
       "      <th>gender</th>\n",
       "      <th>SeniorCitizen</th>\n",
       "      <th>Partner</th>\n",
       "      <th>Dependents</th>\n",
       "      <th>tenure</th>\n",
       "      <th>PhoneService</th>\n",
       "      <th>MultipleLines</th>\n",
       "      <th>InternetService</th>\n",
       "      <th>OnlineSecurity</th>\n",
       "      <th>...</th>\n",
       "      <th>DeviceProtection</th>\n",
       "      <th>TechSupport</th>\n",
       "      <th>TV_Streaming</th>\n",
       "      <th>Movie_Streaming</th>\n",
       "      <th>Contract</th>\n",
       "      <th>PaperlessBilling</th>\n",
       "      <th>Method_Payment</th>\n",
       "      <th>Charges_Month</th>\n",
       "      <th>TotalCharges</th>\n",
       "      <th>Churn</th>\n",
       "    </tr>\n",
       "  </thead>\n",
       "  <tbody>\n",
       "    <tr>\n",
       "      <th>0</th>\n",
       "      <td>4223-BKEOR</td>\n",
       "      <td>Female</td>\n",
       "      <td>0</td>\n",
       "      <td>No</td>\n",
       "      <td>Yes</td>\n",
       "      <td>21</td>\n",
       "      <td>Yes</td>\n",
       "      <td>No</td>\n",
       "      <td>DSL</td>\n",
       "      <td>Yes</td>\n",
       "      <td>...</td>\n",
       "      <td>Yes</td>\n",
       "      <td>No</td>\n",
       "      <td>No</td>\n",
       "      <td>Yes</td>\n",
       "      <td>One year</td>\n",
       "      <td>No</td>\n",
       "      <td>Mailed check</td>\n",
       "      <td>64.85</td>\n",
       "      <td>1336.8</td>\n",
       "      <td>No</td>\n",
       "    </tr>\n",
       "    <tr>\n",
       "      <th>1</th>\n",
       "      <td>6035-RIIOM</td>\n",
       "      <td>Female</td>\n",
       "      <td>0</td>\n",
       "      <td>No</td>\n",
       "      <td>No</td>\n",
       "      <td>54</td>\n",
       "      <td>Yes</td>\n",
       "      <td>Yes</td>\n",
       "      <td>Fiber optic</td>\n",
       "      <td>No</td>\n",
       "      <td>...</td>\n",
       "      <td>No</td>\n",
       "      <td>No</td>\n",
       "      <td>Yes</td>\n",
       "      <td>Yes</td>\n",
       "      <td>Two year</td>\n",
       "      <td>Yes</td>\n",
       "      <td>Bank transfer (automatic)</td>\n",
       "      <td>97.20</td>\n",
       "      <td>5129.45</td>\n",
       "      <td>No</td>\n",
       "    </tr>\n",
       "    <tr>\n",
       "      <th>2</th>\n",
       "      <td>3797-VTIDR</td>\n",
       "      <td>Male</td>\n",
       "      <td>0</td>\n",
       "      <td>Yes</td>\n",
       "      <td>No</td>\n",
       "      <td>1</td>\n",
       "      <td>No</td>\n",
       "      <td>No phone service</td>\n",
       "      <td>DSL</td>\n",
       "      <td>No</td>\n",
       "      <td>...</td>\n",
       "      <td>No</td>\n",
       "      <td>No</td>\n",
       "      <td>No</td>\n",
       "      <td>No</td>\n",
       "      <td>Month-to-month</td>\n",
       "      <td>Yes</td>\n",
       "      <td>Electronic check</td>\n",
       "      <td>23.45</td>\n",
       "      <td>23.45</td>\n",
       "      <td>Yes</td>\n",
       "    </tr>\n",
       "    <tr>\n",
       "      <th>3</th>\n",
       "      <td>2568-BRGYX</td>\n",
       "      <td>Male</td>\n",
       "      <td>0</td>\n",
       "      <td>No</td>\n",
       "      <td>No</td>\n",
       "      <td>4</td>\n",
       "      <td>Yes</td>\n",
       "      <td>No</td>\n",
       "      <td>Fiber optic</td>\n",
       "      <td>No</td>\n",
       "      <td>...</td>\n",
       "      <td>No</td>\n",
       "      <td>No</td>\n",
       "      <td>No</td>\n",
       "      <td>No</td>\n",
       "      <td>Month-to-month</td>\n",
       "      <td>Yes</td>\n",
       "      <td>Electronic check</td>\n",
       "      <td>70.20</td>\n",
       "      <td>237.95</td>\n",
       "      <td>Yes</td>\n",
       "    </tr>\n",
       "    <tr>\n",
       "      <th>4</th>\n",
       "      <td>2775-SEFEE</td>\n",
       "      <td>Male</td>\n",
       "      <td>0</td>\n",
       "      <td>No</td>\n",
       "      <td>Yes</td>\n",
       "      <td>0</td>\n",
       "      <td>Yes</td>\n",
       "      <td>Yes</td>\n",
       "      <td>DSL</td>\n",
       "      <td>Yes</td>\n",
       "      <td>...</td>\n",
       "      <td>No</td>\n",
       "      <td>Yes</td>\n",
       "      <td>No</td>\n",
       "      <td>No</td>\n",
       "      <td>Two year</td>\n",
       "      <td>Yes</td>\n",
       "      <td>Bank transfer (automatic)</td>\n",
       "      <td>61.90</td>\n",
       "      <td></td>\n",
       "      <td>No</td>\n",
       "    </tr>\n",
       "  </tbody>\n",
       "</table>\n",
       "<p>5 rows × 21 columns</p>\n",
       "</div>"
      ],
      "text/plain": [
       "          cID  gender  SeniorCitizen Partner Dependents  tenure PhoneService  \\\n",
       "0  4223-BKEOR  Female              0      No        Yes      21          Yes   \n",
       "1  6035-RIIOM  Female              0      No         No      54          Yes   \n",
       "2  3797-VTIDR    Male              0     Yes         No       1           No   \n",
       "3  2568-BRGYX    Male              0      No         No       4          Yes   \n",
       "4  2775-SEFEE    Male              0      No        Yes       0          Yes   \n",
       "\n",
       "      MultipleLines InternetService OnlineSecurity  ... DeviceProtection  \\\n",
       "0                No             DSL            Yes  ...              Yes   \n",
       "1               Yes     Fiber optic             No  ...               No   \n",
       "2  No phone service             DSL             No  ...               No   \n",
       "3                No     Fiber optic             No  ...               No   \n",
       "4               Yes             DSL            Yes  ...               No   \n",
       "\n",
       "  TechSupport TV_Streaming Movie_Streaming        Contract PaperlessBilling  \\\n",
       "0          No           No             Yes        One year               No   \n",
       "1          No          Yes             Yes        Two year              Yes   \n",
       "2          No           No              No  Month-to-month              Yes   \n",
       "3          No           No              No  Month-to-month              Yes   \n",
       "4         Yes           No              No        Two year              Yes   \n",
       "\n",
       "              Method_Payment Charges_Month  TotalCharges Churn  \n",
       "0               Mailed check         64.85        1336.8    No  \n",
       "1  Bank transfer (automatic)         97.20       5129.45    No  \n",
       "2           Electronic check         23.45         23.45   Yes  \n",
       "3           Electronic check         70.20        237.95   Yes  \n",
       "4  Bank transfer (automatic)         61.90                  No  \n",
       "\n",
       "[5 rows x 21 columns]"
      ]
     },
     "execution_count": 3,
     "metadata": {},
     "output_type": "execute_result"
    }
   ],
   "source": [
    "df = pd.read_csv(\"Churn-Data.csv\")\n",
    "# Let's see the head of our master dataset\n",
    "df.head()"
   ]
  },
  {
   "cell_type": "markdown",
   "id": "bab4b972-564f-4608-9763-619463b08899",
   "metadata": {},
   "source": [
    "## Step 2: Inspecting the Dataframe"
   ]
  },
  {
   "cell_type": "code",
   "execution_count": 4,
   "id": "7adb7179-e341-448d-88d0-acf541e33578",
   "metadata": {},
   "outputs": [
    {
     "data": {
      "text/plain": [
       "(5634, 21)"
      ]
     },
     "execution_count": 4,
     "metadata": {},
     "output_type": "execute_result"
    }
   ],
   "source": [
    "# Let's check the dimensions of the dataframe\n",
    "df.shape"
   ]
  },
  {
   "cell_type": "code",
   "execution_count": 5,
   "id": "4646f993-1067-41a7-b98a-dd221aa5cfbd",
   "metadata": {},
   "outputs": [
    {
     "data": {
      "text/html": [
       "<div>\n",
       "<style scoped>\n",
       "    .dataframe tbody tr th:only-of-type {\n",
       "        vertical-align: middle;\n",
       "    }\n",
       "\n",
       "    .dataframe tbody tr th {\n",
       "        vertical-align: top;\n",
       "    }\n",
       "\n",
       "    .dataframe thead th {\n",
       "        text-align: right;\n",
       "    }\n",
       "</style>\n",
       "<table border=\"1\" class=\"dataframe\">\n",
       "  <thead>\n",
       "    <tr style=\"text-align: right;\">\n",
       "      <th></th>\n",
       "      <th>SeniorCitizen</th>\n",
       "      <th>tenure</th>\n",
       "      <th>Charges_Month</th>\n",
       "    </tr>\n",
       "  </thead>\n",
       "  <tbody>\n",
       "    <tr>\n",
       "      <th>count</th>\n",
       "      <td>5634.000000</td>\n",
       "      <td>5634.000000</td>\n",
       "      <td>5634.000000</td>\n",
       "    </tr>\n",
       "    <tr>\n",
       "      <th>mean</th>\n",
       "      <td>0.160809</td>\n",
       "      <td>32.373092</td>\n",
       "      <td>64.864253</td>\n",
       "    </tr>\n",
       "    <tr>\n",
       "      <th>std</th>\n",
       "      <td>0.367388</td>\n",
       "      <td>24.424539</td>\n",
       "      <td>30.089324</td>\n",
       "    </tr>\n",
       "    <tr>\n",
       "      <th>min</th>\n",
       "      <td>0.000000</td>\n",
       "      <td>0.000000</td>\n",
       "      <td>18.250000</td>\n",
       "    </tr>\n",
       "    <tr>\n",
       "      <th>25%</th>\n",
       "      <td>0.000000</td>\n",
       "      <td>9.000000</td>\n",
       "      <td>35.750000</td>\n",
       "    </tr>\n",
       "    <tr>\n",
       "      <th>50%</th>\n",
       "      <td>0.000000</td>\n",
       "      <td>29.000000</td>\n",
       "      <td>70.525000</td>\n",
       "    </tr>\n",
       "    <tr>\n",
       "      <th>75%</th>\n",
       "      <td>0.000000</td>\n",
       "      <td>55.000000</td>\n",
       "      <td>89.937500</td>\n",
       "    </tr>\n",
       "    <tr>\n",
       "      <th>max</th>\n",
       "      <td>1.000000</td>\n",
       "      <td>72.000000</td>\n",
       "      <td>118.600000</td>\n",
       "    </tr>\n",
       "  </tbody>\n",
       "</table>\n",
       "</div>"
      ],
      "text/plain": [
       "       SeniorCitizen       tenure  Charges_Month\n",
       "count    5634.000000  5634.000000    5634.000000\n",
       "mean        0.160809    32.373092      64.864253\n",
       "std         0.367388    24.424539      30.089324\n",
       "min         0.000000     0.000000      18.250000\n",
       "25%         0.000000     9.000000      35.750000\n",
       "50%         0.000000    29.000000      70.525000\n",
       "75%         0.000000    55.000000      89.937500\n",
       "max         1.000000    72.000000     118.600000"
      ]
     },
     "execution_count": 5,
     "metadata": {},
     "output_type": "execute_result"
    }
   ],
   "source": [
    "# let's look at the statistical aspects of the dataframe\n",
    "df.describe()"
   ]
  },
  {
   "cell_type": "code",
   "execution_count": 6,
   "id": "1d82fee0-8082-4ab5-af94-18122a6cdbb2",
   "metadata": {},
   "outputs": [
    {
     "name": "stdout",
     "output_type": "stream",
     "text": [
      "<class 'pandas.core.frame.DataFrame'>\n",
      "RangeIndex: 5634 entries, 0 to 5633\n",
      "Data columns (total 21 columns):\n",
      " #   Column            Non-Null Count  Dtype  \n",
      "---  ------            --------------  -----  \n",
      " 0   cID               5634 non-null   object \n",
      " 1   gender            5634 non-null   object \n",
      " 2   SeniorCitizen     5634 non-null   int64  \n",
      " 3   Partner           5634 non-null   object \n",
      " 4   Dependents        5634 non-null   object \n",
      " 5   tenure            5634 non-null   int64  \n",
      " 6   PhoneService      5634 non-null   object \n",
      " 7   MultipleLines     5634 non-null   object \n",
      " 8   InternetService   5634 non-null   object \n",
      " 9   OnlineSecurity    5634 non-null   object \n",
      " 10  OnlineBackup      5634 non-null   object \n",
      " 11  DeviceProtection  5634 non-null   object \n",
      " 12  TechSupport       5634 non-null   object \n",
      " 13  TV_Streaming      5634 non-null   object \n",
      " 14  Movie_Streaming   5634 non-null   object \n",
      " 15  Contract          5634 non-null   object \n",
      " 16  PaperlessBilling  5634 non-null   object \n",
      " 17  Method_Payment    5634 non-null   object \n",
      " 18  Charges_Month     5634 non-null   float64\n",
      " 19  TotalCharges      5634 non-null   object \n",
      " 20  Churn             5634 non-null   object \n",
      "dtypes: float64(1), int64(2), object(18)\n",
      "memory usage: 924.5+ KB\n"
     ]
    }
   ],
   "source": [
    "# Let's see the type of each column\n",
    "df.info()"
   ]
  },
  {
   "cell_type": "markdown",
   "id": "95a774d5-13db-4661-9a20-c6135c5cf75f",
   "metadata": {},
   "source": [
    "## Step 3: Data Preparation"
   ]
  },
  {
   "cell_type": "markdown",
   "id": "a7e7b309-6716-42de-89bc-a728481309f2",
   "metadata": {},
   "source": [
    "### Converting some binary variables (Yes/No) to 0/1"
   ]
  },
  {
   "cell_type": "code",
   "execution_count": 7,
   "id": "6676810e-38c6-40f6-a098-1b6361808c87",
   "metadata": {},
   "outputs": [],
   "source": [
    "# List of variables to map\n",
    "\n",
    "varlist =  ['PhoneService', 'PaperlessBilling', 'Churn', 'Partner', 'Dependents']\n",
    "\n",
    "# Defining the map function\n",
    "def binary_map(x):\n",
    "    return x.map({'Yes': 1, \"No\": 0})\n",
    "\n",
    "# Applying the function to the housing list\n",
    "df[varlist] = df[varlist].apply(binary_map)"
   ]
  },
  {
   "cell_type": "code",
   "execution_count": 8,
   "id": "61fe1c93-9af6-4ec5-b57a-5e0f34d9c6bb",
   "metadata": {},
   "outputs": [
    {
     "data": {
      "text/html": [
       "<div>\n",
       "<style scoped>\n",
       "    .dataframe tbody tr th:only-of-type {\n",
       "        vertical-align: middle;\n",
       "    }\n",
       "\n",
       "    .dataframe tbody tr th {\n",
       "        vertical-align: top;\n",
       "    }\n",
       "\n",
       "    .dataframe thead th {\n",
       "        text-align: right;\n",
       "    }\n",
       "</style>\n",
       "<table border=\"1\" class=\"dataframe\">\n",
       "  <thead>\n",
       "    <tr style=\"text-align: right;\">\n",
       "      <th></th>\n",
       "      <th>cID</th>\n",
       "      <th>gender</th>\n",
       "      <th>SeniorCitizen</th>\n",
       "      <th>Partner</th>\n",
       "      <th>Dependents</th>\n",
       "      <th>tenure</th>\n",
       "      <th>PhoneService</th>\n",
       "      <th>MultipleLines</th>\n",
       "      <th>InternetService</th>\n",
       "      <th>OnlineSecurity</th>\n",
       "      <th>...</th>\n",
       "      <th>DeviceProtection</th>\n",
       "      <th>TechSupport</th>\n",
       "      <th>TV_Streaming</th>\n",
       "      <th>Movie_Streaming</th>\n",
       "      <th>Contract</th>\n",
       "      <th>PaperlessBilling</th>\n",
       "      <th>Method_Payment</th>\n",
       "      <th>Charges_Month</th>\n",
       "      <th>TotalCharges</th>\n",
       "      <th>Churn</th>\n",
       "    </tr>\n",
       "  </thead>\n",
       "  <tbody>\n",
       "    <tr>\n",
       "      <th>0</th>\n",
       "      <td>4223-BKEOR</td>\n",
       "      <td>Female</td>\n",
       "      <td>0</td>\n",
       "      <td>0</td>\n",
       "      <td>1</td>\n",
       "      <td>21</td>\n",
       "      <td>1</td>\n",
       "      <td>No</td>\n",
       "      <td>DSL</td>\n",
       "      <td>Yes</td>\n",
       "      <td>...</td>\n",
       "      <td>Yes</td>\n",
       "      <td>No</td>\n",
       "      <td>No</td>\n",
       "      <td>Yes</td>\n",
       "      <td>One year</td>\n",
       "      <td>0</td>\n",
       "      <td>Mailed check</td>\n",
       "      <td>64.85</td>\n",
       "      <td>1336.8</td>\n",
       "      <td>0</td>\n",
       "    </tr>\n",
       "    <tr>\n",
       "      <th>1</th>\n",
       "      <td>6035-RIIOM</td>\n",
       "      <td>Female</td>\n",
       "      <td>0</td>\n",
       "      <td>0</td>\n",
       "      <td>0</td>\n",
       "      <td>54</td>\n",
       "      <td>1</td>\n",
       "      <td>Yes</td>\n",
       "      <td>Fiber optic</td>\n",
       "      <td>No</td>\n",
       "      <td>...</td>\n",
       "      <td>No</td>\n",
       "      <td>No</td>\n",
       "      <td>Yes</td>\n",
       "      <td>Yes</td>\n",
       "      <td>Two year</td>\n",
       "      <td>1</td>\n",
       "      <td>Bank transfer (automatic)</td>\n",
       "      <td>97.20</td>\n",
       "      <td>5129.45</td>\n",
       "      <td>0</td>\n",
       "    </tr>\n",
       "    <tr>\n",
       "      <th>2</th>\n",
       "      <td>3797-VTIDR</td>\n",
       "      <td>Male</td>\n",
       "      <td>0</td>\n",
       "      <td>1</td>\n",
       "      <td>0</td>\n",
       "      <td>1</td>\n",
       "      <td>0</td>\n",
       "      <td>No phone service</td>\n",
       "      <td>DSL</td>\n",
       "      <td>No</td>\n",
       "      <td>...</td>\n",
       "      <td>No</td>\n",
       "      <td>No</td>\n",
       "      <td>No</td>\n",
       "      <td>No</td>\n",
       "      <td>Month-to-month</td>\n",
       "      <td>1</td>\n",
       "      <td>Electronic check</td>\n",
       "      <td>23.45</td>\n",
       "      <td>23.45</td>\n",
       "      <td>1</td>\n",
       "    </tr>\n",
       "    <tr>\n",
       "      <th>3</th>\n",
       "      <td>2568-BRGYX</td>\n",
       "      <td>Male</td>\n",
       "      <td>0</td>\n",
       "      <td>0</td>\n",
       "      <td>0</td>\n",
       "      <td>4</td>\n",
       "      <td>1</td>\n",
       "      <td>No</td>\n",
       "      <td>Fiber optic</td>\n",
       "      <td>No</td>\n",
       "      <td>...</td>\n",
       "      <td>No</td>\n",
       "      <td>No</td>\n",
       "      <td>No</td>\n",
       "      <td>No</td>\n",
       "      <td>Month-to-month</td>\n",
       "      <td>1</td>\n",
       "      <td>Electronic check</td>\n",
       "      <td>70.20</td>\n",
       "      <td>237.95</td>\n",
       "      <td>1</td>\n",
       "    </tr>\n",
       "    <tr>\n",
       "      <th>4</th>\n",
       "      <td>2775-SEFEE</td>\n",
       "      <td>Male</td>\n",
       "      <td>0</td>\n",
       "      <td>0</td>\n",
       "      <td>1</td>\n",
       "      <td>0</td>\n",
       "      <td>1</td>\n",
       "      <td>Yes</td>\n",
       "      <td>DSL</td>\n",
       "      <td>Yes</td>\n",
       "      <td>...</td>\n",
       "      <td>No</td>\n",
       "      <td>Yes</td>\n",
       "      <td>No</td>\n",
       "      <td>No</td>\n",
       "      <td>Two year</td>\n",
       "      <td>1</td>\n",
       "      <td>Bank transfer (automatic)</td>\n",
       "      <td>61.90</td>\n",
       "      <td></td>\n",
       "      <td>0</td>\n",
       "    </tr>\n",
       "  </tbody>\n",
       "</table>\n",
       "<p>5 rows × 21 columns</p>\n",
       "</div>"
      ],
      "text/plain": [
       "          cID  gender  SeniorCitizen  Partner  Dependents  tenure  \\\n",
       "0  4223-BKEOR  Female              0        0           1      21   \n",
       "1  6035-RIIOM  Female              0        0           0      54   \n",
       "2  3797-VTIDR    Male              0        1           0       1   \n",
       "3  2568-BRGYX    Male              0        0           0       4   \n",
       "4  2775-SEFEE    Male              0        0           1       0   \n",
       "\n",
       "   PhoneService     MultipleLines InternetService OnlineSecurity  ...  \\\n",
       "0             1                No             DSL            Yes  ...   \n",
       "1             1               Yes     Fiber optic             No  ...   \n",
       "2             0  No phone service             DSL             No  ...   \n",
       "3             1                No     Fiber optic             No  ...   \n",
       "4             1               Yes             DSL            Yes  ...   \n",
       "\n",
       "  DeviceProtection TechSupport TV_Streaming Movie_Streaming        Contract  \\\n",
       "0              Yes          No           No             Yes        One year   \n",
       "1               No          No          Yes             Yes        Two year   \n",
       "2               No          No           No              No  Month-to-month   \n",
       "3               No          No           No              No  Month-to-month   \n",
       "4               No         Yes           No              No        Two year   \n",
       "\n",
       "  PaperlessBilling             Method_Payment Charges_Month  TotalCharges  \\\n",
       "0                0               Mailed check         64.85        1336.8   \n",
       "1                1  Bank transfer (automatic)         97.20       5129.45   \n",
       "2                1           Electronic check         23.45         23.45   \n",
       "3                1           Electronic check         70.20        237.95   \n",
       "4                1  Bank transfer (automatic)         61.90                 \n",
       "\n",
       "  Churn  \n",
       "0     0  \n",
       "1     0  \n",
       "2     1  \n",
       "3     1  \n",
       "4     0  \n",
       "\n",
       "[5 rows x 21 columns]"
      ]
     },
     "execution_count": 8,
     "metadata": {},
     "output_type": "execute_result"
    }
   ],
   "source": [
    "df.head()"
   ]
  },
  {
   "cell_type": "markdown",
   "id": "35fa8968-e108-470e-9c5f-ce4657aa30b9",
   "metadata": {},
   "source": [
    "#### For categorical variables with multiple levels, create dummy features (one-hot encoded)"
   ]
  },
  {
   "cell_type": "code",
   "execution_count": 9,
   "id": "58bd5363-6f97-4ef2-928c-1ad15db4c6f9",
   "metadata": {},
   "outputs": [],
   "source": [
    "# Creating a dummy variable for some of the categorical variables and dropping the first one.\n",
    "dummy1 = pd.get_dummies(df[['Contract', 'Method_Payment', 'gender', 'InternetService']], drop_first=True)\n",
    "\n",
    "# Adding the results to the master dataframe\n",
    "df = pd.concat([df, dummy1], axis=1)"
   ]
  },
  {
   "cell_type": "code",
   "execution_count": 10,
   "id": "8481b8c3-6d4a-4f07-aff9-84c3b338634b",
   "metadata": {},
   "outputs": [
    {
     "data": {
      "text/html": [
       "<div>\n",
       "<style scoped>\n",
       "    .dataframe tbody tr th:only-of-type {\n",
       "        vertical-align: middle;\n",
       "    }\n",
       "\n",
       "    .dataframe tbody tr th {\n",
       "        vertical-align: top;\n",
       "    }\n",
       "\n",
       "    .dataframe thead th {\n",
       "        text-align: right;\n",
       "    }\n",
       "</style>\n",
       "<table border=\"1\" class=\"dataframe\">\n",
       "  <thead>\n",
       "    <tr style=\"text-align: right;\">\n",
       "      <th></th>\n",
       "      <th>cID</th>\n",
       "      <th>gender</th>\n",
       "      <th>SeniorCitizen</th>\n",
       "      <th>Partner</th>\n",
       "      <th>Dependents</th>\n",
       "      <th>tenure</th>\n",
       "      <th>PhoneService</th>\n",
       "      <th>MultipleLines</th>\n",
       "      <th>InternetService</th>\n",
       "      <th>OnlineSecurity</th>\n",
       "      <th>...</th>\n",
       "      <th>TotalCharges</th>\n",
       "      <th>Churn</th>\n",
       "      <th>Contract_One year</th>\n",
       "      <th>Contract_Two year</th>\n",
       "      <th>Method_Payment_Credit card (automatic)</th>\n",
       "      <th>Method_Payment_Electronic check</th>\n",
       "      <th>Method_Payment_Mailed check</th>\n",
       "      <th>gender_Male</th>\n",
       "      <th>InternetService_Fiber optic</th>\n",
       "      <th>InternetService_No</th>\n",
       "    </tr>\n",
       "  </thead>\n",
       "  <tbody>\n",
       "    <tr>\n",
       "      <th>0</th>\n",
       "      <td>4223-BKEOR</td>\n",
       "      <td>Female</td>\n",
       "      <td>0</td>\n",
       "      <td>0</td>\n",
       "      <td>1</td>\n",
       "      <td>21</td>\n",
       "      <td>1</td>\n",
       "      <td>No</td>\n",
       "      <td>DSL</td>\n",
       "      <td>Yes</td>\n",
       "      <td>...</td>\n",
       "      <td>1336.8</td>\n",
       "      <td>0</td>\n",
       "      <td>True</td>\n",
       "      <td>False</td>\n",
       "      <td>False</td>\n",
       "      <td>False</td>\n",
       "      <td>True</td>\n",
       "      <td>False</td>\n",
       "      <td>False</td>\n",
       "      <td>False</td>\n",
       "    </tr>\n",
       "    <tr>\n",
       "      <th>1</th>\n",
       "      <td>6035-RIIOM</td>\n",
       "      <td>Female</td>\n",
       "      <td>0</td>\n",
       "      <td>0</td>\n",
       "      <td>0</td>\n",
       "      <td>54</td>\n",
       "      <td>1</td>\n",
       "      <td>Yes</td>\n",
       "      <td>Fiber optic</td>\n",
       "      <td>No</td>\n",
       "      <td>...</td>\n",
       "      <td>5129.45</td>\n",
       "      <td>0</td>\n",
       "      <td>False</td>\n",
       "      <td>True</td>\n",
       "      <td>False</td>\n",
       "      <td>False</td>\n",
       "      <td>False</td>\n",
       "      <td>False</td>\n",
       "      <td>True</td>\n",
       "      <td>False</td>\n",
       "    </tr>\n",
       "    <tr>\n",
       "      <th>2</th>\n",
       "      <td>3797-VTIDR</td>\n",
       "      <td>Male</td>\n",
       "      <td>0</td>\n",
       "      <td>1</td>\n",
       "      <td>0</td>\n",
       "      <td>1</td>\n",
       "      <td>0</td>\n",
       "      <td>No phone service</td>\n",
       "      <td>DSL</td>\n",
       "      <td>No</td>\n",
       "      <td>...</td>\n",
       "      <td>23.45</td>\n",
       "      <td>1</td>\n",
       "      <td>False</td>\n",
       "      <td>False</td>\n",
       "      <td>False</td>\n",
       "      <td>True</td>\n",
       "      <td>False</td>\n",
       "      <td>True</td>\n",
       "      <td>False</td>\n",
       "      <td>False</td>\n",
       "    </tr>\n",
       "    <tr>\n",
       "      <th>3</th>\n",
       "      <td>2568-BRGYX</td>\n",
       "      <td>Male</td>\n",
       "      <td>0</td>\n",
       "      <td>0</td>\n",
       "      <td>0</td>\n",
       "      <td>4</td>\n",
       "      <td>1</td>\n",
       "      <td>No</td>\n",
       "      <td>Fiber optic</td>\n",
       "      <td>No</td>\n",
       "      <td>...</td>\n",
       "      <td>237.95</td>\n",
       "      <td>1</td>\n",
       "      <td>False</td>\n",
       "      <td>False</td>\n",
       "      <td>False</td>\n",
       "      <td>True</td>\n",
       "      <td>False</td>\n",
       "      <td>True</td>\n",
       "      <td>True</td>\n",
       "      <td>False</td>\n",
       "    </tr>\n",
       "    <tr>\n",
       "      <th>4</th>\n",
       "      <td>2775-SEFEE</td>\n",
       "      <td>Male</td>\n",
       "      <td>0</td>\n",
       "      <td>0</td>\n",
       "      <td>1</td>\n",
       "      <td>0</td>\n",
       "      <td>1</td>\n",
       "      <td>Yes</td>\n",
       "      <td>DSL</td>\n",
       "      <td>Yes</td>\n",
       "      <td>...</td>\n",
       "      <td></td>\n",
       "      <td>0</td>\n",
       "      <td>False</td>\n",
       "      <td>True</td>\n",
       "      <td>False</td>\n",
       "      <td>False</td>\n",
       "      <td>False</td>\n",
       "      <td>True</td>\n",
       "      <td>False</td>\n",
       "      <td>False</td>\n",
       "    </tr>\n",
       "  </tbody>\n",
       "</table>\n",
       "<p>5 rows × 29 columns</p>\n",
       "</div>"
      ],
      "text/plain": [
       "          cID  gender  SeniorCitizen  Partner  Dependents  tenure  \\\n",
       "0  4223-BKEOR  Female              0        0           1      21   \n",
       "1  6035-RIIOM  Female              0        0           0      54   \n",
       "2  3797-VTIDR    Male              0        1           0       1   \n",
       "3  2568-BRGYX    Male              0        0           0       4   \n",
       "4  2775-SEFEE    Male              0        0           1       0   \n",
       "\n",
       "   PhoneService     MultipleLines InternetService OnlineSecurity  ...  \\\n",
       "0             1                No             DSL            Yes  ...   \n",
       "1             1               Yes     Fiber optic             No  ...   \n",
       "2             0  No phone service             DSL             No  ...   \n",
       "3             1                No     Fiber optic             No  ...   \n",
       "4             1               Yes             DSL            Yes  ...   \n",
       "\n",
       "  TotalCharges Churn Contract_One year Contract_Two year  \\\n",
       "0       1336.8     0              True             False   \n",
       "1      5129.45     0             False              True   \n",
       "2        23.45     1             False             False   \n",
       "3       237.95     1             False             False   \n",
       "4                  0             False              True   \n",
       "\n",
       "  Method_Payment_Credit card (automatic) Method_Payment_Electronic check  \\\n",
       "0                                  False                           False   \n",
       "1                                  False                           False   \n",
       "2                                  False                            True   \n",
       "3                                  False                            True   \n",
       "4                                  False                           False   \n",
       "\n",
       "   Method_Payment_Mailed check gender_Male  InternetService_Fiber optic  \\\n",
       "0                         True       False                        False   \n",
       "1                        False       False                         True   \n",
       "2                        False        True                        False   \n",
       "3                        False        True                         True   \n",
       "4                        False        True                        False   \n",
       "\n",
       "  InternetService_No  \n",
       "0              False  \n",
       "1              False  \n",
       "2              False  \n",
       "3              False  \n",
       "4              False  \n",
       "\n",
       "[5 rows x 29 columns]"
      ]
     },
     "execution_count": 10,
     "metadata": {},
     "output_type": "execute_result"
    }
   ],
   "source": [
    "df.head()"
   ]
  },
  {
   "cell_type": "code",
   "execution_count": 11,
   "id": "a753f7b0-eed1-4261-8f3b-3314927ce9db",
   "metadata": {},
   "outputs": [],
   "source": [
    "# Creating dummy variables for the remaining categorical variables and dropping the level with big names.\n",
    "\n",
    "# Creating dummy variables for the variable 'MultipleLines'\n",
    "ml = pd.get_dummies(df['MultipleLines'], prefix='MultipleLines')\n",
    "# Dropping MultipleLines_No phone service column\n",
    "ml1 = ml.drop(['MultipleLines_No phone service'], axis=1)\n",
    "#Adding the results to the master dataframe\n",
    "df = pd.concat([df,ml1], axis=1)\n",
    "\n",
    "# Creating dummy variables for the variable 'OnlineSecurity'.\n",
    "os = pd.get_dummies(df['OnlineSecurity'], prefix='OnlineSecurity')\n",
    "os1 = os.drop(['OnlineSecurity_No internet service'], axis=1)\n",
    "# Adding the results to the master dataframe\n",
    "df = pd.concat([df,os1], axis=1)\n",
    "\n",
    "# Creating dummy variables for the variable 'OnlineBackup'.\n",
    "ob = pd.get_dummies(df['OnlineBackup'], prefix='OnlineBackup')\n",
    "ob1 = ob.drop(['OnlineBackup_No internet service'], axis=1)\n",
    "# Adding the results to the master dataframe\n",
    "df = pd.concat([df,ob1], axis=1)\n",
    "\n",
    "# Creating dummy variables for the variable 'DeviceProtection'. \n",
    "dp = pd.get_dummies(df['DeviceProtection'], prefix='DeviceProtection')\n",
    "dp1 = dp.drop(['DeviceProtection_No internet service'], axis=1)\n",
    "# Adding the results to the master dataframe\n",
    "df = pd.concat([df,dp1], axis=1)\n",
    "\n",
    "# Creating dummy variables for the variable 'TechSupport'. \n",
    "ts = pd.get_dummies(df['TechSupport'], prefix='TechSupport')\n",
    "ts1 = ts.drop(['TechSupport_No internet service'], axis=1)\n",
    "# Adding the results to the master dataframe\n",
    "df = pd.concat([df,ts1], axis=1)\n",
    "\n",
    "# Creating dummy variables for the variable 'StreamingTV'.\n",
    "st =pd.get_dummies(df['TV_Streaming'], prefix='TV_Streaming')\n",
    "st1 = st.drop(['TV_Streaming_No internet service'], axis=1)\n",
    "# Adding the results to the master dataframe\n",
    "df = pd.concat([df,st1], axis=1)\n",
    "\n",
    "# Creating dummy variables for the variable 'StreamingMovies'. \n",
    "sm = pd.get_dummies(df['Movie_Streaming'], prefix='Movie_Streaming')\n",
    "sm1 = sm.drop(['Movie_Streaming_No internet service'], axis=1)\n",
    "# Adding the results to the master dataframe\n",
    "df = pd.concat([df,sm1], axis=1)"
   ]
  },
  {
   "cell_type": "code",
   "execution_count": 12,
   "id": "7f4b9268-94ea-4ccb-93c2-a909c32747d7",
   "metadata": {},
   "outputs": [
    {
     "data": {
      "text/html": [
       "<div>\n",
       "<style scoped>\n",
       "    .dataframe tbody tr th:only-of-type {\n",
       "        vertical-align: middle;\n",
       "    }\n",
       "\n",
       "    .dataframe tbody tr th {\n",
       "        vertical-align: top;\n",
       "    }\n",
       "\n",
       "    .dataframe thead th {\n",
       "        text-align: right;\n",
       "    }\n",
       "</style>\n",
       "<table border=\"1\" class=\"dataframe\">\n",
       "  <thead>\n",
       "    <tr style=\"text-align: right;\">\n",
       "      <th></th>\n",
       "      <th>cID</th>\n",
       "      <th>gender</th>\n",
       "      <th>SeniorCitizen</th>\n",
       "      <th>Partner</th>\n",
       "      <th>Dependents</th>\n",
       "      <th>tenure</th>\n",
       "      <th>PhoneService</th>\n",
       "      <th>MultipleLines</th>\n",
       "      <th>InternetService</th>\n",
       "      <th>OnlineSecurity</th>\n",
       "      <th>...</th>\n",
       "      <th>OnlineBackup_No</th>\n",
       "      <th>OnlineBackup_Yes</th>\n",
       "      <th>DeviceProtection_No</th>\n",
       "      <th>DeviceProtection_Yes</th>\n",
       "      <th>TechSupport_No</th>\n",
       "      <th>TechSupport_Yes</th>\n",
       "      <th>TV_Streaming_No</th>\n",
       "      <th>TV_Streaming_Yes</th>\n",
       "      <th>Movie_Streaming_No</th>\n",
       "      <th>Movie_Streaming_Yes</th>\n",
       "    </tr>\n",
       "  </thead>\n",
       "  <tbody>\n",
       "    <tr>\n",
       "      <th>0</th>\n",
       "      <td>4223-BKEOR</td>\n",
       "      <td>Female</td>\n",
       "      <td>0</td>\n",
       "      <td>0</td>\n",
       "      <td>1</td>\n",
       "      <td>21</td>\n",
       "      <td>1</td>\n",
       "      <td>No</td>\n",
       "      <td>DSL</td>\n",
       "      <td>Yes</td>\n",
       "      <td>...</td>\n",
       "      <td>True</td>\n",
       "      <td>False</td>\n",
       "      <td>False</td>\n",
       "      <td>True</td>\n",
       "      <td>True</td>\n",
       "      <td>False</td>\n",
       "      <td>True</td>\n",
       "      <td>False</td>\n",
       "      <td>False</td>\n",
       "      <td>True</td>\n",
       "    </tr>\n",
       "    <tr>\n",
       "      <th>1</th>\n",
       "      <td>6035-RIIOM</td>\n",
       "      <td>Female</td>\n",
       "      <td>0</td>\n",
       "      <td>0</td>\n",
       "      <td>0</td>\n",
       "      <td>54</td>\n",
       "      <td>1</td>\n",
       "      <td>Yes</td>\n",
       "      <td>Fiber optic</td>\n",
       "      <td>No</td>\n",
       "      <td>...</td>\n",
       "      <td>False</td>\n",
       "      <td>True</td>\n",
       "      <td>True</td>\n",
       "      <td>False</td>\n",
       "      <td>True</td>\n",
       "      <td>False</td>\n",
       "      <td>False</td>\n",
       "      <td>True</td>\n",
       "      <td>False</td>\n",
       "      <td>True</td>\n",
       "    </tr>\n",
       "    <tr>\n",
       "      <th>2</th>\n",
       "      <td>3797-VTIDR</td>\n",
       "      <td>Male</td>\n",
       "      <td>0</td>\n",
       "      <td>1</td>\n",
       "      <td>0</td>\n",
       "      <td>1</td>\n",
       "      <td>0</td>\n",
       "      <td>No phone service</td>\n",
       "      <td>DSL</td>\n",
       "      <td>No</td>\n",
       "      <td>...</td>\n",
       "      <td>True</td>\n",
       "      <td>False</td>\n",
       "      <td>True</td>\n",
       "      <td>False</td>\n",
       "      <td>True</td>\n",
       "      <td>False</td>\n",
       "      <td>True</td>\n",
       "      <td>False</td>\n",
       "      <td>True</td>\n",
       "      <td>False</td>\n",
       "    </tr>\n",
       "    <tr>\n",
       "      <th>3</th>\n",
       "      <td>2568-BRGYX</td>\n",
       "      <td>Male</td>\n",
       "      <td>0</td>\n",
       "      <td>0</td>\n",
       "      <td>0</td>\n",
       "      <td>4</td>\n",
       "      <td>1</td>\n",
       "      <td>No</td>\n",
       "      <td>Fiber optic</td>\n",
       "      <td>No</td>\n",
       "      <td>...</td>\n",
       "      <td>True</td>\n",
       "      <td>False</td>\n",
       "      <td>True</td>\n",
       "      <td>False</td>\n",
       "      <td>True</td>\n",
       "      <td>False</td>\n",
       "      <td>True</td>\n",
       "      <td>False</td>\n",
       "      <td>True</td>\n",
       "      <td>False</td>\n",
       "    </tr>\n",
       "    <tr>\n",
       "      <th>4</th>\n",
       "      <td>2775-SEFEE</td>\n",
       "      <td>Male</td>\n",
       "      <td>0</td>\n",
       "      <td>0</td>\n",
       "      <td>1</td>\n",
       "      <td>0</td>\n",
       "      <td>1</td>\n",
       "      <td>Yes</td>\n",
       "      <td>DSL</td>\n",
       "      <td>Yes</td>\n",
       "      <td>...</td>\n",
       "      <td>False</td>\n",
       "      <td>True</td>\n",
       "      <td>True</td>\n",
       "      <td>False</td>\n",
       "      <td>False</td>\n",
       "      <td>True</td>\n",
       "      <td>True</td>\n",
       "      <td>False</td>\n",
       "      <td>True</td>\n",
       "      <td>False</td>\n",
       "    </tr>\n",
       "  </tbody>\n",
       "</table>\n",
       "<p>5 rows × 43 columns</p>\n",
       "</div>"
      ],
      "text/plain": [
       "          cID  gender  SeniorCitizen  Partner  Dependents  tenure  \\\n",
       "0  4223-BKEOR  Female              0        0           1      21   \n",
       "1  6035-RIIOM  Female              0        0           0      54   \n",
       "2  3797-VTIDR    Male              0        1           0       1   \n",
       "3  2568-BRGYX    Male              0        0           0       4   \n",
       "4  2775-SEFEE    Male              0        0           1       0   \n",
       "\n",
       "   PhoneService     MultipleLines InternetService OnlineSecurity  ...  \\\n",
       "0             1                No             DSL            Yes  ...   \n",
       "1             1               Yes     Fiber optic             No  ...   \n",
       "2             0  No phone service             DSL             No  ...   \n",
       "3             1                No     Fiber optic             No  ...   \n",
       "4             1               Yes             DSL            Yes  ...   \n",
       "\n",
       "  OnlineBackup_No OnlineBackup_Yes DeviceProtection_No DeviceProtection_Yes  \\\n",
       "0            True            False               False                 True   \n",
       "1           False             True                True                False   \n",
       "2            True            False                True                False   \n",
       "3            True            False                True                False   \n",
       "4           False             True                True                False   \n",
       "\n",
       "  TechSupport_No TechSupport_Yes  TV_Streaming_No TV_Streaming_Yes  \\\n",
       "0           True           False             True            False   \n",
       "1           True           False            False             True   \n",
       "2           True           False             True            False   \n",
       "3           True           False             True            False   \n",
       "4          False            True             True            False   \n",
       "\n",
       "   Movie_Streaming_No Movie_Streaming_Yes  \n",
       "0               False                True  \n",
       "1               False                True  \n",
       "2                True               False  \n",
       "3                True               False  \n",
       "4                True               False  \n",
       "\n",
       "[5 rows x 43 columns]"
      ]
     },
     "execution_count": 12,
     "metadata": {},
     "output_type": "execute_result"
    }
   ],
   "source": [
    "df.head()"
   ]
  },
  {
   "cell_type": "markdown",
   "id": "48d8657d-bf2d-4d40-ab95-ff2e99ecd9a5",
   "metadata": {},
   "source": [
    "### Dropping the repeated variables"
   ]
  },
  {
   "cell_type": "code",
   "execution_count": 13,
   "id": "58e7279a-814f-43eb-adee-4f4c2e7e7d74",
   "metadata": {},
   "outputs": [],
   "source": [
    "# We have created dummies for the below variables, so we can drop them\n",
    "df = df.drop(['Contract','Method_Payment','gender','MultipleLines','InternetService', 'OnlineSecurity', 'OnlineBackup', 'DeviceProtection',\n",
    "       'TechSupport', 'TV_Streaming', 'Movie_Streaming'], axis=1)"
   ]
  },
  {
   "cell_type": "code",
   "execution_count": 14,
   "id": "1a79a6a8-523a-4b7f-926f-d4f7dba064bc",
   "metadata": {},
   "outputs": [],
   "source": [
    "#The varaible was imported as a string we need to convert it to float\n",
    "df['TotalCharges'] = pd.to_numeric(df['TotalCharges'], errors='coerce')\n"
   ]
  },
  {
   "cell_type": "code",
   "execution_count": 15,
   "id": "fcf294db-70dc-46d1-8c7d-acd819477bf2",
   "metadata": {},
   "outputs": [
    {
     "name": "stdout",
     "output_type": "stream",
     "text": [
      "<class 'pandas.core.frame.DataFrame'>\n",
      "RangeIndex: 5634 entries, 0 to 5633\n",
      "Data columns (total 32 columns):\n",
      " #   Column                                  Non-Null Count  Dtype  \n",
      "---  ------                                  --------------  -----  \n",
      " 0   cID                                     5634 non-null   object \n",
      " 1   SeniorCitizen                           5634 non-null   int64  \n",
      " 2   Partner                                 5634 non-null   int64  \n",
      " 3   Dependents                              5634 non-null   int64  \n",
      " 4   tenure                                  5634 non-null   int64  \n",
      " 5   PhoneService                            5634 non-null   int64  \n",
      " 6   PaperlessBilling                        5634 non-null   int64  \n",
      " 7   Charges_Month                           5634 non-null   float64\n",
      " 8   TotalCharges                            5624 non-null   float64\n",
      " 9   Churn                                   5634 non-null   int64  \n",
      " 10  Contract_One year                       5634 non-null   bool   \n",
      " 11  Contract_Two year                       5634 non-null   bool   \n",
      " 12  Method_Payment_Credit card (automatic)  5634 non-null   bool   \n",
      " 13  Method_Payment_Electronic check         5634 non-null   bool   \n",
      " 14  Method_Payment_Mailed check             5634 non-null   bool   \n",
      " 15  gender_Male                             5634 non-null   bool   \n",
      " 16  InternetService_Fiber optic             5634 non-null   bool   \n",
      " 17  InternetService_No                      5634 non-null   bool   \n",
      " 18  MultipleLines_No                        5634 non-null   bool   \n",
      " 19  MultipleLines_Yes                       5634 non-null   bool   \n",
      " 20  OnlineSecurity_No                       5634 non-null   bool   \n",
      " 21  OnlineSecurity_Yes                      5634 non-null   bool   \n",
      " 22  OnlineBackup_No                         5634 non-null   bool   \n",
      " 23  OnlineBackup_Yes                        5634 non-null   bool   \n",
      " 24  DeviceProtection_No                     5634 non-null   bool   \n",
      " 25  DeviceProtection_Yes                    5634 non-null   bool   \n",
      " 26  TechSupport_No                          5634 non-null   bool   \n",
      " 27  TechSupport_Yes                         5634 non-null   bool   \n",
      " 28  TV_Streaming_No                         5634 non-null   bool   \n",
      " 29  TV_Streaming_Yes                        5634 non-null   bool   \n",
      " 30  Movie_Streaming_No                      5634 non-null   bool   \n",
      " 31  Movie_Streaming_Yes                     5634 non-null   bool   \n",
      "dtypes: bool(22), float64(2), int64(7), object(1)\n",
      "memory usage: 561.3+ KB\n"
     ]
    }
   ],
   "source": [
    "df.info()"
   ]
  },
  {
   "cell_type": "markdown",
   "id": "8b20b2ba-1b7d-49c7-88a6-f1af721e60ea",
   "metadata": {},
   "source": [
    "### Checking for Outliers"
   ]
  },
  {
   "cell_type": "code",
   "execution_count": 16,
   "id": "46ac6d81-4826-404a-a257-5941a04e8a67",
   "metadata": {},
   "outputs": [],
   "source": [
    "# Checking for outliers in the continuous variables\n",
    "num_df = df[['tenure','Charges_Month','SeniorCitizen','TotalCharges']]"
   ]
  },
  {
   "cell_type": "code",
   "execution_count": 17,
   "id": "7873f31d-4793-4333-8ef2-9511769c41a8",
   "metadata": {},
   "outputs": [
    {
     "data": {
      "text/html": [
       "<div>\n",
       "<style scoped>\n",
       "    .dataframe tbody tr th:only-of-type {\n",
       "        vertical-align: middle;\n",
       "    }\n",
       "\n",
       "    .dataframe tbody tr th {\n",
       "        vertical-align: top;\n",
       "    }\n",
       "\n",
       "    .dataframe thead th {\n",
       "        text-align: right;\n",
       "    }\n",
       "</style>\n",
       "<table border=\"1\" class=\"dataframe\">\n",
       "  <thead>\n",
       "    <tr style=\"text-align: right;\">\n",
       "      <th></th>\n",
       "      <th>tenure</th>\n",
       "      <th>Charges_Month</th>\n",
       "      <th>SeniorCitizen</th>\n",
       "      <th>TotalCharges</th>\n",
       "    </tr>\n",
       "  </thead>\n",
       "  <tbody>\n",
       "    <tr>\n",
       "      <th>count</th>\n",
       "      <td>5634.000000</td>\n",
       "      <td>5634.000000</td>\n",
       "      <td>5634.000000</td>\n",
       "      <td>5624.000000</td>\n",
       "    </tr>\n",
       "    <tr>\n",
       "      <th>mean</th>\n",
       "      <td>32.373092</td>\n",
       "      <td>64.864253</td>\n",
       "      <td>0.160809</td>\n",
       "      <td>2291.154605</td>\n",
       "    </tr>\n",
       "    <tr>\n",
       "      <th>std</th>\n",
       "      <td>24.424539</td>\n",
       "      <td>30.089324</td>\n",
       "      <td>0.367388</td>\n",
       "      <td>2263.151534</td>\n",
       "    </tr>\n",
       "    <tr>\n",
       "      <th>min</th>\n",
       "      <td>0.000000</td>\n",
       "      <td>18.250000</td>\n",
       "      <td>0.000000</td>\n",
       "      <td>18.800000</td>\n",
       "    </tr>\n",
       "    <tr>\n",
       "      <th>25%</th>\n",
       "      <td>9.000000</td>\n",
       "      <td>35.750000</td>\n",
       "      <td>0.000000</td>\n",
       "      <td>411.512500</td>\n",
       "    </tr>\n",
       "    <tr>\n",
       "      <th>50%</th>\n",
       "      <td>29.000000</td>\n",
       "      <td>70.525000</td>\n",
       "      <td>0.000000</td>\n",
       "      <td>1410.800000</td>\n",
       "    </tr>\n",
       "    <tr>\n",
       "      <th>75%</th>\n",
       "      <td>55.000000</td>\n",
       "      <td>89.937500</td>\n",
       "      <td>0.000000</td>\n",
       "      <td>3808.850000</td>\n",
       "    </tr>\n",
       "    <tr>\n",
       "      <th>90%</th>\n",
       "      <td>69.000000</td>\n",
       "      <td>102.600000</td>\n",
       "      <td>1.000000</td>\n",
       "      <td>5980.690000</td>\n",
       "    </tr>\n",
       "    <tr>\n",
       "      <th>95%</th>\n",
       "      <td>72.000000</td>\n",
       "      <td>107.017500</td>\n",
       "      <td>1.000000</td>\n",
       "      <td>6889.970000</td>\n",
       "    </tr>\n",
       "    <tr>\n",
       "      <th>99%</th>\n",
       "      <td>72.000000</td>\n",
       "      <td>114.733500</td>\n",
       "      <td>1.000000</td>\n",
       "      <td>8013.366000</td>\n",
       "    </tr>\n",
       "    <tr>\n",
       "      <th>max</th>\n",
       "      <td>72.000000</td>\n",
       "      <td>118.600000</td>\n",
       "      <td>1.000000</td>\n",
       "      <td>8684.800000</td>\n",
       "    </tr>\n",
       "  </tbody>\n",
       "</table>\n",
       "</div>"
      ],
      "text/plain": [
       "            tenure  Charges_Month  SeniorCitizen  TotalCharges\n",
       "count  5634.000000    5634.000000    5634.000000   5624.000000\n",
       "mean     32.373092      64.864253       0.160809   2291.154605\n",
       "std      24.424539      30.089324       0.367388   2263.151534\n",
       "min       0.000000      18.250000       0.000000     18.800000\n",
       "25%       9.000000      35.750000       0.000000    411.512500\n",
       "50%      29.000000      70.525000       0.000000   1410.800000\n",
       "75%      55.000000      89.937500       0.000000   3808.850000\n",
       "90%      69.000000     102.600000       1.000000   5980.690000\n",
       "95%      72.000000     107.017500       1.000000   6889.970000\n",
       "99%      72.000000     114.733500       1.000000   8013.366000\n",
       "max      72.000000     118.600000       1.000000   8684.800000"
      ]
     },
     "execution_count": 17,
     "metadata": {},
     "output_type": "execute_result"
    }
   ],
   "source": [
    "# Checking outliers at 25%, 50%, 75%, 90%, 95% and 99%\n",
    "num_df.describe(percentiles=[.25, .5, .75, .90, .95, .99])"
   ]
  },
  {
   "cell_type": "markdown",
   "id": "da734280-a874-4352-8955-e54a31599e4d",
   "metadata": {},
   "source": [
    "### Checking for Missing Values and Inputing Them"
   ]
  },
  {
   "cell_type": "code",
   "execution_count": 18,
   "id": "dc8ad34b-6ed0-46a4-8c8b-5ad92ab6c9de",
   "metadata": {},
   "outputs": [
    {
     "data": {
      "text/plain": [
       "cID                                        0\n",
       "SeniorCitizen                              0\n",
       "Partner                                    0\n",
       "Dependents                                 0\n",
       "tenure                                     0\n",
       "PhoneService                               0\n",
       "PaperlessBilling                           0\n",
       "Charges_Month                              0\n",
       "TotalCharges                              10\n",
       "Churn                                      0\n",
       "Contract_One year                          0\n",
       "Contract_Two year                          0\n",
       "Method_Payment_Credit card (automatic)     0\n",
       "Method_Payment_Electronic check            0\n",
       "Method_Payment_Mailed check                0\n",
       "gender_Male                                0\n",
       "InternetService_Fiber optic                0\n",
       "InternetService_No                         0\n",
       "MultipleLines_No                           0\n",
       "MultipleLines_Yes                          0\n",
       "OnlineSecurity_No                          0\n",
       "OnlineSecurity_Yes                         0\n",
       "OnlineBackup_No                            0\n",
       "OnlineBackup_Yes                           0\n",
       "DeviceProtection_No                        0\n",
       "DeviceProtection_Yes                       0\n",
       "TechSupport_No                             0\n",
       "TechSupport_Yes                            0\n",
       "TV_Streaming_No                            0\n",
       "TV_Streaming_Yes                           0\n",
       "Movie_Streaming_No                         0\n",
       "Movie_Streaming_Yes                        0\n",
       "dtype: int64"
      ]
     },
     "execution_count": 18,
     "metadata": {},
     "output_type": "execute_result"
    }
   ],
   "source": [
    "# Adding up the missing values (column-wise)\n",
    "df.isnull().sum()"
   ]
  },
  {
   "cell_type": "markdown",
   "id": "2083d0a3-3d5a-4ede-8d02-10539343c36c",
   "metadata": {},
   "source": [
    "It means that 10/5634 = 0.00177493787 i.e < 0.1%, best is to remove these observations from the analysis"
   ]
  },
  {
   "cell_type": "code",
   "execution_count": 19,
   "id": "6302770d-4331-4275-808b-e7fcc5e4c22c",
   "metadata": {},
   "outputs": [
    {
     "data": {
      "text/plain": [
       "cID                                       0.00\n",
       "SeniorCitizen                             0.00\n",
       "Partner                                   0.00\n",
       "Dependents                                0.00\n",
       "tenure                                    0.00\n",
       "PhoneService                              0.00\n",
       "PaperlessBilling                          0.00\n",
       "Charges_Month                             0.00\n",
       "TotalCharges                              0.18\n",
       "Churn                                     0.00\n",
       "Contract_One year                         0.00\n",
       "Contract_Two year                         0.00\n",
       "Method_Payment_Credit card (automatic)    0.00\n",
       "Method_Payment_Electronic check           0.00\n",
       "Method_Payment_Mailed check               0.00\n",
       "gender_Male                               0.00\n",
       "InternetService_Fiber optic               0.00\n",
       "InternetService_No                        0.00\n",
       "MultipleLines_No                          0.00\n",
       "MultipleLines_Yes                         0.00\n",
       "OnlineSecurity_No                         0.00\n",
       "OnlineSecurity_Yes                        0.00\n",
       "OnlineBackup_No                           0.00\n",
       "OnlineBackup_Yes                          0.00\n",
       "DeviceProtection_No                       0.00\n",
       "DeviceProtection_Yes                      0.00\n",
       "TechSupport_No                            0.00\n",
       "TechSupport_Yes                           0.00\n",
       "TV_Streaming_No                           0.00\n",
       "TV_Streaming_Yes                          0.00\n",
       "Movie_Streaming_No                        0.00\n",
       "Movie_Streaming_Yes                       0.00\n",
       "dtype: float64"
      ]
     },
     "execution_count": 19,
     "metadata": {},
     "output_type": "execute_result"
    }
   ],
   "source": [
    "# Checking the percentage of missing values\n",
    "round(100*(df.isnull().sum()/len(df.index)), 2)"
   ]
  },
  {
   "cell_type": "code",
   "execution_count": 20,
   "id": "924d4b2a-81b1-44f4-90b3-79ed874fc0eb",
   "metadata": {},
   "outputs": [],
   "source": [
    "# Removing NaN TotalCharges rows\n",
    "df = df[~np.isnan(df['TotalCharges'])]"
   ]
  },
  {
   "cell_type": "code",
   "execution_count": 21,
   "id": "a8ba89ed-3bce-44a2-8ee1-bf54ddf33786",
   "metadata": {},
   "outputs": [
    {
     "data": {
      "text/plain": [
       "cID                                       0.0\n",
       "SeniorCitizen                             0.0\n",
       "Partner                                   0.0\n",
       "Dependents                                0.0\n",
       "tenure                                    0.0\n",
       "PhoneService                              0.0\n",
       "PaperlessBilling                          0.0\n",
       "Charges_Month                             0.0\n",
       "TotalCharges                              0.0\n",
       "Churn                                     0.0\n",
       "Contract_One year                         0.0\n",
       "Contract_Two year                         0.0\n",
       "Method_Payment_Credit card (automatic)    0.0\n",
       "Method_Payment_Electronic check           0.0\n",
       "Method_Payment_Mailed check               0.0\n",
       "gender_Male                               0.0\n",
       "InternetService_Fiber optic               0.0\n",
       "InternetService_No                        0.0\n",
       "MultipleLines_No                          0.0\n",
       "MultipleLines_Yes                         0.0\n",
       "OnlineSecurity_No                         0.0\n",
       "OnlineSecurity_Yes                        0.0\n",
       "OnlineBackup_No                           0.0\n",
       "OnlineBackup_Yes                          0.0\n",
       "DeviceProtection_No                       0.0\n",
       "DeviceProtection_Yes                      0.0\n",
       "TechSupport_No                            0.0\n",
       "TechSupport_Yes                           0.0\n",
       "TV_Streaming_No                           0.0\n",
       "TV_Streaming_Yes                          0.0\n",
       "Movie_Streaming_No                        0.0\n",
       "Movie_Streaming_Yes                       0.0\n",
       "dtype: float64"
      ]
     },
     "execution_count": 21,
     "metadata": {},
     "output_type": "execute_result"
    }
   ],
   "source": [
    "# Checking percentage of missing values after removing the missing values\n",
    "round(100*(df.isnull().sum()/len(df.index)), 2)"
   ]
  },
  {
   "cell_type": "markdown",
   "id": "83a851ce-c331-42d5-8e01-eccaafe5d967",
   "metadata": {},
   "source": [
    "## Step 4: Test-Train Split"
   ]
  },
  {
   "cell_type": "code",
   "execution_count": 22,
   "id": "cffd61ec-b8ef-495e-981a-ae33787093fc",
   "metadata": {},
   "outputs": [],
   "source": [
    "from sklearn.model_selection import train_test_split"
   ]
  },
  {
   "cell_type": "code",
   "execution_count": 23,
   "id": "eafa36e7-b383-4483-b285-61a64d220133",
   "metadata": {},
   "outputs": [
    {
     "data": {
      "text/html": [
       "<div>\n",
       "<style scoped>\n",
       "    .dataframe tbody tr th:only-of-type {\n",
       "        vertical-align: middle;\n",
       "    }\n",
       "\n",
       "    .dataframe tbody tr th {\n",
       "        vertical-align: top;\n",
       "    }\n",
       "\n",
       "    .dataframe thead th {\n",
       "        text-align: right;\n",
       "    }\n",
       "</style>\n",
       "<table border=\"1\" class=\"dataframe\">\n",
       "  <thead>\n",
       "    <tr style=\"text-align: right;\">\n",
       "      <th></th>\n",
       "      <th>SeniorCitizen</th>\n",
       "      <th>Partner</th>\n",
       "      <th>Dependents</th>\n",
       "      <th>tenure</th>\n",
       "      <th>PhoneService</th>\n",
       "      <th>PaperlessBilling</th>\n",
       "      <th>Charges_Month</th>\n",
       "      <th>TotalCharges</th>\n",
       "      <th>Contract_One year</th>\n",
       "      <th>Contract_Two year</th>\n",
       "      <th>...</th>\n",
       "      <th>OnlineBackup_No</th>\n",
       "      <th>OnlineBackup_Yes</th>\n",
       "      <th>DeviceProtection_No</th>\n",
       "      <th>DeviceProtection_Yes</th>\n",
       "      <th>TechSupport_No</th>\n",
       "      <th>TechSupport_Yes</th>\n",
       "      <th>TV_Streaming_No</th>\n",
       "      <th>TV_Streaming_Yes</th>\n",
       "      <th>Movie_Streaming_No</th>\n",
       "      <th>Movie_Streaming_Yes</th>\n",
       "    </tr>\n",
       "  </thead>\n",
       "  <tbody>\n",
       "    <tr>\n",
       "      <th>0</th>\n",
       "      <td>0</td>\n",
       "      <td>0</td>\n",
       "      <td>1</td>\n",
       "      <td>21</td>\n",
       "      <td>1</td>\n",
       "      <td>0</td>\n",
       "      <td>64.85</td>\n",
       "      <td>1336.80</td>\n",
       "      <td>True</td>\n",
       "      <td>False</td>\n",
       "      <td>...</td>\n",
       "      <td>True</td>\n",
       "      <td>False</td>\n",
       "      <td>False</td>\n",
       "      <td>True</td>\n",
       "      <td>True</td>\n",
       "      <td>False</td>\n",
       "      <td>True</td>\n",
       "      <td>False</td>\n",
       "      <td>False</td>\n",
       "      <td>True</td>\n",
       "    </tr>\n",
       "    <tr>\n",
       "      <th>1</th>\n",
       "      <td>0</td>\n",
       "      <td>0</td>\n",
       "      <td>0</td>\n",
       "      <td>54</td>\n",
       "      <td>1</td>\n",
       "      <td>1</td>\n",
       "      <td>97.20</td>\n",
       "      <td>5129.45</td>\n",
       "      <td>False</td>\n",
       "      <td>True</td>\n",
       "      <td>...</td>\n",
       "      <td>False</td>\n",
       "      <td>True</td>\n",
       "      <td>True</td>\n",
       "      <td>False</td>\n",
       "      <td>True</td>\n",
       "      <td>False</td>\n",
       "      <td>False</td>\n",
       "      <td>True</td>\n",
       "      <td>False</td>\n",
       "      <td>True</td>\n",
       "    </tr>\n",
       "    <tr>\n",
       "      <th>2</th>\n",
       "      <td>0</td>\n",
       "      <td>1</td>\n",
       "      <td>0</td>\n",
       "      <td>1</td>\n",
       "      <td>0</td>\n",
       "      <td>1</td>\n",
       "      <td>23.45</td>\n",
       "      <td>23.45</td>\n",
       "      <td>False</td>\n",
       "      <td>False</td>\n",
       "      <td>...</td>\n",
       "      <td>True</td>\n",
       "      <td>False</td>\n",
       "      <td>True</td>\n",
       "      <td>False</td>\n",
       "      <td>True</td>\n",
       "      <td>False</td>\n",
       "      <td>True</td>\n",
       "      <td>False</td>\n",
       "      <td>True</td>\n",
       "      <td>False</td>\n",
       "    </tr>\n",
       "    <tr>\n",
       "      <th>3</th>\n",
       "      <td>0</td>\n",
       "      <td>0</td>\n",
       "      <td>0</td>\n",
       "      <td>4</td>\n",
       "      <td>1</td>\n",
       "      <td>1</td>\n",
       "      <td>70.20</td>\n",
       "      <td>237.95</td>\n",
       "      <td>False</td>\n",
       "      <td>False</td>\n",
       "      <td>...</td>\n",
       "      <td>True</td>\n",
       "      <td>False</td>\n",
       "      <td>True</td>\n",
       "      <td>False</td>\n",
       "      <td>True</td>\n",
       "      <td>False</td>\n",
       "      <td>True</td>\n",
       "      <td>False</td>\n",
       "      <td>True</td>\n",
       "      <td>False</td>\n",
       "    </tr>\n",
       "    <tr>\n",
       "      <th>5</th>\n",
       "      <td>0</td>\n",
       "      <td>0</td>\n",
       "      <td>0</td>\n",
       "      <td>7</td>\n",
       "      <td>1</td>\n",
       "      <td>1</td>\n",
       "      <td>69.55</td>\n",
       "      <td>521.35</td>\n",
       "      <td>False</td>\n",
       "      <td>False</td>\n",
       "      <td>...</td>\n",
       "      <td>True</td>\n",
       "      <td>False</td>\n",
       "      <td>True</td>\n",
       "      <td>False</td>\n",
       "      <td>True</td>\n",
       "      <td>False</td>\n",
       "      <td>True</td>\n",
       "      <td>False</td>\n",
       "      <td>True</td>\n",
       "      <td>False</td>\n",
       "    </tr>\n",
       "  </tbody>\n",
       "</table>\n",
       "<p>5 rows × 30 columns</p>\n",
       "</div>"
      ],
      "text/plain": [
       "   SeniorCitizen  Partner  Dependents  tenure  PhoneService  PaperlessBilling  \\\n",
       "0              0        0           1      21             1                 0   \n",
       "1              0        0           0      54             1                 1   \n",
       "2              0        1           0       1             0                 1   \n",
       "3              0        0           0       4             1                 1   \n",
       "5              0        0           0       7             1                 1   \n",
       "\n",
       "   Charges_Month  TotalCharges  Contract_One year  Contract_Two year  ...  \\\n",
       "0          64.85       1336.80               True              False  ...   \n",
       "1          97.20       5129.45              False               True  ...   \n",
       "2          23.45         23.45              False              False  ...   \n",
       "3          70.20        237.95              False              False  ...   \n",
       "5          69.55        521.35              False              False  ...   \n",
       "\n",
       "   OnlineBackup_No  OnlineBackup_Yes  DeviceProtection_No  \\\n",
       "0             True             False                False   \n",
       "1            False              True                 True   \n",
       "2             True             False                 True   \n",
       "3             True             False                 True   \n",
       "5             True             False                 True   \n",
       "\n",
       "   DeviceProtection_Yes  TechSupport_No  TechSupport_Yes  TV_Streaming_No  \\\n",
       "0                  True            True            False             True   \n",
       "1                 False            True            False            False   \n",
       "2                 False            True            False             True   \n",
       "3                 False            True            False             True   \n",
       "5                 False            True            False             True   \n",
       "\n",
       "   TV_Streaming_Yes  Movie_Streaming_No  Movie_Streaming_Yes  \n",
       "0             False               False                 True  \n",
       "1              True               False                 True  \n",
       "2             False                True                False  \n",
       "3             False                True                False  \n",
       "5             False                True                False  \n",
       "\n",
       "[5 rows x 30 columns]"
      ]
     },
     "execution_count": 23,
     "metadata": {},
     "output_type": "execute_result"
    }
   ],
   "source": [
    "# Putting feature variable to X\n",
    "X = df.drop(['Churn','cID'], axis=1)\n",
    "\n",
    "X.head()"
   ]
  },
  {
   "cell_type": "code",
   "execution_count": 24,
   "id": "9f466064-6cfd-4101-872a-49815e40007a",
   "metadata": {},
   "outputs": [
    {
     "data": {
      "text/plain": [
       "0    0\n",
       "1    0\n",
       "2    1\n",
       "3    1\n",
       "5    0\n",
       "Name: Churn, dtype: int64"
      ]
     },
     "execution_count": 24,
     "metadata": {},
     "output_type": "execute_result"
    }
   ],
   "source": [
    "# Putting response variable to y\n",
    "y = df['Churn']\n",
    "\n",
    "y.head()"
   ]
  },
  {
   "cell_type": "code",
   "execution_count": 25,
   "id": "943558cb-d7a1-4cb0-9c9f-8c8edaae4cc1",
   "metadata": {},
   "outputs": [],
   "source": [
    "# Splitting the data into train and test\n",
    "X_train, X_test, y_train, y_test = train_test_split(X, y, train_size=0.7, test_size=0.3, random_state=100)"
   ]
  },
  {
   "cell_type": "markdown",
   "id": "4e59ee10-6c3c-4549-a0a7-ec5301c147b1",
   "metadata": {},
   "source": [
    "## Step 5: Feature Scaling"
   ]
  },
  {
   "cell_type": "code",
   "execution_count": 26,
   "id": "81a09955-84ce-4a1d-94ba-66c50113f1f3",
   "metadata": {},
   "outputs": [],
   "source": [
    "from sklearn.preprocessing import StandardScaler"
   ]
  },
  {
   "cell_type": "code",
   "execution_count": 27,
   "id": "373e9bbb-cf69-4dcf-9733-5aae14c62acd",
   "metadata": {},
   "outputs": [
    {
     "data": {
      "text/html": [
       "<div>\n",
       "<style scoped>\n",
       "    .dataframe tbody tr th:only-of-type {\n",
       "        vertical-align: middle;\n",
       "    }\n",
       "\n",
       "    .dataframe tbody tr th {\n",
       "        vertical-align: top;\n",
       "    }\n",
       "\n",
       "    .dataframe thead th {\n",
       "        text-align: right;\n",
       "    }\n",
       "</style>\n",
       "<table border=\"1\" class=\"dataframe\">\n",
       "  <thead>\n",
       "    <tr style=\"text-align: right;\">\n",
       "      <th></th>\n",
       "      <th>SeniorCitizen</th>\n",
       "      <th>Partner</th>\n",
       "      <th>Dependents</th>\n",
       "      <th>tenure</th>\n",
       "      <th>PhoneService</th>\n",
       "      <th>PaperlessBilling</th>\n",
       "      <th>Charges_Month</th>\n",
       "      <th>TotalCharges</th>\n",
       "      <th>Contract_One year</th>\n",
       "      <th>Contract_Two year</th>\n",
       "      <th>...</th>\n",
       "      <th>OnlineBackup_No</th>\n",
       "      <th>OnlineBackup_Yes</th>\n",
       "      <th>DeviceProtection_No</th>\n",
       "      <th>DeviceProtection_Yes</th>\n",
       "      <th>TechSupport_No</th>\n",
       "      <th>TechSupport_Yes</th>\n",
       "      <th>TV_Streaming_No</th>\n",
       "      <th>TV_Streaming_Yes</th>\n",
       "      <th>Movie_Streaming_No</th>\n",
       "      <th>Movie_Streaming_Yes</th>\n",
       "    </tr>\n",
       "  </thead>\n",
       "  <tbody>\n",
       "    <tr>\n",
       "      <th>4616</th>\n",
       "      <td>1</td>\n",
       "      <td>0</td>\n",
       "      <td>0</td>\n",
       "      <td>-0.499866</td>\n",
       "      <td>1</td>\n",
       "      <td>0</td>\n",
       "      <td>0.539879</td>\n",
       "      <td>-0.288448</td>\n",
       "      <td>False</td>\n",
       "      <td>False</td>\n",
       "      <td>...</td>\n",
       "      <td>True</td>\n",
       "      <td>False</td>\n",
       "      <td>True</td>\n",
       "      <td>False</td>\n",
       "      <td>True</td>\n",
       "      <td>False</td>\n",
       "      <td>False</td>\n",
       "      <td>True</td>\n",
       "      <td>True</td>\n",
       "      <td>False</td>\n",
       "    </tr>\n",
       "    <tr>\n",
       "      <th>4806</th>\n",
       "      <td>0</td>\n",
       "      <td>0</td>\n",
       "      <td>0</td>\n",
       "      <td>1.172704</td>\n",
       "      <td>1</td>\n",
       "      <td>1</td>\n",
       "      <td>1.800324</td>\n",
       "      <td>2.257880</td>\n",
       "      <td>True</td>\n",
       "      <td>False</td>\n",
       "      <td>...</td>\n",
       "      <td>False</td>\n",
       "      <td>True</td>\n",
       "      <td>False</td>\n",
       "      <td>True</td>\n",
       "      <td>False</td>\n",
       "      <td>True</td>\n",
       "      <td>False</td>\n",
       "      <td>True</td>\n",
       "      <td>False</td>\n",
       "      <td>True</td>\n",
       "    </tr>\n",
       "    <tr>\n",
       "      <th>381</th>\n",
       "      <td>0</td>\n",
       "      <td>0</td>\n",
       "      <td>0</td>\n",
       "      <td>-1.274960</td>\n",
       "      <td>1</td>\n",
       "      <td>0</td>\n",
       "      <td>0.666256</td>\n",
       "      <td>-0.965683</td>\n",
       "      <td>False</td>\n",
       "      <td>False</td>\n",
       "      <td>...</td>\n",
       "      <td>True</td>\n",
       "      <td>False</td>\n",
       "      <td>True</td>\n",
       "      <td>False</td>\n",
       "      <td>True</td>\n",
       "      <td>False</td>\n",
       "      <td>False</td>\n",
       "      <td>True</td>\n",
       "      <td>True</td>\n",
       "      <td>False</td>\n",
       "    </tr>\n",
       "    <tr>\n",
       "      <th>3378</th>\n",
       "      <td>1</td>\n",
       "      <td>1</td>\n",
       "      <td>0</td>\n",
       "      <td>-1.030193</td>\n",
       "      <td>1</td>\n",
       "      <td>1</td>\n",
       "      <td>1.156799</td>\n",
       "      <td>-0.708483</td>\n",
       "      <td>False</td>\n",
       "      <td>False</td>\n",
       "      <td>...</td>\n",
       "      <td>True</td>\n",
       "      <td>False</td>\n",
       "      <td>False</td>\n",
       "      <td>True</td>\n",
       "      <td>True</td>\n",
       "      <td>False</td>\n",
       "      <td>False</td>\n",
       "      <td>True</td>\n",
       "      <td>False</td>\n",
       "      <td>True</td>\n",
       "    </tr>\n",
       "    <tr>\n",
       "      <th>2277</th>\n",
       "      <td>1</td>\n",
       "      <td>0</td>\n",
       "      <td>0</td>\n",
       "      <td>1.621443</td>\n",
       "      <td>1</td>\n",
       "      <td>0</td>\n",
       "      <td>1.640690</td>\n",
       "      <td>2.470432</td>\n",
       "      <td>False</td>\n",
       "      <td>True</td>\n",
       "      <td>...</td>\n",
       "      <td>False</td>\n",
       "      <td>True</td>\n",
       "      <td>False</td>\n",
       "      <td>True</td>\n",
       "      <td>False</td>\n",
       "      <td>True</td>\n",
       "      <td>False</td>\n",
       "      <td>True</td>\n",
       "      <td>False</td>\n",
       "      <td>True</td>\n",
       "    </tr>\n",
       "  </tbody>\n",
       "</table>\n",
       "<p>5 rows × 30 columns</p>\n",
       "</div>"
      ],
      "text/plain": [
       "      SeniorCitizen  Partner  Dependents    tenure  PhoneService  \\\n",
       "4616              1        0           0 -0.499866             1   \n",
       "4806              0        0           0  1.172704             1   \n",
       "381               0        0           0 -1.274960             1   \n",
       "3378              1        1           0 -1.030193             1   \n",
       "2277              1        0           0  1.621443             1   \n",
       "\n",
       "      PaperlessBilling  Charges_Month  TotalCharges  Contract_One year  \\\n",
       "4616                 0       0.539879     -0.288448              False   \n",
       "4806                 1       1.800324      2.257880               True   \n",
       "381                  0       0.666256     -0.965683              False   \n",
       "3378                 1       1.156799     -0.708483              False   \n",
       "2277                 0       1.640690      2.470432              False   \n",
       "\n",
       "      Contract_Two year  ...  OnlineBackup_No  OnlineBackup_Yes  \\\n",
       "4616              False  ...             True             False   \n",
       "4806              False  ...            False              True   \n",
       "381               False  ...             True             False   \n",
       "3378              False  ...             True             False   \n",
       "2277               True  ...            False              True   \n",
       "\n",
       "      DeviceProtection_No  DeviceProtection_Yes  TechSupport_No  \\\n",
       "4616                 True                 False            True   \n",
       "4806                False                  True           False   \n",
       "381                  True                 False            True   \n",
       "3378                False                  True            True   \n",
       "2277                False                  True           False   \n",
       "\n",
       "      TechSupport_Yes  TV_Streaming_No  TV_Streaming_Yes  Movie_Streaming_No  \\\n",
       "4616            False            False              True                True   \n",
       "4806             True            False              True               False   \n",
       "381             False            False              True                True   \n",
       "3378            False            False              True               False   \n",
       "2277             True            False              True               False   \n",
       "\n",
       "      Movie_Streaming_Yes  \n",
       "4616                False  \n",
       "4806                 True  \n",
       "381                 False  \n",
       "3378                 True  \n",
       "2277                 True  \n",
       "\n",
       "[5 rows x 30 columns]"
      ]
     },
     "execution_count": 27,
     "metadata": {},
     "output_type": "execute_result"
    }
   ],
   "source": [
    "scaler = StandardScaler()\n",
    "\n",
    "X_train[['tenure','Charges_Month','TotalCharges']] = scaler.fit_transform(X_train[['tenure','Charges_Month','TotalCharges']])\n",
    "\n",
    "X_train.head()"
   ]
  },
  {
   "cell_type": "code",
   "execution_count": 28,
   "id": "f988ce9f-a187-4d7b-9c13-fe8311224fca",
   "metadata": {},
   "outputs": [
    {
     "data": {
      "text/plain": [
       "26.600284495021338"
      ]
     },
     "execution_count": 28,
     "metadata": {},
     "output_type": "execute_result"
    }
   ],
   "source": [
    "### Checking the Churn Rate\n",
    "churn = (sum(df['Churn'])/len(df['Churn'].index))*100\n",
    "churn"
   ]
  },
  {
   "cell_type": "markdown",
   "id": "eaa5d0cf-b0bc-4d71-975b-b9fce22cd91d",
   "metadata": {},
   "source": [
    "We have almost 27% churn rate"
   ]
  },
  {
   "cell_type": "markdown",
   "id": "f66f3bca-ed1c-42b7-a90b-c1ec622ffc24",
   "metadata": {},
   "source": [
    "## Step 6: Looking at Correlations"
   ]
  },
  {
   "cell_type": "code",
   "execution_count": 29,
   "id": "9990786f-3c5d-46fd-9c7c-b58572d62d5b",
   "metadata": {},
   "outputs": [],
   "source": [
    "# Importing matplotlib and seaborn\n",
    "import matplotlib.pyplot as plt\n",
    "import seaborn as sns\n",
    "%matplotlib inline"
   ]
  },
  {
   "cell_type": "code",
   "execution_count": 33,
   "id": "b2144401-0d7f-48ff-96d4-c94a8b713862",
   "metadata": {},
   "outputs": [
    {
     "data": {
      "image/png": "[encoded data removed]",
      "text/plain": [
       "<Figure size 2000x1000 with 2 Axes>"
      ]
     },
     "metadata": {},
     "output_type": "display_data"
    }
   ],
   "source": [
    "# Let's see the correlation matrix \n",
    "plt.figure(figsize = (20,10))        # Size of the figure\n",
    "sns.heatmap(X.corr(),annot = True)\n",
    "plt.show()"
   ]
  },
  {
   "cell_type": "markdown",
   "id": "8bcab848-0709-4ab7-8383-3583369a73cd",
   "metadata": {},
   "source": [
    "### Dropping highly correlated dummy variables"
   ]
  },
  {
   "cell_type": "code",
   "execution_count": 36,
   "id": "a3e3dc58-6e60-4a22-84f1-75eb2faee2ba",
   "metadata": {},
   "outputs": [],
   "source": [
    "X_test = X_test.drop(['MultipleLines_No','OnlineSecurity_No','OnlineBackup_No','DeviceProtection_No','TechSupport_No',\n",
    "                       'TV_Streaming_No','Movie_Streaming_No'], axis=1)\n",
    "X_train = X_train.drop(['MultipleLines_No','OnlineSecurity_No','OnlineBackup_No','DeviceProtection_No','TechSupport_No',\n",
    "                         'TV_Streaming_No','Movie_Streaming_No'], axis=1)"
   ]
  },
  {
   "cell_type": "markdown",
   "id": "498a3d6d-e59f-4888-bb06-f0c2547d96d9",
   "metadata": {},
   "source": [
    "### Checking the Correlation Matrix"
   ]
  },
  {
   "cell_type": "markdown",
   "id": "7344a599-b500-443a-85a0-b3bf34498ffd",
   "metadata": {},
   "source": [
    "After dropping highly correlated variables now let's check the correlation matrix again."
   ]
  },
  {
   "cell_type": "code",
   "execution_count": 37,
   "id": "ec7ce0da-050b-4a0c-be7e-7b51cb89a1f6",
   "metadata": {},
   "outputs": [
    {
     "data": {
      "image/png": "[encoded data removed]",
      "text/plain": [
       "<Figure size 2000x1000 with 2 Axes>"
      ]
     },
     "metadata": {},
     "output_type": "display_data"
    }
   ],
   "source": [
    "plt.figure(figsize = (20,10))\n",
    "sns.heatmap(X_train.corr(),annot = True)\n",
    "plt.show()"
   ]
  },
  {
   "cell_type": "markdown",
   "id": "e9ed20e9-8a99-4337-86dd-2bedbd2a22f1",
   "metadata": {},
   "source": [
    "## Step 7: Model Building\n",
    "Let's start by splitting our data into a training set and a test set."
   ]
  },
  {
   "cell_type": "code",
   "execution_count": 45,
   "id": "5ce90b58-4ebf-4716-b61a-21e95d20c0f0",
   "metadata": {},
   "outputs": [],
   "source": [
    "import statsmodels.api as sm"
   ]
  },
  {
   "cell_type": "markdown",
   "id": "b27e2f06-3ed4-479d-898d-501165197b3f",
   "metadata": {},
   "source": [
    "Before creating the model let's convert boolean values to numerical that is 0 or 1\n"
   ]
  },
  {
   "cell_type": "code",
   "execution_count": 46,
   "id": "a566b993-1c9a-4aa4-b23a-b4d9ab924149",
   "metadata": {},
   "outputs": [],
   "source": [
    "def preprocess_data(df):\n",
    "    # Fill missing values with the mean of each column\n",
    "    df = df.fillna(df.mean())\n",
    "    \n",
    "    # Convert boolean values to numeric\n",
    "    df = df.applymap(lambda x: int(x) if isinstance(x, bool) else x)\n",
    "    \n",
    "    # Convert categorical variables to numeric using one-hot encoding\n",
    "    df = pd.get_dummies(df, drop_first=True)\n",
    "    \n",
    "    # Ensure all columns are numeric\n",
    "    df = df.apply(pd.to_numeric, errors='coerce')\n",
    "    \n",
    "    return df\n",
    "\n",
    "# Preprocess X_train and X_test\n",
    "X_train = preprocess_data(X_train)\n",
    "X_test = preprocess_data(X_test)"
   ]
  },
  {
   "cell_type": "code",
   "execution_count": 47,
   "id": "1b30096f-57b9-49fe-a9fa-5dd9ff548da8",
   "metadata": {},
   "outputs": [
    {
     "data": {
      "text/html": [
       "<table class=\"simpletable\">\n",
       "<caption>Generalized Linear Model Regression Results</caption>\n",
       "<tr>\n",
       "  <th>Dep. Variable:</th>         <td>Churn</td>      <th>  No. Observations:  </th>  <td>  3936</td> \n",
       "</tr>\n",
       "<tr>\n",
       "  <th>Model:</th>                  <td>GLM</td>       <th>  Df Residuals:      </th>  <td>  3912</td> \n",
       "</tr>\n",
       "<tr>\n",
       "  <th>Model Family:</th>        <td>Binomial</td>     <th>  Df Model:          </th>  <td>    23</td> \n",
       "</tr>\n",
       "<tr>\n",
       "  <th>Link Function:</th>         <td>Logit</td>      <th>  Scale:             </th> <td>  1.0000</td>\n",
       "</tr>\n",
       "<tr>\n",
       "  <th>Method:</th>                <td>IRLS</td>       <th>  Log-Likelihood:    </th> <td> -1659.1</td>\n",
       "</tr>\n",
       "<tr>\n",
       "  <th>Date:</th>            <td>Wed, 03 Jul 2024</td> <th>  Deviance:          </th> <td>  3318.2</td>\n",
       "</tr>\n",
       "<tr>\n",
       "  <th>Time:</th>                <td>12:47:51</td>     <th>  Pearson chi2:      </th> <td>4.85e+03</td>\n",
       "</tr>\n",
       "<tr>\n",
       "  <th>No. Iterations:</th>          <td>7</td>        <th>  Pseudo R-squ. (CS):</th>  <td>0.2702</td> \n",
       "</tr>\n",
       "<tr>\n",
       "  <th>Covariance Type:</th>     <td>nonrobust</td>    <th>                     </th>     <td> </td>   \n",
       "</tr>\n",
       "</table>\n",
       "<table class=\"simpletable\">\n",
       "<tr>\n",
       "                     <td></td>                       <th>coef</th>     <th>std err</th>      <th>z</th>      <th>P>|z|</th>  <th>[0.025</th>    <th>0.975]</th>  \n",
       "</tr>\n",
       "<tr>\n",
       "  <th>const</th>                                  <td>   -2.8446</td> <td>    1.694</td> <td>   -1.679</td> <td> 0.093</td> <td>   -6.165</td> <td>    0.476</td>\n",
       "</tr>\n",
       "<tr>\n",
       "  <th>SeniorCitizen</th>                          <td>    0.2031</td> <td>    0.113</td> <td>    1.804</td> <td> 0.071</td> <td>   -0.018</td> <td>    0.424</td>\n",
       "</tr>\n",
       "<tr>\n",
       "  <th>Partner</th>                                <td>    0.0550</td> <td>    0.103</td> <td>    0.532</td> <td> 0.595</td> <td>   -0.148</td> <td>    0.257</td>\n",
       "</tr>\n",
       "<tr>\n",
       "  <th>Dependents</th>                             <td>   -0.1631</td> <td>    0.120</td> <td>   -1.361</td> <td> 0.173</td> <td>   -0.398</td> <td>    0.072</td>\n",
       "</tr>\n",
       "<tr>\n",
       "  <th>tenure</th>                                 <td>   -1.5193</td> <td>    0.202</td> <td>   -7.525</td> <td> 0.000</td> <td>   -1.915</td> <td>   -1.124</td>\n",
       "</tr>\n",
       "<tr>\n",
       "  <th>PhoneService</th>                           <td>    0.2601</td> <td>    0.868</td> <td>    0.300</td> <td> 0.764</td> <td>   -1.440</td> <td>    1.961</td>\n",
       "</tr>\n",
       "<tr>\n",
       "  <th>PaperlessBilling</th>                       <td>    0.3684</td> <td>    0.100</td> <td>    3.689</td> <td> 0.000</td> <td>    0.173</td> <td>    0.564</td>\n",
       "</tr>\n",
       "<tr>\n",
       "  <th>Charges_Month</th>                          <td>   -1.4660</td> <td>    1.279</td> <td>   -1.146</td> <td> 0.252</td> <td>   -3.973</td> <td>    1.041</td>\n",
       "</tr>\n",
       "<tr>\n",
       "  <th>TotalCharges</th>                           <td>    0.7953</td> <td>    0.211</td> <td>    3.764</td> <td> 0.000</td> <td>    0.381</td> <td>    1.209</td>\n",
       "</tr>\n",
       "<tr>\n",
       "  <th>Contract_One year</th>                      <td>   -0.5883</td> <td>    0.139</td> <td>   -4.230</td> <td> 0.000</td> <td>   -0.861</td> <td>   -0.316</td>\n",
       "</tr>\n",
       "<tr>\n",
       "  <th>Contract_Two year</th>                      <td>   -1.4055</td> <td>    0.239</td> <td>   -5.871</td> <td> 0.000</td> <td>   -1.875</td> <td>   -0.936</td>\n",
       "</tr>\n",
       "<tr>\n",
       "  <th>Method_Payment_Credit card (automatic)</th> <td>   -0.1382</td> <td>    0.148</td> <td>   -0.936</td> <td> 0.349</td> <td>   -0.428</td> <td>    0.151</td>\n",
       "</tr>\n",
       "<tr>\n",
       "  <th>Method_Payment_Electronic check</th>        <td>    0.2926</td> <td>    0.121</td> <td>    2.416</td> <td> 0.016</td> <td>    0.055</td> <td>    0.530</td>\n",
       "</tr>\n",
       "<tr>\n",
       "  <th>Method_Payment_Mailed check</th>            <td>   -0.1540</td> <td>    0.148</td> <td>   -1.040</td> <td> 0.298</td> <td>   -0.444</td> <td>    0.136</td>\n",
       "</tr>\n",
       "<tr>\n",
       "  <th>gender_Male</th>                            <td>   -0.0822</td> <td>    0.086</td> <td>   -0.958</td> <td> 0.338</td> <td>   -0.250</td> <td>    0.086</td>\n",
       "</tr>\n",
       "<tr>\n",
       "  <th>InternetService_Fiber optic</th>            <td>    1.9105</td> <td>    1.069</td> <td>    1.788</td> <td> 0.074</td> <td>   -0.184</td> <td>    4.005</td>\n",
       "</tr>\n",
       "<tr>\n",
       "  <th>InternetService_No</th>                     <td>   -1.9349</td> <td>    1.079</td> <td>   -1.793</td> <td> 0.073</td> <td>   -4.050</td> <td>    0.180</td>\n",
       "</tr>\n",
       "<tr>\n",
       "  <th>MultipleLines_Yes</th>                      <td>    0.3623</td> <td>    0.240</td> <td>    1.512</td> <td> 0.130</td> <td>   -0.107</td> <td>    0.832</td>\n",
       "</tr>\n",
       "<tr>\n",
       "  <th>OnlineSecurity_Yes</th>                     <td>   -0.1666</td> <td>    0.238</td> <td>   -0.700</td> <td> 0.484</td> <td>   -0.633</td> <td>    0.300</td>\n",
       "</tr>\n",
       "<tr>\n",
       "  <th>OnlineBackup_Yes</th>                       <td>    0.1188</td> <td>    0.236</td> <td>    0.503</td> <td> 0.615</td> <td>   -0.344</td> <td>    0.582</td>\n",
       "</tr>\n",
       "<tr>\n",
       "  <th>DeviceProtection_Yes</th>                   <td>    0.2368</td> <td>    0.236</td> <td>    1.006</td> <td> 0.315</td> <td>   -0.225</td> <td>    0.698</td>\n",
       "</tr>\n",
       "<tr>\n",
       "  <th>TechSupport_Yes</th>                        <td>   -0.1393</td> <td>    0.242</td> <td>   -0.574</td> <td> 0.566</td> <td>   -0.615</td> <td>    0.336</td>\n",
       "</tr>\n",
       "<tr>\n",
       "  <th>TV_Streaming_Yes</th>                       <td>    0.7218</td> <td>    0.438</td> <td>    1.648</td> <td> 0.099</td> <td>   -0.137</td> <td>    1.580</td>\n",
       "</tr>\n",
       "<tr>\n",
       "  <th>Movie_Streaming_Yes</th>                    <td>    0.6555</td> <td>    0.436</td> <td>    1.503</td> <td> 0.133</td> <td>   -0.199</td> <td>    1.510</td>\n",
       "</tr>\n",
       "</table>"
      ],
      "text/latex": [
       "\\begin{center}\n",
       "\\begin{tabular}{lclc}\n",
       "\\toprule\n",
       "\\textbf{Dep. Variable:}                           &      Churn       & \\textbf{  No. Observations:  } &     3936    \\\\\n",
       "\\textbf{Model:}                                   &       GLM        & \\textbf{  Df Residuals:      } &     3912    \\\\\n",
       "\\textbf{Model Family:}                            &     Binomial     & \\textbf{  Df Model:          } &       23    \\\\\n",
       "\\textbf{Link Function:}                           &      Logit       & \\textbf{  Scale:             } &    1.0000   \\\\\n",
       "\\textbf{Method:}                                  &       IRLS       & \\textbf{  Log-Likelihood:    } &   -1659.1   \\\\\n",
       "\\textbf{Date:}                                    & Wed, 03 Jul 2024 & \\textbf{  Deviance:          } &    3318.2   \\\\\n",
       "\\textbf{Time:}                                    &     12:47:51     & \\textbf{  Pearson chi2:      } &  4.85e+03   \\\\\n",
       "\\textbf{No. Iterations:}                          &        7         & \\textbf{  Pseudo R-squ. (CS):} &   0.2702    \\\\\n",
       "\\textbf{Covariance Type:}                         &    nonrobust     & \\textbf{                     } &             \\\\\n",
       "\\bottomrule\n",
       "\\end{tabular}\n",
       "\\begin{tabular}{lcccccc}\n",
       "                                                  & \\textbf{coef} & \\textbf{std err} & \\textbf{z} & \\textbf{P$> |$z$|$} & \\textbf{[0.025} & \\textbf{0.975]}  \\\\\n",
       "\\midrule\n",
       "\\textbf{const}                                    &      -2.8446  &        1.694     &    -1.679  &         0.093        &       -6.165    &        0.476     \\\\\n",
       "\\textbf{SeniorCitizen}                            &       0.2031  &        0.113     &     1.804  &         0.071        &       -0.018    &        0.424     \\\\\n",
       "\\textbf{Partner}                                  &       0.0550  &        0.103     &     0.532  &         0.595        &       -0.148    &        0.257     \\\\\n",
       "\\textbf{Dependents}                               &      -0.1631  &        0.120     &    -1.361  &         0.173        &       -0.398    &        0.072     \\\\\n",
       "\\textbf{tenure}                                   &      -1.5193  &        0.202     &    -7.525  &         0.000        &       -1.915    &       -1.124     \\\\\n",
       "\\textbf{PhoneService}                             &       0.2601  &        0.868     &     0.300  &         0.764        &       -1.440    &        1.961     \\\\\n",
       "\\textbf{PaperlessBilling}                         &       0.3684  &        0.100     &     3.689  &         0.000        &        0.173    &        0.564     \\\\\n",
       "\\textbf{Charges\\_Month}                           &      -1.4660  &        1.279     &    -1.146  &         0.252        &       -3.973    &        1.041     \\\\\n",
       "\\textbf{TotalCharges}                             &       0.7953  &        0.211     &     3.764  &         0.000        &        0.381    &        1.209     \\\\\n",
       "\\textbf{Contract\\_One year}                       &      -0.5883  &        0.139     &    -4.230  &         0.000        &       -0.861    &       -0.316     \\\\\n",
       "\\textbf{Contract\\_Two year}                       &      -1.4055  &        0.239     &    -5.871  &         0.000        &       -1.875    &       -0.936     \\\\\n",
       "\\textbf{Method\\_Payment\\_Credit card (automatic)} &      -0.1382  &        0.148     &    -0.936  &         0.349        &       -0.428    &        0.151     \\\\\n",
       "\\textbf{Method\\_Payment\\_Electronic check}        &       0.2926  &        0.121     &     2.416  &         0.016        &        0.055    &        0.530     \\\\\n",
       "\\textbf{Method\\_Payment\\_Mailed check}            &      -0.1540  &        0.148     &    -1.040  &         0.298        &       -0.444    &        0.136     \\\\\n",
       "\\textbf{gender\\_Male}                             &      -0.0822  &        0.086     &    -0.958  &         0.338        &       -0.250    &        0.086     \\\\\n",
       "\\textbf{InternetService\\_Fiber optic}             &       1.9105  &        1.069     &     1.788  &         0.074        &       -0.184    &        4.005     \\\\\n",
       "\\textbf{InternetService\\_No}                      &      -1.9349  &        1.079     &    -1.793  &         0.073        &       -4.050    &        0.180     \\\\\n",
       "\\textbf{MultipleLines\\_Yes}                       &       0.3623  &        0.240     &     1.512  &         0.130        &       -0.107    &        0.832     \\\\\n",
       "\\textbf{OnlineSecurity\\_Yes}                      &      -0.1666  &        0.238     &    -0.700  &         0.484        &       -0.633    &        0.300     \\\\\n",
       "\\textbf{OnlineBackup\\_Yes}                        &       0.1188  &        0.236     &     0.503  &         0.615        &       -0.344    &        0.582     \\\\\n",
       "\\textbf{DeviceProtection\\_Yes}                    &       0.2368  &        0.236     &     1.006  &         0.315        &       -0.225    &        0.698     \\\\\n",
       "\\textbf{TechSupport\\_Yes}                         &      -0.1393  &        0.242     &    -0.574  &         0.566        &       -0.615    &        0.336     \\\\\n",
       "\\textbf{TV\\_Streaming\\_Yes}                       &       0.7218  &        0.438     &     1.648  &         0.099        &       -0.137    &        1.580     \\\\\n",
       "\\textbf{Movie\\_Streaming\\_Yes}                    &       0.6555  &        0.436     &     1.503  &         0.133        &       -0.199    &        1.510     \\\\\n",
       "\\bottomrule\n",
       "\\end{tabular}\n",
       "%\\caption{Generalized Linear Model Regression Results}\n",
       "\\end{center}"
      ],
      "text/plain": [
       "<class 'statsmodels.iolib.summary.Summary'>\n",
       "\"\"\"\n",
       "                 Generalized Linear Model Regression Results                  \n",
       "==============================================================================\n",
       "Dep. Variable:                  Churn   No. Observations:                 3936\n",
       "Model:                            GLM   Df Residuals:                     3912\n",
       "Model Family:                Binomial   Df Model:                           23\n",
       "Link Function:                  Logit   Scale:                          1.0000\n",
       "Method:                          IRLS   Log-Likelihood:                -1659.1\n",
       "Date:                Wed, 03 Jul 2024   Deviance:                       3318.2\n",
       "Time:                        12:47:51   Pearson chi2:                 4.85e+03\n",
       "No. Iterations:                     7   Pseudo R-squ. (CS):             0.2702\n",
       "Covariance Type:            nonrobust                                         \n",
       "==========================================================================================================\n",
       "                                             coef    std err          z      P>|z|      [0.025      0.975]\n",
       "----------------------------------------------------------------------------------------------------------\n",
       "const                                     -2.8446      1.694     -1.679      0.093      -6.165       0.476\n",
       "SeniorCitizen                              0.2031      0.113      1.804      0.071      -0.018       0.424\n",
       "Partner                                    0.0550      0.103      0.532      0.595      -0.148       0.257\n",
       "Dependents                                -0.1631      0.120     -1.361      0.173      -0.398       0.072\n",
       "tenure                                    -1.5193      0.202     -7.525      0.000      -1.915      -1.124\n",
       "PhoneService                               0.2601      0.868      0.300      0.764      -1.440       1.961\n",
       "PaperlessBilling                           0.3684      0.100      3.689      0.000       0.173       0.564\n",
       "Charges_Month                             -1.4660      1.279     -1.146      0.252      -3.973       1.041\n",
       "TotalCharges                               0.7953      0.211      3.764      0.000       0.381       1.209\n",
       "Contract_One year                         -0.5883      0.139     -4.230      0.000      -0.861      -0.316\n",
       "Contract_Two year                         -1.4055      0.239     -5.871      0.000      -1.875      -0.936\n",
       "Method_Payment_Credit card (automatic)    -0.1382      0.148     -0.936      0.349      -0.428       0.151\n",
       "Method_Payment_Electronic check            0.2926      0.121      2.416      0.016       0.055       0.530\n",
       "Method_Payment_Mailed check               -0.1540      0.148     -1.040      0.298      -0.444       0.136\n",
       "gender_Male                               -0.0822      0.086     -0.958      0.338      -0.250       0.086\n",
       "InternetService_Fiber optic                1.9105      1.069      1.788      0.074      -0.184       4.005\n",
       "InternetService_No                        -1.9349      1.079     -1.793      0.073      -4.050       0.180\n",
       "MultipleLines_Yes                          0.3623      0.240      1.512      0.130      -0.107       0.832\n",
       "OnlineSecurity_Yes                        -0.1666      0.238     -0.700      0.484      -0.633       0.300\n",
       "OnlineBackup_Yes                           0.1188      0.236      0.503      0.615      -0.344       0.582\n",
       "DeviceProtection_Yes                       0.2368      0.236      1.006      0.315      -0.225       0.698\n",
       "TechSupport_Yes                           -0.1393      0.242     -0.574      0.566      -0.615       0.336\n",
       "TV_Streaming_Yes                           0.7218      0.438      1.648      0.099      -0.137       1.580\n",
       "Movie_Streaming_Yes                        0.6555      0.436      1.503      0.133      -0.199       1.510\n",
       "==========================================================================================================\n",
       "\"\"\""
      ]
     },
     "execution_count": 47,
     "metadata": {},
     "output_type": "execute_result"
    }
   ],
   "source": [
    "# Logistic regression model\n",
    "logm1 = sm.GLM(y_train,(sm.add_constant(X_train)), family = sm.families.Binomial())\n",
    "logm1.fit().summary()"
   ]
  },
  {
   "cell_type": "markdown",
   "id": "0747cfb1-78de-4316-a669-c788c57eb853",
   "metadata": {},
   "source": [
    "## Step 8: Feature Selection Using RFE"
   ]
  },
  {
   "cell_type": "code",
   "execution_count": 48,
   "id": "6f19daa1-fd87-4995-9534-96db560ea089",
   "metadata": {},
   "outputs": [],
   "source": [
    "from sklearn.linear_model import LogisticRegression\n",
    "logreg = LogisticRegression()"
   ]
  },
  {
   "cell_type": "code",
   "execution_count": 50,
   "id": "f09b6b68-0f6b-43df-a71d-f4da7be11408",
   "metadata": {},
   "outputs": [],
   "source": [
    "from sklearn.feature_selection import RFE\n",
    "rfe = RFE(estimator=logreg, n_features_to_select=15)             # running RFE with 13 variables as output\n",
    "rfe = rfe.fit(X_train, y_train)"
   ]
  },
  {
   "cell_type": "code",
   "execution_count": 51,
   "id": "636284b6-d87b-42eb-b9cc-76130113d71d",
   "metadata": {},
   "outputs": [
    {
     "data": {
      "text/plain": [
       "array([ True, False,  True,  True,  True,  True, False,  True,  True,\n",
       "        True, False,  True, False, False,  True,  True, False,  True,\n",
       "       False, False,  True,  True,  True])"
      ]
     },
     "execution_count": 51,
     "metadata": {},
     "output_type": "execute_result"
    }
   ],
   "source": [
    "rfe.support_"
   ]
  },
  {
   "cell_type": "code",
   "execution_count": 52,
   "id": "de70aac6-56f4-498d-8fa6-ff1aa8f52bcd",
   "metadata": {},
   "outputs": [
    {
     "data": {
      "text/plain": [
       "[('SeniorCitizen', True, 1),\n",
       " ('Partner', False, 7),\n",
       " ('Dependents', True, 1),\n",
       " ('tenure', True, 1),\n",
       " ('PhoneService', True, 1),\n",
       " ('PaperlessBilling', True, 1),\n",
       " ('Charges_Month', False, 8),\n",
       " ('TotalCharges', True, 1),\n",
       " ('Contract_One year', True, 1),\n",
       " ('Contract_Two year', True, 1),\n",
       " ('Method_Payment_Credit card (automatic)', False, 3),\n",
       " ('Method_Payment_Electronic check', True, 1),\n",
       " ('Method_Payment_Mailed check', False, 2),\n",
       " ('gender_Male', False, 6),\n",
       " ('InternetService_Fiber optic', True, 1),\n",
       " ('InternetService_No', True, 1),\n",
       " ('MultipleLines_Yes', False, 4),\n",
       " ('OnlineSecurity_Yes', True, 1),\n",
       " ('OnlineBackup_Yes', False, 5),\n",
       " ('DeviceProtection_Yes', False, 9),\n",
       " ('TechSupport_Yes', True, 1),\n",
       " ('TV_Streaming_Yes', True, 1),\n",
       " ('Movie_Streaming_Yes', True, 1)]"
      ]
     },
     "execution_count": 52,
     "metadata": {},
     "output_type": "execute_result"
    }
   ],
   "source": [
    "list(zip(X_train.columns, rfe.support_, rfe.ranking_))"
   ]
  },
  {
   "cell_type": "code",
   "execution_count": 53,
   "id": "cdad5bdf-1b65-4ac1-ae59-1f8e0904e73f",
   "metadata": {},
   "outputs": [],
   "source": [
    "col = X_train.columns[rfe.support_]"
   ]
  },
  {
   "cell_type": "code",
   "execution_count": 54,
   "id": "df8aeb0b-72b6-434a-9f66-97983bea6c61",
   "metadata": {},
   "outputs": [
    {
     "data": {
      "text/plain": [
       "Index(['Partner', 'Charges_Month', 'Method_Payment_Credit card (automatic)',\n",
       "       'Method_Payment_Mailed check', 'gender_Male', 'MultipleLines_Yes',\n",
       "       'OnlineBackup_Yes', 'DeviceProtection_Yes'],\n",
       "      dtype='object')"
      ]
     },
     "execution_count": 54,
     "metadata": {},
     "output_type": "execute_result"
    }
   ],
   "source": [
    "X_train.columns[~rfe.support_]"
   ]
  },
  {
   "cell_type": "markdown",
   "id": "1aea4a7c-76ee-487d-9df3-d98b5ce79119",
   "metadata": {},
   "source": [
    "#### Assessing the model with StatsModels"
   ]
  },
  {
   "cell_type": "code",
   "execution_count": 55,
   "id": "f06df40f-c6fa-4c1e-a4f7-92679604a217",
   "metadata": {},
   "outputs": [
    {
     "data": {
      "text/html": [
       "<table class=\"simpletable\">\n",
       "<caption>Generalized Linear Model Regression Results</caption>\n",
       "<tr>\n",
       "  <th>Dep. Variable:</th>         <td>Churn</td>      <th>  No. Observations:  </th>  <td>  3936</td> \n",
       "</tr>\n",
       "<tr>\n",
       "  <th>Model:</th>                  <td>GLM</td>       <th>  Df Residuals:      </th>  <td>  3920</td> \n",
       "</tr>\n",
       "<tr>\n",
       "  <th>Model Family:</th>        <td>Binomial</td>     <th>  Df Model:          </th>  <td>    15</td> \n",
       "</tr>\n",
       "<tr>\n",
       "  <th>Link Function:</th>         <td>Logit</td>      <th>  Scale:             </th> <td>  1.0000</td>\n",
       "</tr>\n",
       "<tr>\n",
       "  <th>Method:</th>                <td>IRLS</td>       <th>  Log-Likelihood:    </th> <td> -1662.5</td>\n",
       "</tr>\n",
       "<tr>\n",
       "  <th>Date:</th>            <td>Wed, 03 Jul 2024</td> <th>  Deviance:          </th> <td>  3324.9</td>\n",
       "</tr>\n",
       "<tr>\n",
       "  <th>Time:</th>                <td>12:51:13</td>     <th>  Pearson chi2:      </th> <td>4.84e+03</td>\n",
       "</tr>\n",
       "<tr>\n",
       "  <th>No. Iterations:</th>          <td>7</td>        <th>  Pseudo R-squ. (CS):</th>  <td>0.2689</td> \n",
       "</tr>\n",
       "<tr>\n",
       "  <th>Covariance Type:</th>     <td>nonrobust</td>    <th>                     </th>     <td> </td>   \n",
       "</tr>\n",
       "</table>\n",
       "<table class=\"simpletable\">\n",
       "<tr>\n",
       "                 <td></td>                    <th>coef</th>     <th>std err</th>      <th>z</th>      <th>P>|z|</th>  <th>[0.025</th>    <th>0.975]</th>  \n",
       "</tr>\n",
       "<tr>\n",
       "  <th>const</th>                           <td>   -1.1063</td> <td>    0.187</td> <td>   -5.915</td> <td> 0.000</td> <td>   -1.473</td> <td>   -0.740</td>\n",
       "</tr>\n",
       "<tr>\n",
       "  <th>SeniorCitizen</th>                   <td>    0.2182</td> <td>    0.111</td> <td>    1.959</td> <td> 0.050</td> <td>   -0.000</td> <td>    0.436</td>\n",
       "</tr>\n",
       "<tr>\n",
       "  <th>Dependents</th>                      <td>   -0.1358</td> <td>    0.108</td> <td>   -1.253</td> <td> 0.210</td> <td>   -0.348</td> <td>    0.077</td>\n",
       "</tr>\n",
       "<tr>\n",
       "  <th>tenure</th>                          <td>   -1.4725</td> <td>    0.197</td> <td>   -7.475</td> <td> 0.000</td> <td>   -1.859</td> <td>   -1.086</td>\n",
       "</tr>\n",
       "<tr>\n",
       "  <th>PhoneService</th>                    <td>   -0.6637</td> <td>    0.172</td> <td>   -3.865</td> <td> 0.000</td> <td>   -1.000</td> <td>   -0.327</td>\n",
       "</tr>\n",
       "<tr>\n",
       "  <th>PaperlessBilling</th>                <td>    0.3712</td> <td>    0.099</td> <td>    3.732</td> <td> 0.000</td> <td>    0.176</td> <td>    0.566</td>\n",
       "</tr>\n",
       "<tr>\n",
       "  <th>TotalCharges</th>                    <td>    0.7605</td> <td>    0.203</td> <td>    3.751</td> <td> 0.000</td> <td>    0.363</td> <td>    1.158</td>\n",
       "</tr>\n",
       "<tr>\n",
       "  <th>Contract_One year</th>               <td>   -0.6005</td> <td>    0.138</td> <td>   -4.345</td> <td> 0.000</td> <td>   -0.871</td> <td>   -0.330</td>\n",
       "</tr>\n",
       "<tr>\n",
       "  <th>Contract_Two year</th>               <td>   -1.4096</td> <td>    0.239</td> <td>   -5.908</td> <td> 0.000</td> <td>   -1.877</td> <td>   -0.942</td>\n",
       "</tr>\n",
       "<tr>\n",
       "  <th>Method_Payment_Electronic check</th> <td>    0.3861</td> <td>    0.091</td> <td>    4.236</td> <td> 0.000</td> <td>    0.207</td> <td>    0.565</td>\n",
       "</tr>\n",
       "<tr>\n",
       "  <th>InternetService_Fiber optic</th>     <td>    0.7376</td> <td>    0.129</td> <td>    5.734</td> <td> 0.000</td> <td>    0.485</td> <td>    0.990</td>\n",
       "</tr>\n",
       "<tr>\n",
       "  <th>InternetService_No</th>              <td>   -0.7125</td> <td>    0.178</td> <td>   -4.014</td> <td> 0.000</td> <td>   -1.060</td> <td>   -0.365</td>\n",
       "</tr>\n",
       "<tr>\n",
       "  <th>OnlineSecurity_Yes</th>              <td>   -0.4090</td> <td>    0.111</td> <td>   -3.696</td> <td> 0.000</td> <td>   -0.626</td> <td>   -0.192</td>\n",
       "</tr>\n",
       "<tr>\n",
       "  <th>TechSupport_Yes</th>                 <td>   -0.3899</td> <td>    0.115</td> <td>   -3.403</td> <td> 0.001</td> <td>   -0.614</td> <td>   -0.165</td>\n",
       "</tr>\n",
       "<tr>\n",
       "  <th>TV_Streaming_Yes</th>                <td>    0.2460</td> <td>    0.107</td> <td>    2.296</td> <td> 0.022</td> <td>    0.036</td> <td>    0.456</td>\n",
       "</tr>\n",
       "<tr>\n",
       "  <th>Movie_Streaming_Yes</th>             <td>    0.1815</td> <td>    0.108</td> <td>    1.686</td> <td> 0.092</td> <td>   -0.029</td> <td>    0.393</td>\n",
       "</tr>\n",
       "</table>"
      ],
      "text/latex": [
       "\\begin{center}\n",
       "\\begin{tabular}{lclc}\n",
       "\\toprule\n",
       "\\textbf{Dep. Variable:}                    &      Churn       & \\textbf{  No. Observations:  } &     3936    \\\\\n",
       "\\textbf{Model:}                            &       GLM        & \\textbf{  Df Residuals:      } &     3920    \\\\\n",
       "\\textbf{Model Family:}                     &     Binomial     & \\textbf{  Df Model:          } &       15    \\\\\n",
       "\\textbf{Link Function:}                    &      Logit       & \\textbf{  Scale:             } &    1.0000   \\\\\n",
       "\\textbf{Method:}                           &       IRLS       & \\textbf{  Log-Likelihood:    } &   -1662.5   \\\\\n",
       "\\textbf{Date:}                             & Wed, 03 Jul 2024 & \\textbf{  Deviance:          } &    3324.9   \\\\\n",
       "\\textbf{Time:}                             &     12:51:13     & \\textbf{  Pearson chi2:      } &  4.84e+03   \\\\\n",
       "\\textbf{No. Iterations:}                   &        7         & \\textbf{  Pseudo R-squ. (CS):} &   0.2689    \\\\\n",
       "\\textbf{Covariance Type:}                  &    nonrobust     & \\textbf{                     } &             \\\\\n",
       "\\bottomrule\n",
       "\\end{tabular}\n",
       "\\begin{tabular}{lcccccc}\n",
       "                                           & \\textbf{coef} & \\textbf{std err} & \\textbf{z} & \\textbf{P$> |$z$|$} & \\textbf{[0.025} & \\textbf{0.975]}  \\\\\n",
       "\\midrule\n",
       "\\textbf{const}                             &      -1.1063  &        0.187     &    -5.915  &         0.000        &       -1.473    &       -0.740     \\\\\n",
       "\\textbf{SeniorCitizen}                     &       0.2182  &        0.111     &     1.959  &         0.050        &       -0.000    &        0.436     \\\\\n",
       "\\textbf{Dependents}                        &      -0.1358  &        0.108     &    -1.253  &         0.210        &       -0.348    &        0.077     \\\\\n",
       "\\textbf{tenure}                            &      -1.4725  &        0.197     &    -7.475  &         0.000        &       -1.859    &       -1.086     \\\\\n",
       "\\textbf{PhoneService}                      &      -0.6637  &        0.172     &    -3.865  &         0.000        &       -1.000    &       -0.327     \\\\\n",
       "\\textbf{PaperlessBilling}                  &       0.3712  &        0.099     &     3.732  &         0.000        &        0.176    &        0.566     \\\\\n",
       "\\textbf{TotalCharges}                      &       0.7605  &        0.203     &     3.751  &         0.000        &        0.363    &        1.158     \\\\\n",
       "\\textbf{Contract\\_One year}                &      -0.6005  &        0.138     &    -4.345  &         0.000        &       -0.871    &       -0.330     \\\\\n",
       "\\textbf{Contract\\_Two year}                &      -1.4096  &        0.239     &    -5.908  &         0.000        &       -1.877    &       -0.942     \\\\\n",
       "\\textbf{Method\\_Payment\\_Electronic check} &       0.3861  &        0.091     &     4.236  &         0.000        &        0.207    &        0.565     \\\\\n",
       "\\textbf{InternetService\\_Fiber optic}      &       0.7376  &        0.129     &     5.734  &         0.000        &        0.485    &        0.990     \\\\\n",
       "\\textbf{InternetService\\_No}               &      -0.7125  &        0.178     &    -4.014  &         0.000        &       -1.060    &       -0.365     \\\\\n",
       "\\textbf{OnlineSecurity\\_Yes}               &      -0.4090  &        0.111     &    -3.696  &         0.000        &       -0.626    &       -0.192     \\\\\n",
       "\\textbf{TechSupport\\_Yes}                  &      -0.3899  &        0.115     &    -3.403  &         0.001        &       -0.614    &       -0.165     \\\\\n",
       "\\textbf{TV\\_Streaming\\_Yes}                &       0.2460  &        0.107     &     2.296  &         0.022        &        0.036    &        0.456     \\\\\n",
       "\\textbf{Movie\\_Streaming\\_Yes}             &       0.1815  &        0.108     &     1.686  &         0.092        &       -0.029    &        0.393     \\\\\n",
       "\\bottomrule\n",
       "\\end{tabular}\n",
       "%\\caption{Generalized Linear Model Regression Results}\n",
       "\\end{center}"
      ],
      "text/plain": [
       "<class 'statsmodels.iolib.summary.Summary'>\n",
       "\"\"\"\n",
       "                 Generalized Linear Model Regression Results                  \n",
       "==============================================================================\n",
       "Dep. Variable:                  Churn   No. Observations:                 3936\n",
       "Model:                            GLM   Df Residuals:                     3920\n",
       "Model Family:                Binomial   Df Model:                           15\n",
       "Link Function:                  Logit   Scale:                          1.0000\n",
       "Method:                          IRLS   Log-Likelihood:                -1662.5\n",
       "Date:                Wed, 03 Jul 2024   Deviance:                       3324.9\n",
       "Time:                        12:51:13   Pearson chi2:                 4.84e+03\n",
       "No. Iterations:                     7   Pseudo R-squ. (CS):             0.2689\n",
       "Covariance Type:            nonrobust                                         \n",
       "===================================================================================================\n",
       "                                      coef    std err          z      P>|z|      [0.025      0.975]\n",
       "---------------------------------------------------------------------------------------------------\n",
       "const                              -1.1063      0.187     -5.915      0.000      -1.473      -0.740\n",
       "SeniorCitizen                       0.2182      0.111      1.959      0.050      -0.000       0.436\n",
       "Dependents                         -0.1358      0.108     -1.253      0.210      -0.348       0.077\n",
       "tenure                             -1.4725      0.197     -7.475      0.000      -1.859      -1.086\n",
       "PhoneService                       -0.6637      0.172     -3.865      0.000      -1.000      -0.327\n",
       "PaperlessBilling                    0.3712      0.099      3.732      0.000       0.176       0.566\n",
       "TotalCharges                        0.7605      0.203      3.751      0.000       0.363       1.158\n",
       "Contract_One year                  -0.6005      0.138     -4.345      0.000      -0.871      -0.330\n",
       "Contract_Two year                  -1.4096      0.239     -5.908      0.000      -1.877      -0.942\n",
       "Method_Payment_Electronic check     0.3861      0.091      4.236      0.000       0.207       0.565\n",
       "InternetService_Fiber optic         0.7376      0.129      5.734      0.000       0.485       0.990\n",
       "InternetService_No                 -0.7125      0.178     -4.014      0.000      -1.060      -0.365\n",
       "OnlineSecurity_Yes                 -0.4090      0.111     -3.696      0.000      -0.626      -0.192\n",
       "TechSupport_Yes                    -0.3899      0.115     -3.403      0.001      -0.614      -0.165\n",
       "TV_Streaming_Yes                    0.2460      0.107      2.296      0.022       0.036       0.456\n",
       "Movie_Streaming_Yes                 0.1815      0.108      1.686      0.092      -0.029       0.393\n",
       "===================================================================================================\n",
       "\"\"\""
      ]
     },
     "execution_count": 55,
     "metadata": {},
     "output_type": "execute_result"
    }
   ],
   "source": [
    "X_train_sm = sm.add_constant(X_train[col])\n",
    "logm2 = sm.GLM(y_train,X_train_sm, family = sm.families.Binomial())\n",
    "res = logm2.fit()\n",
    "res.summary()"
   ]
  },
  {
   "cell_type": "code",
   "execution_count": 56,
   "id": "05d49ed8-004c-4b1b-a22c-23cd9be348f8",
   "metadata": {},
   "outputs": [
    {
     "data": {
      "text/plain": [
       "4616    0.487114\n",
       "4806    0.221519\n",
       "381     0.677591\n",
       "3378    0.793927\n",
       "2277    0.042931\n",
       "836     0.168491\n",
       "2972    0.725471\n",
       "701     0.007317\n",
       "2522    0.552354\n",
       "2909    0.349890\n",
       "dtype: float64"
      ]
     },
     "execution_count": 56,
     "metadata": {},
     "output_type": "execute_result"
    }
   ],
   "source": [
    "# Getting the predicted values on the train set\n",
    "y_train_pred = res.predict(X_train_sm)\n",
    "y_train_pred[:10]"
   ]
  },
  {
   "cell_type": "markdown",
   "id": "b7ead3f3-0dc9-4b48-aedb-f24288bfed10",
   "metadata": {},
   "source": [
    "#### Creating a dataframe with the actual churn flag and the predicted probabilities"
   ]
  },
  {
   "cell_type": "code",
   "execution_count": 57,
   "id": "1d5099ad-a353-4ff8-9081-f87f632368d9",
   "metadata": {},
   "outputs": [
    {
     "data": {
      "text/html": [
       "<div>\n",
       "<style scoped>\n",
       "    .dataframe tbody tr th:only-of-type {\n",
       "        vertical-align: middle;\n",
       "    }\n",
       "\n",
       "    .dataframe tbody tr th {\n",
       "        vertical-align: top;\n",
       "    }\n",
       "\n",
       "    .dataframe thead th {\n",
       "        text-align: right;\n",
       "    }\n",
       "</style>\n",
       "<table border=\"1\" class=\"dataframe\">\n",
       "  <thead>\n",
       "    <tr style=\"text-align: right;\">\n",
       "      <th></th>\n",
       "      <th>Churn</th>\n",
       "      <th>Churn_Prob</th>\n",
       "      <th>cID</th>\n",
       "    </tr>\n",
       "  </thead>\n",
       "  <tbody>\n",
       "    <tr>\n",
       "      <th>4616</th>\n",
       "      <td>0</td>\n",
       "      <td>0.487114</td>\n",
       "      <td>4616</td>\n",
       "    </tr>\n",
       "    <tr>\n",
       "      <th>4806</th>\n",
       "      <td>0</td>\n",
       "      <td>0.221519</td>\n",
       "      <td>4806</td>\n",
       "    </tr>\n",
       "    <tr>\n",
       "      <th>381</th>\n",
       "      <td>1</td>\n",
       "      <td>0.677591</td>\n",
       "      <td>381</td>\n",
       "    </tr>\n",
       "    <tr>\n",
       "      <th>3378</th>\n",
       "      <td>1</td>\n",
       "      <td>0.793927</td>\n",
       "      <td>3378</td>\n",
       "    </tr>\n",
       "    <tr>\n",
       "      <th>2277</th>\n",
       "      <td>0</td>\n",
       "      <td>0.042931</td>\n",
       "      <td>2277</td>\n",
       "    </tr>\n",
       "  </tbody>\n",
       "</table>\n",
       "</div>"
      ],
      "text/plain": [
       "      Churn  Churn_Prob   cID\n",
       "4616      0    0.487114  4616\n",
       "4806      0    0.221519  4806\n",
       "381       1    0.677591   381\n",
       "3378      1    0.793927  3378\n",
       "2277      0    0.042931  2277"
      ]
     },
     "execution_count": 57,
     "metadata": {},
     "output_type": "execute_result"
    }
   ],
   "source": [
    "y_train_pred_final = pd.DataFrame({'Churn':y_train.values, 'Churn_Prob':y_train_pred})\n",
    "y_train_pred_final['cID'] = y_train.index\n",
    "y_train_pred_final.head()"
   ]
  },
  {
   "cell_type": "markdown",
   "id": "3a1d8e7c-7e9e-461c-99cc-b583a9ec34a2",
   "metadata": {},
   "source": [
    "#### Creating new column 'predicted' with 1 if Churn_Prob > 0.5 else 0"
   ]
  },
  {
   "cell_type": "code",
   "execution_count": 58,
   "id": "1dc2141a-d2b5-45c6-95a0-2ab1d512c59a",
   "metadata": {},
   "outputs": [
    {
     "data": {
      "text/html": [
       "<div>\n",
       "<style scoped>\n",
       "    .dataframe tbody tr th:only-of-type {\n",
       "        vertical-align: middle;\n",
       "    }\n",
       "\n",
       "    .dataframe tbody tr th {\n",
       "        vertical-align: top;\n",
       "    }\n",
       "\n",
       "    .dataframe thead th {\n",
       "        text-align: right;\n",
       "    }\n",
       "</style>\n",
       "<table border=\"1\" class=\"dataframe\">\n",
       "  <thead>\n",
       "    <tr style=\"text-align: right;\">\n",
       "      <th></th>\n",
       "      <th>Churn</th>\n",
       "      <th>Churn_Prob</th>\n",
       "      <th>cID</th>\n",
       "      <th>predicted</th>\n",
       "    </tr>\n",
       "  </thead>\n",
       "  <tbody>\n",
       "    <tr>\n",
       "      <th>4616</th>\n",
       "      <td>0</td>\n",
       "      <td>0.487114</td>\n",
       "      <td>4616</td>\n",
       "      <td>0</td>\n",
       "    </tr>\n",
       "    <tr>\n",
       "      <th>4806</th>\n",
       "      <td>0</td>\n",
       "      <td>0.221519</td>\n",
       "      <td>4806</td>\n",
       "      <td>0</td>\n",
       "    </tr>\n",
       "    <tr>\n",
       "      <th>381</th>\n",
       "      <td>1</td>\n",
       "      <td>0.677591</td>\n",
       "      <td>381</td>\n",
       "      <td>1</td>\n",
       "    </tr>\n",
       "    <tr>\n",
       "      <th>3378</th>\n",
       "      <td>1</td>\n",
       "      <td>0.793927</td>\n",
       "      <td>3378</td>\n",
       "      <td>1</td>\n",
       "    </tr>\n",
       "    <tr>\n",
       "      <th>2277</th>\n",
       "      <td>0</td>\n",
       "      <td>0.042931</td>\n",
       "      <td>2277</td>\n",
       "      <td>0</td>\n",
       "    </tr>\n",
       "  </tbody>\n",
       "</table>\n",
       "</div>"
      ],
      "text/plain": [
       "      Churn  Churn_Prob   cID  predicted\n",
       "4616      0    0.487114  4616          0\n",
       "4806      0    0.221519  4806          0\n",
       "381       1    0.677591   381          1\n",
       "3378      1    0.793927  3378          1\n",
       "2277      0    0.042931  2277          0"
      ]
     },
     "execution_count": 58,
     "metadata": {},
     "output_type": "execute_result"
    }
   ],
   "source": [
    "y_train_pred_final['predicted'] = y_train_pred_final.Churn_Prob.map(lambda x: 1 if x > 0.5 else 0)\n",
    "\n",
    "# Let's see the head\n",
    "y_train_pred_final.head()"
   ]
  },
  {
   "cell_type": "code",
   "execution_count": 59,
   "id": "b60524d6-113b-4b69-857b-a7ac2c32e4ff",
   "metadata": {},
   "outputs": [],
   "source": [
    "from sklearn import metrics"
   ]
  },
  {
   "cell_type": "code",
   "execution_count": 60,
   "id": "f859d253-9b93-4548-bc2f-39bb1a1aab53",
   "metadata": {},
   "outputs": [
    {
     "name": "stdout",
     "output_type": "stream",
     "text": [
      "[[2601  289]\n",
      " [ 490  556]]\n"
     ]
    }
   ],
   "source": [
    "# Confusion matrix \n",
    "confusion = metrics.confusion_matrix(y_train_pred_final.Churn, y_train_pred_final.predicted )\n",
    "print(confusion)"
   ]
  },
  {
   "cell_type": "code",
   "execution_count": 61,
   "id": "a75dd027-86f4-4ed2-a7b8-f6fa7bcaf153",
   "metadata": {},
   "outputs": [],
   "source": [
    "# Predicted     not_churn    churn\n",
    "# Actual\n",
    "# not_churn        2601      289\n",
    "# churn            490       556  "
   ]
  },
  {
   "cell_type": "code",
   "execution_count": 62,
   "id": "82a6f193-7eb0-4b7e-8b29-201e4e414aa0",
   "metadata": {},
   "outputs": [
    {
     "name": "stdout",
     "output_type": "stream",
     "text": [
      "0.8020833333333334\n"
     ]
    }
   ],
   "source": [
    "# Let's check the overall accuracy.\n",
    "print(metrics.accuracy_score(y_train_pred_final.Churn, y_train_pred_final.predicted))"
   ]
  },
  {
   "cell_type": "markdown",
   "id": "d31cbce0-6a72-491d-bba9-7d0107a44b43",
   "metadata": {},
   "source": [
    "### Checking VIFs"
   ]
  },
  {
   "cell_type": "code",
   "execution_count": 63,
   "id": "de93e953-9729-4bb6-bd32-471ed4e408ca",
   "metadata": {},
   "outputs": [],
   "source": [
    "# Check for the VIF values of the feature variables. \n",
    "from statsmodels.stats.outliers_influence import variance_inflation_factor"
   ]
  },
  {
   "cell_type": "code",
   "execution_count": 64,
   "id": "991e8bee-602c-4b1a-b457-59bb4584b685",
   "metadata": {},
   "outputs": [
    {
     "data": {
      "text/html": [
       "<div>\n",
       "<style scoped>\n",
       "    .dataframe tbody tr th:only-of-type {\n",
       "        vertical-align: middle;\n",
       "    }\n",
       "\n",
       "    .dataframe tbody tr th {\n",
       "        vertical-align: top;\n",
       "    }\n",
       "\n",
       "    .dataframe thead th {\n",
       "        text-align: right;\n",
       "    }\n",
       "</style>\n",
       "<table border=\"1\" class=\"dataframe\">\n",
       "  <thead>\n",
       "    <tr style=\"text-align: right;\">\n",
       "      <th></th>\n",
       "      <th>Features</th>\n",
       "      <th>VIF</th>\n",
       "    </tr>\n",
       "  </thead>\n",
       "  <tbody>\n",
       "    <tr>\n",
       "      <th>3</th>\n",
       "      <td>PhoneService</td>\n",
       "      <td>7.82</td>\n",
       "    </tr>\n",
       "    <tr>\n",
       "      <th>5</th>\n",
       "      <td>TotalCharges</td>\n",
       "      <td>7.61</td>\n",
       "    </tr>\n",
       "    <tr>\n",
       "      <th>2</th>\n",
       "      <td>tenure</td>\n",
       "      <td>6.69</td>\n",
       "    </tr>\n",
       "    <tr>\n",
       "      <th>9</th>\n",
       "      <td>InternetService_Fiber optic</td>\n",
       "      <td>4.04</td>\n",
       "    </tr>\n",
       "    <tr>\n",
       "      <th>7</th>\n",
       "      <td>Contract_Two year</td>\n",
       "      <td>3.32</td>\n",
       "    </tr>\n",
       "    <tr>\n",
       "      <th>10</th>\n",
       "      <td>InternetService_No</td>\n",
       "      <td>3.26</td>\n",
       "    </tr>\n",
       "    <tr>\n",
       "      <th>4</th>\n",
       "      <td>PaperlessBilling</td>\n",
       "      <td>2.76</td>\n",
       "    </tr>\n",
       "    <tr>\n",
       "      <th>14</th>\n",
       "      <td>Movie_Streaming_Yes</td>\n",
       "      <td>2.70</td>\n",
       "    </tr>\n",
       "    <tr>\n",
       "      <th>13</th>\n",
       "      <td>TV_Streaming_Yes</td>\n",
       "      <td>2.64</td>\n",
       "    </tr>\n",
       "    <tr>\n",
       "      <th>12</th>\n",
       "      <td>TechSupport_Yes</td>\n",
       "      <td>2.03</td>\n",
       "    </tr>\n",
       "    <tr>\n",
       "      <th>6</th>\n",
       "      <td>Contract_One year</td>\n",
       "      <td>1.94</td>\n",
       "    </tr>\n",
       "    <tr>\n",
       "      <th>11</th>\n",
       "      <td>OnlineSecurity_Yes</td>\n",
       "      <td>1.87</td>\n",
       "    </tr>\n",
       "    <tr>\n",
       "      <th>8</th>\n",
       "      <td>Method_Payment_Electronic check</td>\n",
       "      <td>1.84</td>\n",
       "    </tr>\n",
       "    <tr>\n",
       "      <th>1</th>\n",
       "      <td>Dependents</td>\n",
       "      <td>1.55</td>\n",
       "    </tr>\n",
       "    <tr>\n",
       "      <th>0</th>\n",
       "      <td>SeniorCitizen</td>\n",
       "      <td>1.32</td>\n",
       "    </tr>\n",
       "  </tbody>\n",
       "</table>\n",
       "</div>"
      ],
      "text/plain": [
       "                           Features   VIF\n",
       "3                      PhoneService  7.82\n",
       "5                      TotalCharges  7.61\n",
       "2                            tenure  6.69\n",
       "9       InternetService_Fiber optic  4.04\n",
       "7                 Contract_Two year  3.32\n",
       "10               InternetService_No  3.26\n",
       "4                  PaperlessBilling  2.76\n",
       "14              Movie_Streaming_Yes  2.70\n",
       "13                 TV_Streaming_Yes  2.64\n",
       "12                  TechSupport_Yes  2.03\n",
       "6                 Contract_One year  1.94\n",
       "11               OnlineSecurity_Yes  1.87\n",
       "8   Method_Payment_Electronic check  1.84\n",
       "1                        Dependents  1.55\n",
       "0                     SeniorCitizen  1.32"
      ]
     },
     "execution_count": 64,
     "metadata": {},
     "output_type": "execute_result"
    }
   ],
   "source": [
    "# Create a dataframe that will contain the names of all the feature variables and their respective VIFs\n",
    "vif = pd.DataFrame()\n",
    "vif['Features'] = X_train[col].columns\n",
    "vif['VIF'] = [variance_inflation_factor(X_train[col].values, i) for i in range(X_train[col].shape[1])]\n",
    "vif['VIF'] = round(vif['VIF'], 2)\n",
    "vif = vif.sort_values(by = \"VIF\", ascending = False)\n",
    "vif"
   ]
  },
  {
   "cell_type": "markdown",
   "id": "d3de1bb7-c43c-41d3-93d0-f6c2868da5c5",
   "metadata": {},
   "source": [
    "There are a few variables with high VIF. It's best to drop these variables as they aren't helping much with prediction and unnecessarily making the model complex. The variable 'PhoneService' has the highest VIF. So let's start by dropping that."
   ]
  },
  {
   "cell_type": "code",
   "execution_count": 65,
   "id": "b50e5737-204e-4a53-980b-1b93e00348f6",
   "metadata": {},
   "outputs": [
    {
     "data": {
      "text/plain": [
       "Index(['SeniorCitizen', 'Dependents', 'tenure', 'PaperlessBilling',\n",
       "       'TotalCharges', 'Contract_One year', 'Contract_Two year',\n",
       "       'Method_Payment_Electronic check', 'InternetService_Fiber optic',\n",
       "       'InternetService_No', 'OnlineSecurity_Yes', 'TechSupport_Yes',\n",
       "       'TV_Streaming_Yes', 'Movie_Streaming_Yes'],\n",
       "      dtype='object')"
      ]
     },
     "execution_count": 65,
     "metadata": {},
     "output_type": "execute_result"
    }
   ],
   "source": [
    "col = col.drop('PhoneService', 1)\n",
    "col"
   ]
  },
  {
   "cell_type": "code",
   "execution_count": 66,
   "id": "4eb4a391-5d9f-4ff9-9039-a147a1a46b27",
   "metadata": {},
   "outputs": [
    {
     "data": {
      "text/html": [
       "<table class=\"simpletable\">\n",
       "<caption>Generalized Linear Model Regression Results</caption>\n",
       "<tr>\n",
       "  <th>Dep. Variable:</th>         <td>Churn</td>      <th>  No. Observations:  </th>  <td>  3936</td> \n",
       "</tr>\n",
       "<tr>\n",
       "  <th>Model:</th>                  <td>GLM</td>       <th>  Df Residuals:      </th>  <td>  3921</td> \n",
       "</tr>\n",
       "<tr>\n",
       "  <th>Model Family:</th>        <td>Binomial</td>     <th>  Df Model:          </th>  <td>    14</td> \n",
       "</tr>\n",
       "<tr>\n",
       "  <th>Link Function:</th>         <td>Logit</td>      <th>  Scale:             </th> <td>  1.0000</td>\n",
       "</tr>\n",
       "<tr>\n",
       "  <th>Method:</th>                <td>IRLS</td>       <th>  Log-Likelihood:    </th> <td> -1669.9</td>\n",
       "</tr>\n",
       "<tr>\n",
       "  <th>Date:</th>            <td>Wed, 03 Jul 2024</td> <th>  Deviance:          </th> <td>  3339.8</td>\n",
       "</tr>\n",
       "<tr>\n",
       "  <th>Time:</th>                <td>12:55:49</td>     <th>  Pearson chi2:      </th> <td>4.46e+03</td>\n",
       "</tr>\n",
       "<tr>\n",
       "  <th>No. Iterations:</th>          <td>7</td>        <th>  Pseudo R-squ. (CS):</th>  <td>0.2661</td> \n",
       "</tr>\n",
       "<tr>\n",
       "  <th>Covariance Type:</th>     <td>nonrobust</td>    <th>                     </th>     <td> </td>   \n",
       "</tr>\n",
       "</table>\n",
       "<table class=\"simpletable\">\n",
       "<tr>\n",
       "                 <td></td>                    <th>coef</th>     <th>std err</th>      <th>z</th>      <th>P>|z|</th>  <th>[0.025</th>    <th>0.975]</th>  \n",
       "</tr>\n",
       "<tr>\n",
       "  <th>const</th>                           <td>   -1.5843</td> <td>    0.142</td> <td>  -11.158</td> <td> 0.000</td> <td>   -1.863</td> <td>   -1.306</td>\n",
       "</tr>\n",
       "<tr>\n",
       "  <th>SeniorCitizen</th>                   <td>    0.2394</td> <td>    0.111</td> <td>    2.152</td> <td> 0.031</td> <td>    0.021</td> <td>    0.457</td>\n",
       "</tr>\n",
       "<tr>\n",
       "  <th>Dependents</th>                      <td>   -0.1426</td> <td>    0.108</td> <td>   -1.320</td> <td> 0.187</td> <td>   -0.354</td> <td>    0.069</td>\n",
       "</tr>\n",
       "<tr>\n",
       "  <th>tenure</th>                          <td>   -1.2813</td> <td>    0.190</td> <td>   -6.754</td> <td> 0.000</td> <td>   -1.653</td> <td>   -0.910</td>\n",
       "</tr>\n",
       "<tr>\n",
       "  <th>PaperlessBilling</th>                <td>    0.3725</td> <td>    0.099</td> <td>    3.760</td> <td> 0.000</td> <td>    0.178</td> <td>    0.567</td>\n",
       "</tr>\n",
       "<tr>\n",
       "  <th>TotalCharges</th>                    <td>    0.5619</td> <td>    0.196</td> <td>    2.867</td> <td> 0.004</td> <td>    0.178</td> <td>    0.946</td>\n",
       "</tr>\n",
       "<tr>\n",
       "  <th>Contract_One year</th>               <td>   -0.5986</td> <td>    0.138</td> <td>   -4.339</td> <td> 0.000</td> <td>   -0.869</td> <td>   -0.328</td>\n",
       "</tr>\n",
       "<tr>\n",
       "  <th>Contract_Two year</th>               <td>   -1.4042</td> <td>    0.238</td> <td>   -5.903</td> <td> 0.000</td> <td>   -1.870</td> <td>   -0.938</td>\n",
       "</tr>\n",
       "<tr>\n",
       "  <th>Method_Payment_Electronic check</th> <td>    0.4050</td> <td>    0.091</td> <td>    4.459</td> <td> 0.000</td> <td>    0.227</td> <td>    0.583</td>\n",
       "</tr>\n",
       "<tr>\n",
       "  <th>InternetService_Fiber optic</th>     <td>    0.5679</td> <td>    0.119</td> <td>    4.767</td> <td> 0.000</td> <td>    0.334</td> <td>    0.801</td>\n",
       "</tr>\n",
       "<tr>\n",
       "  <th>InternetService_No</th>              <td>   -0.9057</td> <td>    0.169</td> <td>   -5.362</td> <td> 0.000</td> <td>   -1.237</td> <td>   -0.575</td>\n",
       "</tr>\n",
       "<tr>\n",
       "  <th>OnlineSecurity_Yes</th>              <td>   -0.4045</td> <td>    0.110</td> <td>   -3.661</td> <td> 0.000</td> <td>   -0.621</td> <td>   -0.188</td>\n",
       "</tr>\n",
       "<tr>\n",
       "  <th>TechSupport_Yes</th>                 <td>   -0.4054</td> <td>    0.114</td> <td>   -3.546</td> <td> 0.000</td> <td>   -0.629</td> <td>   -0.181</td>\n",
       "</tr>\n",
       "<tr>\n",
       "  <th>TV_Streaming_Yes</th>                <td>    0.2736</td> <td>    0.107</td> <td>    2.560</td> <td> 0.010</td> <td>    0.064</td> <td>    0.483</td>\n",
       "</tr>\n",
       "<tr>\n",
       "  <th>Movie_Streaming_Yes</th>             <td>    0.2245</td> <td>    0.107</td> <td>    2.100</td> <td> 0.036</td> <td>    0.015</td> <td>    0.434</td>\n",
       "</tr>\n",
       "</table>"
      ],
      "text/latex": [
       "\\begin{center}\n",
       "\\begin{tabular}{lclc}\n",
       "\\toprule\n",
       "\\textbf{Dep. Variable:}                    &      Churn       & \\textbf{  No. Observations:  } &     3936    \\\\\n",
       "\\textbf{Model:}                            &       GLM        & \\textbf{  Df Residuals:      } &     3921    \\\\\n",
       "\\textbf{Model Family:}                     &     Binomial     & \\textbf{  Df Model:          } &       14    \\\\\n",
       "\\textbf{Link Function:}                    &      Logit       & \\textbf{  Scale:             } &    1.0000   \\\\\n",
       "\\textbf{Method:}                           &       IRLS       & \\textbf{  Log-Likelihood:    } &   -1669.9   \\\\\n",
       "\\textbf{Date:}                             & Wed, 03 Jul 2024 & \\textbf{  Deviance:          } &    3339.8   \\\\\n",
       "\\textbf{Time:}                             &     12:55:49     & \\textbf{  Pearson chi2:      } &  4.46e+03   \\\\\n",
       "\\textbf{No. Iterations:}                   &        7         & \\textbf{  Pseudo R-squ. (CS):} &   0.2661    \\\\\n",
       "\\textbf{Covariance Type:}                  &    nonrobust     & \\textbf{                     } &             \\\\\n",
       "\\bottomrule\n",
       "\\end{tabular}\n",
       "\\begin{tabular}{lcccccc}\n",
       "                                           & \\textbf{coef} & \\textbf{std err} & \\textbf{z} & \\textbf{P$> |$z$|$} & \\textbf{[0.025} & \\textbf{0.975]}  \\\\\n",
       "\\midrule\n",
       "\\textbf{const}                             &      -1.5843  &        0.142     &   -11.158  &         0.000        &       -1.863    &       -1.306     \\\\\n",
       "\\textbf{SeniorCitizen}                     &       0.2394  &        0.111     &     2.152  &         0.031        &        0.021    &        0.457     \\\\\n",
       "\\textbf{Dependents}                        &      -0.1426  &        0.108     &    -1.320  &         0.187        &       -0.354    &        0.069     \\\\\n",
       "\\textbf{tenure}                            &      -1.2813  &        0.190     &    -6.754  &         0.000        &       -1.653    &       -0.910     \\\\\n",
       "\\textbf{PaperlessBilling}                  &       0.3725  &        0.099     &     3.760  &         0.000        &        0.178    &        0.567     \\\\\n",
       "\\textbf{TotalCharges}                      &       0.5619  &        0.196     &     2.867  &         0.004        &        0.178    &        0.946     \\\\\n",
       "\\textbf{Contract\\_One year}                &      -0.5986  &        0.138     &    -4.339  &         0.000        &       -0.869    &       -0.328     \\\\\n",
       "\\textbf{Contract\\_Two year}                &      -1.4042  &        0.238     &    -5.903  &         0.000        &       -1.870    &       -0.938     \\\\\n",
       "\\textbf{Method\\_Payment\\_Electronic check} &       0.4050  &        0.091     &     4.459  &         0.000        &        0.227    &        0.583     \\\\\n",
       "\\textbf{InternetService\\_Fiber optic}      &       0.5679  &        0.119     &     4.767  &         0.000        &        0.334    &        0.801     \\\\\n",
       "\\textbf{InternetService\\_No}               &      -0.9057  &        0.169     &    -5.362  &         0.000        &       -1.237    &       -0.575     \\\\\n",
       "\\textbf{OnlineSecurity\\_Yes}               &      -0.4045  &        0.110     &    -3.661  &         0.000        &       -0.621    &       -0.188     \\\\\n",
       "\\textbf{TechSupport\\_Yes}                  &      -0.4054  &        0.114     &    -3.546  &         0.000        &       -0.629    &       -0.181     \\\\\n",
       "\\textbf{TV\\_Streaming\\_Yes}                &       0.2736  &        0.107     &     2.560  &         0.010        &        0.064    &        0.483     \\\\\n",
       "\\textbf{Movie\\_Streaming\\_Yes}             &       0.2245  &        0.107     &     2.100  &         0.036        &        0.015    &        0.434     \\\\\n",
       "\\bottomrule\n",
       "\\end{tabular}\n",
       "%\\caption{Generalized Linear Model Regression Results}\n",
       "\\end{center}"
      ],
      "text/plain": [
       "<class 'statsmodels.iolib.summary.Summary'>\n",
       "\"\"\"\n",
       "                 Generalized Linear Model Regression Results                  \n",
       "==============================================================================\n",
       "Dep. Variable:                  Churn   No. Observations:                 3936\n",
       "Model:                            GLM   Df Residuals:                     3921\n",
       "Model Family:                Binomial   Df Model:                           14\n",
       "Link Function:                  Logit   Scale:                          1.0000\n",
       "Method:                          IRLS   Log-Likelihood:                -1669.9\n",
       "Date:                Wed, 03 Jul 2024   Deviance:                       3339.8\n",
       "Time:                        12:55:49   Pearson chi2:                 4.46e+03\n",
       "No. Iterations:                     7   Pseudo R-squ. (CS):             0.2661\n",
       "Covariance Type:            nonrobust                                         \n",
       "===================================================================================================\n",
       "                                      coef    std err          z      P>|z|      [0.025      0.975]\n",
       "---------------------------------------------------------------------------------------------------\n",
       "const                              -1.5843      0.142    -11.158      0.000      -1.863      -1.306\n",
       "SeniorCitizen                       0.2394      0.111      2.152      0.031       0.021       0.457\n",
       "Dependents                         -0.1426      0.108     -1.320      0.187      -0.354       0.069\n",
       "tenure                             -1.2813      0.190     -6.754      0.000      -1.653      -0.910\n",
       "PaperlessBilling                    0.3725      0.099      3.760      0.000       0.178       0.567\n",
       "TotalCharges                        0.5619      0.196      2.867      0.004       0.178       0.946\n",
       "Contract_One year                  -0.5986      0.138     -4.339      0.000      -0.869      -0.328\n",
       "Contract_Two year                  -1.4042      0.238     -5.903      0.000      -1.870      -0.938\n",
       "Method_Payment_Electronic check     0.4050      0.091      4.459      0.000       0.227       0.583\n",
       "InternetService_Fiber optic         0.5679      0.119      4.767      0.000       0.334       0.801\n",
       "InternetService_No                 -0.9057      0.169     -5.362      0.000      -1.237      -0.575\n",
       "OnlineSecurity_Yes                 -0.4045      0.110     -3.661      0.000      -0.621      -0.188\n",
       "TechSupport_Yes                    -0.4054      0.114     -3.546      0.000      -0.629      -0.181\n",
       "TV_Streaming_Yes                    0.2736      0.107      2.560      0.010       0.064       0.483\n",
       "Movie_Streaming_Yes                 0.2245      0.107      2.100      0.036       0.015       0.434\n",
       "===================================================================================================\n",
       "\"\"\""
      ]
     },
     "execution_count": 66,
     "metadata": {},
     "output_type": "execute_result"
    }
   ],
   "source": [
    "# Let's re-run the model using the selected variables\n",
    "X_train_sm = sm.add_constant(X_train[col])\n",
    "logm3 = sm.GLM(y_train,X_train_sm, family = sm.families.Binomial())\n",
    "res = logm3.fit()\n",
    "res.summary()"
   ]
  },
  {
   "cell_type": "code",
   "execution_count": 67,
   "id": "cbb470c6-c925-49ed-8eed-0c8fdea1e3f8",
   "metadata": {},
   "outputs": [],
   "source": [
    "y_train_pred = res.predict(X_train_sm).values.reshape(-1)"
   ]
  },
  {
   "cell_type": "code",
   "execution_count": 68,
   "id": "f68baa40-a45c-4994-8ef1-a9385ad60127",
   "metadata": {},
   "outputs": [
    {
     "data": {
      "text/plain": [
       "array([0.49375178, 0.20048836, 0.6798876 , 0.80541489, 0.03983016,\n",
       "       0.16579985, 0.72778845, 0.00965526, 0.55955101, 0.35052028])"
      ]
     },
     "execution_count": 68,
     "metadata": {},
     "output_type": "execute_result"
    }
   ],
   "source": [
    "y_train_pred[:10]"
   ]
  },
  {
   "cell_type": "code",
   "execution_count": 69,
   "id": "67c7bab6-da42-4a8a-9821-27626542d796",
   "metadata": {},
   "outputs": [],
   "source": [
    "y_train_pred_final['Churn_Prob'] = y_train_pred"
   ]
  },
  {
   "cell_type": "code",
   "execution_count": 70,
   "id": "32cf8ccc-54ae-49c8-9e6a-9d573772cef9",
   "metadata": {},
   "outputs": [
    {
     "data": {
      "text/html": [
       "<div>\n",
       "<style scoped>\n",
       "    .dataframe tbody tr th:only-of-type {\n",
       "        vertical-align: middle;\n",
       "    }\n",
       "\n",
       "    .dataframe tbody tr th {\n",
       "        vertical-align: top;\n",
       "    }\n",
       "\n",
       "    .dataframe thead th {\n",
       "        text-align: right;\n",
       "    }\n",
       "</style>\n",
       "<table border=\"1\" class=\"dataframe\">\n",
       "  <thead>\n",
       "    <tr style=\"text-align: right;\">\n",
       "      <th></th>\n",
       "      <th>Churn</th>\n",
       "      <th>Churn_Prob</th>\n",
       "      <th>cID</th>\n",
       "      <th>predicted</th>\n",
       "    </tr>\n",
       "  </thead>\n",
       "  <tbody>\n",
       "    <tr>\n",
       "      <th>4616</th>\n",
       "      <td>0</td>\n",
       "      <td>0.493752</td>\n",
       "      <td>4616</td>\n",
       "      <td>0</td>\n",
       "    </tr>\n",
       "    <tr>\n",
       "      <th>4806</th>\n",
       "      <td>0</td>\n",
       "      <td>0.200488</td>\n",
       "      <td>4806</td>\n",
       "      <td>0</td>\n",
       "    </tr>\n",
       "    <tr>\n",
       "      <th>381</th>\n",
       "      <td>1</td>\n",
       "      <td>0.679888</td>\n",
       "      <td>381</td>\n",
       "      <td>1</td>\n",
       "    </tr>\n",
       "    <tr>\n",
       "      <th>3378</th>\n",
       "      <td>1</td>\n",
       "      <td>0.805415</td>\n",
       "      <td>3378</td>\n",
       "      <td>1</td>\n",
       "    </tr>\n",
       "    <tr>\n",
       "      <th>2277</th>\n",
       "      <td>0</td>\n",
       "      <td>0.039830</td>\n",
       "      <td>2277</td>\n",
       "      <td>0</td>\n",
       "    </tr>\n",
       "  </tbody>\n",
       "</table>\n",
       "</div>"
      ],
      "text/plain": [
       "      Churn  Churn_Prob   cID  predicted\n",
       "4616      0    0.493752  4616          0\n",
       "4806      0    0.200488  4806          0\n",
       "381       1    0.679888   381          1\n",
       "3378      1    0.805415  3378          1\n",
       "2277      0    0.039830  2277          0"
      ]
     },
     "execution_count": 70,
     "metadata": {},
     "output_type": "execute_result"
    }
   ],
   "source": [
    "# Creating new column 'predicted' with 1 if Churn_Prob > 0.5 else 0\n",
    "y_train_pred_final['predicted'] = y_train_pred_final.Churn_Prob.map(lambda x: 1 if x > 0.5 else 0)\n",
    "y_train_pred_final.head()"
   ]
  },
  {
   "cell_type": "code",
   "execution_count": 71,
   "id": "29ca7d13-22ea-4a50-a8fa-f0f7ab6ad8db",
   "metadata": {},
   "outputs": [
    {
     "name": "stdout",
     "output_type": "stream",
     "text": [
      "0.7982723577235772\n"
     ]
    }
   ],
   "source": [
    "# Let's check the overall accuracy.\n",
    "print(metrics.accuracy_score(y_train_pred_final.Churn, y_train_pred_final.predicted))"
   ]
  },
  {
   "cell_type": "markdown",
   "id": "4734e7b1-4a63-4b87-b41c-77cccfa0a87f",
   "metadata": {},
   "source": [
    "So overall the accuracy hasn't dropped much."
   ]
  },
  {
   "cell_type": "markdown",
   "id": "d3082c9e-7f94-41ed-aabe-446f88f5eada",
   "metadata": {},
   "source": [
    "#### Let's check the VIFs again"
   ]
  },
  {
   "cell_type": "code",
   "execution_count": 72,
   "id": "723ef24f-072c-48fe-93d0-0ddc34eb2c0a",
   "metadata": {},
   "outputs": [
    {
     "data": {
      "text/html": [
       "<div>\n",
       "<style scoped>\n",
       "    .dataframe tbody tr th:only-of-type {\n",
       "        vertical-align: middle;\n",
       "    }\n",
       "\n",
       "    .dataframe tbody tr th {\n",
       "        vertical-align: top;\n",
       "    }\n",
       "\n",
       "    .dataframe thead th {\n",
       "        text-align: right;\n",
       "    }\n",
       "</style>\n",
       "<table border=\"1\" class=\"dataframe\">\n",
       "  <thead>\n",
       "    <tr style=\"text-align: right;\">\n",
       "      <th></th>\n",
       "      <th>Features</th>\n",
       "      <th>VIF</th>\n",
       "    </tr>\n",
       "  </thead>\n",
       "  <tbody>\n",
       "    <tr>\n",
       "      <th>4</th>\n",
       "      <td>TotalCharges</td>\n",
       "      <td>7.60</td>\n",
       "    </tr>\n",
       "    <tr>\n",
       "      <th>2</th>\n",
       "      <td>tenure</td>\n",
       "      <td>6.54</td>\n",
       "    </tr>\n",
       "    <tr>\n",
       "      <th>6</th>\n",
       "      <td>Contract_Two year</td>\n",
       "      <td>3.17</td>\n",
       "    </tr>\n",
       "    <tr>\n",
       "      <th>8</th>\n",
       "      <td>InternetService_Fiber optic</td>\n",
       "      <td>2.94</td>\n",
       "    </tr>\n",
       "    <tr>\n",
       "      <th>13</th>\n",
       "      <td>Movie_Streaming_Yes</td>\n",
       "      <td>2.69</td>\n",
       "    </tr>\n",
       "    <tr>\n",
       "      <th>12</th>\n",
       "      <td>TV_Streaming_Yes</td>\n",
       "      <td>2.63</td>\n",
       "    </tr>\n",
       "    <tr>\n",
       "      <th>3</th>\n",
       "      <td>PaperlessBilling</td>\n",
       "      <td>2.60</td>\n",
       "    </tr>\n",
       "    <tr>\n",
       "      <th>9</th>\n",
       "      <td>InternetService_No</td>\n",
       "      <td>2.31</td>\n",
       "    </tr>\n",
       "    <tr>\n",
       "      <th>11</th>\n",
       "      <td>TechSupport_Yes</td>\n",
       "      <td>1.93</td>\n",
       "    </tr>\n",
       "    <tr>\n",
       "      <th>5</th>\n",
       "      <td>Contract_One year</td>\n",
       "      <td>1.87</td>\n",
       "    </tr>\n",
       "    <tr>\n",
       "      <th>7</th>\n",
       "      <td>Method_Payment_Electronic check</td>\n",
       "      <td>1.82</td>\n",
       "    </tr>\n",
       "    <tr>\n",
       "      <th>10</th>\n",
       "      <td>OnlineSecurity_Yes</td>\n",
       "      <td>1.74</td>\n",
       "    </tr>\n",
       "    <tr>\n",
       "      <th>1</th>\n",
       "      <td>Dependents</td>\n",
       "      <td>1.52</td>\n",
       "    </tr>\n",
       "    <tr>\n",
       "      <th>0</th>\n",
       "      <td>SeniorCitizen</td>\n",
       "      <td>1.31</td>\n",
       "    </tr>\n",
       "  </tbody>\n",
       "</table>\n",
       "</div>"
      ],
      "text/plain": [
       "                           Features   VIF\n",
       "4                      TotalCharges  7.60\n",
       "2                            tenure  6.54\n",
       "6                 Contract_Two year  3.17\n",
       "8       InternetService_Fiber optic  2.94\n",
       "13              Movie_Streaming_Yes  2.69\n",
       "12                 TV_Streaming_Yes  2.63\n",
       "3                  PaperlessBilling  2.60\n",
       "9                InternetService_No  2.31\n",
       "11                  TechSupport_Yes  1.93\n",
       "5                 Contract_One year  1.87\n",
       "7   Method_Payment_Electronic check  1.82\n",
       "10               OnlineSecurity_Yes  1.74\n",
       "1                        Dependents  1.52\n",
       "0                     SeniorCitizen  1.31"
      ]
     },
     "execution_count": 72,
     "metadata": {},
     "output_type": "execute_result"
    }
   ],
   "source": [
    "vif = pd.DataFrame()\n",
    "vif['Features'] = X_train[col].columns\n",
    "vif['VIF'] = [variance_inflation_factor(X_train[col].values, i) for i in range(X_train[col].shape[1])]\n",
    "vif['VIF'] = round(vif['VIF'], 2)\n",
    "vif = vif.sort_values(by = \"VIF\", ascending = False)\n",
    "vif"
   ]
  },
  {
   "cell_type": "code",
   "execution_count": 73,
   "id": "9b9ded31-a703-4230-825a-86acd4360981",
   "metadata": {},
   "outputs": [
    {
     "data": {
      "text/plain": [
       "Index(['SeniorCitizen', 'Dependents', 'tenure', 'PaperlessBilling',\n",
       "       'Contract_One year', 'Contract_Two year',\n",
       "       'Method_Payment_Electronic check', 'InternetService_Fiber optic',\n",
       "       'InternetService_No', 'OnlineSecurity_Yes', 'TechSupport_Yes',\n",
       "       'TV_Streaming_Yes', 'Movie_Streaming_Yes'],\n",
       "      dtype='object')"
      ]
     },
     "execution_count": 73,
     "metadata": {},
     "output_type": "execute_result"
    }
   ],
   "source": [
    "# Let's drop TotalCharges since it has a high VIF\n",
    "col = col.drop('TotalCharges')\n",
    "col"
   ]
  },
  {
   "cell_type": "code",
   "execution_count": 74,
   "id": "9a54b950-6f8b-4c35-b5ba-2edb8df2da51",
   "metadata": {},
   "outputs": [
    {
     "data": {
      "text/html": [
       "<table class=\"simpletable\">\n",
       "<caption>Generalized Linear Model Regression Results</caption>\n",
       "<tr>\n",
       "  <th>Dep. Variable:</th>         <td>Churn</td>      <th>  No. Observations:  </th>  <td>  3936</td> \n",
       "</tr>\n",
       "<tr>\n",
       "  <th>Model:</th>                  <td>GLM</td>       <th>  Df Residuals:      </th>  <td>  3922</td> \n",
       "</tr>\n",
       "<tr>\n",
       "  <th>Model Family:</th>        <td>Binomial</td>     <th>  Df Model:          </th>  <td>    13</td> \n",
       "</tr>\n",
       "<tr>\n",
       "  <th>Link Function:</th>         <td>Logit</td>      <th>  Scale:             </th> <td>  1.0000</td>\n",
       "</tr>\n",
       "<tr>\n",
       "  <th>Method:</th>                <td>IRLS</td>       <th>  Log-Likelihood:    </th> <td> -1674.2</td>\n",
       "</tr>\n",
       "<tr>\n",
       "  <th>Date:</th>            <td>Wed, 03 Jul 2024</td> <th>  Deviance:          </th> <td>  3348.4</td>\n",
       "</tr>\n",
       "<tr>\n",
       "  <th>Time:</th>                <td>12:57:57</td>     <th>  Pearson chi2:      </th> <td>4.05e+03</td>\n",
       "</tr>\n",
       "<tr>\n",
       "  <th>No. Iterations:</th>          <td>7</td>        <th>  Pseudo R-squ. (CS):</th>  <td>0.2645</td> \n",
       "</tr>\n",
       "<tr>\n",
       "  <th>Covariance Type:</th>     <td>nonrobust</td>    <th>                     </th>     <td> </td>   \n",
       "</tr>\n",
       "</table>\n",
       "<table class=\"simpletable\">\n",
       "<tr>\n",
       "                 <td></td>                    <th>coef</th>     <th>std err</th>      <th>z</th>      <th>P>|z|</th>  <th>[0.025</th>    <th>0.975]</th>  \n",
       "</tr>\n",
       "<tr>\n",
       "  <th>const</th>                           <td>   -1.6510</td> <td>    0.139</td> <td>  -11.845</td> <td> 0.000</td> <td>   -1.924</td> <td>   -1.378</td>\n",
       "</tr>\n",
       "<tr>\n",
       "  <th>SeniorCitizen</th>                   <td>    0.2349</td> <td>    0.112</td> <td>    2.104</td> <td> 0.035</td> <td>    0.016</td> <td>    0.454</td>\n",
       "</tr>\n",
       "<tr>\n",
       "  <th>Dependents</th>                      <td>   -0.1494</td> <td>    0.108</td> <td>   -1.383</td> <td> 0.167</td> <td>   -0.361</td> <td>    0.062</td>\n",
       "</tr>\n",
       "<tr>\n",
       "  <th>tenure</th>                          <td>   -0.7844</td> <td>    0.069</td> <td>  -11.376</td> <td> 0.000</td> <td>   -0.920</td> <td>   -0.649</td>\n",
       "</tr>\n",
       "<tr>\n",
       "  <th>PaperlessBilling</th>                <td>    0.3656</td> <td>    0.099</td> <td>    3.698</td> <td> 0.000</td> <td>    0.172</td> <td>    0.559</td>\n",
       "</tr>\n",
       "<tr>\n",
       "  <th>Contract_One year</th>               <td>   -0.5978</td> <td>    0.137</td> <td>   -4.361</td> <td> 0.000</td> <td>   -0.866</td> <td>   -0.329</td>\n",
       "</tr>\n",
       "<tr>\n",
       "  <th>Contract_Two year</th>               <td>   -1.3793</td> <td>    0.236</td> <td>   -5.847</td> <td> 0.000</td> <td>   -1.842</td> <td>   -0.917</td>\n",
       "</tr>\n",
       "<tr>\n",
       "  <th>Method_Payment_Electronic check</th> <td>    0.3974</td> <td>    0.091</td> <td>    4.365</td> <td> 0.000</td> <td>    0.219</td> <td>    0.576</td>\n",
       "</tr>\n",
       "<tr>\n",
       "  <th>InternetService_Fiber optic</th>     <td>    0.7393</td> <td>    0.103</td> <td>    7.177</td> <td> 0.000</td> <td>    0.537</td> <td>    0.941</td>\n",
       "</tr>\n",
       "<tr>\n",
       "  <th>InternetService_No</th>              <td>   -0.9123</td> <td>    0.168</td> <td>   -5.420</td> <td> 0.000</td> <td>   -1.242</td> <td>   -0.582</td>\n",
       "</tr>\n",
       "<tr>\n",
       "  <th>OnlineSecurity_Yes</th>              <td>   -0.3709</td> <td>    0.110</td> <td>   -3.372</td> <td> 0.001</td> <td>   -0.587</td> <td>   -0.155</td>\n",
       "</tr>\n",
       "<tr>\n",
       "  <th>TechSupport_Yes</th>                 <td>   -0.3565</td> <td>    0.113</td> <td>   -3.147</td> <td> 0.002</td> <td>   -0.579</td> <td>   -0.134</td>\n",
       "</tr>\n",
       "<tr>\n",
       "  <th>TV_Streaming_Yes</th>                <td>    0.3390</td> <td>    0.104</td> <td>    3.249</td> <td> 0.001</td> <td>    0.134</td> <td>    0.543</td>\n",
       "</tr>\n",
       "<tr>\n",
       "  <th>Movie_Streaming_Yes</th>             <td>    0.2920</td> <td>    0.104</td> <td>    2.801</td> <td> 0.005</td> <td>    0.088</td> <td>    0.496</td>\n",
       "</tr>\n",
       "</table>"
      ],
      "text/latex": [
       "\\begin{center}\n",
       "\\begin{tabular}{lclc}\n",
       "\\toprule\n",
       "\\textbf{Dep. Variable:}                    &      Churn       & \\textbf{  No. Observations:  } &     3936    \\\\\n",
       "\\textbf{Model:}                            &       GLM        & \\textbf{  Df Residuals:      } &     3922    \\\\\n",
       "\\textbf{Model Family:}                     &     Binomial     & \\textbf{  Df Model:          } &       13    \\\\\n",
       "\\textbf{Link Function:}                    &      Logit       & \\textbf{  Scale:             } &    1.0000   \\\\\n",
       "\\textbf{Method:}                           &       IRLS       & \\textbf{  Log-Likelihood:    } &   -1674.2   \\\\\n",
       "\\textbf{Date:}                             & Wed, 03 Jul 2024 & \\textbf{  Deviance:          } &    3348.4   \\\\\n",
       "\\textbf{Time:}                             &     12:57:57     & \\textbf{  Pearson chi2:      } &  4.05e+03   \\\\\n",
       "\\textbf{No. Iterations:}                   &        7         & \\textbf{  Pseudo R-squ. (CS):} &   0.2645    \\\\\n",
       "\\textbf{Covariance Type:}                  &    nonrobust     & \\textbf{                     } &             \\\\\n",
       "\\bottomrule\n",
       "\\end{tabular}\n",
       "\\begin{tabular}{lcccccc}\n",
       "                                           & \\textbf{coef} & \\textbf{std err} & \\textbf{z} & \\textbf{P$> |$z$|$} & \\textbf{[0.025} & \\textbf{0.975]}  \\\\\n",
       "\\midrule\n",
       "\\textbf{const}                             &      -1.6510  &        0.139     &   -11.845  &         0.000        &       -1.924    &       -1.378     \\\\\n",
       "\\textbf{SeniorCitizen}                     &       0.2349  &        0.112     &     2.104  &         0.035        &        0.016    &        0.454     \\\\\n",
       "\\textbf{Dependents}                        &      -0.1494  &        0.108     &    -1.383  &         0.167        &       -0.361    &        0.062     \\\\\n",
       "\\textbf{tenure}                            &      -0.7844  &        0.069     &   -11.376  &         0.000        &       -0.920    &       -0.649     \\\\\n",
       "\\textbf{PaperlessBilling}                  &       0.3656  &        0.099     &     3.698  &         0.000        &        0.172    &        0.559     \\\\\n",
       "\\textbf{Contract\\_One year}                &      -0.5978  &        0.137     &    -4.361  &         0.000        &       -0.866    &       -0.329     \\\\\n",
       "\\textbf{Contract\\_Two year}                &      -1.3793  &        0.236     &    -5.847  &         0.000        &       -1.842    &       -0.917     \\\\\n",
       "\\textbf{Method\\_Payment\\_Electronic check} &       0.3974  &        0.091     &     4.365  &         0.000        &        0.219    &        0.576     \\\\\n",
       "\\textbf{InternetService\\_Fiber optic}      &       0.7393  &        0.103     &     7.177  &         0.000        &        0.537    &        0.941     \\\\\n",
       "\\textbf{InternetService\\_No}               &      -0.9123  &        0.168     &    -5.420  &         0.000        &       -1.242    &       -0.582     \\\\\n",
       "\\textbf{OnlineSecurity\\_Yes}               &      -0.3709  &        0.110     &    -3.372  &         0.001        &       -0.587    &       -0.155     \\\\\n",
       "\\textbf{TechSupport\\_Yes}                  &      -0.3565  &        0.113     &    -3.147  &         0.002        &       -0.579    &       -0.134     \\\\\n",
       "\\textbf{TV\\_Streaming\\_Yes}                &       0.3390  &        0.104     &     3.249  &         0.001        &        0.134    &        0.543     \\\\\n",
       "\\textbf{Movie\\_Streaming\\_Yes}             &       0.2920  &        0.104     &     2.801  &         0.005        &        0.088    &        0.496     \\\\\n",
       "\\bottomrule\n",
       "\\end{tabular}\n",
       "%\\caption{Generalized Linear Model Regression Results}\n",
       "\\end{center}"
      ],
      "text/plain": [
       "<class 'statsmodels.iolib.summary.Summary'>\n",
       "\"\"\"\n",
       "                 Generalized Linear Model Regression Results                  \n",
       "==============================================================================\n",
       "Dep. Variable:                  Churn   No. Observations:                 3936\n",
       "Model:                            GLM   Df Residuals:                     3922\n",
       "Model Family:                Binomial   Df Model:                           13\n",
       "Link Function:                  Logit   Scale:                          1.0000\n",
       "Method:                          IRLS   Log-Likelihood:                -1674.2\n",
       "Date:                Wed, 03 Jul 2024   Deviance:                       3348.4\n",
       "Time:                        12:57:57   Pearson chi2:                 4.05e+03\n",
       "No. Iterations:                     7   Pseudo R-squ. (CS):             0.2645\n",
       "Covariance Type:            nonrobust                                         \n",
       "===================================================================================================\n",
       "                                      coef    std err          z      P>|z|      [0.025      0.975]\n",
       "---------------------------------------------------------------------------------------------------\n",
       "const                              -1.6510      0.139    -11.845      0.000      -1.924      -1.378\n",
       "SeniorCitizen                       0.2349      0.112      2.104      0.035       0.016       0.454\n",
       "Dependents                         -0.1494      0.108     -1.383      0.167      -0.361       0.062\n",
       "tenure                             -0.7844      0.069    -11.376      0.000      -0.920      -0.649\n",
       "PaperlessBilling                    0.3656      0.099      3.698      0.000       0.172       0.559\n",
       "Contract_One year                  -0.5978      0.137     -4.361      0.000      -0.866      -0.329\n",
       "Contract_Two year                  -1.3793      0.236     -5.847      0.000      -1.842      -0.917\n",
       "Method_Payment_Electronic check     0.3974      0.091      4.365      0.000       0.219       0.576\n",
       "InternetService_Fiber optic         0.7393      0.103      7.177      0.000       0.537       0.941\n",
       "InternetService_No                 -0.9123      0.168     -5.420      0.000      -1.242      -0.582\n",
       "OnlineSecurity_Yes                 -0.3709      0.110     -3.372      0.001      -0.587      -0.155\n",
       "TechSupport_Yes                    -0.3565      0.113     -3.147      0.002      -0.579      -0.134\n",
       "TV_Streaming_Yes                    0.3390      0.104      3.249      0.001       0.134       0.543\n",
       "Movie_Streaming_Yes                 0.2920      0.104      2.801      0.005       0.088       0.496\n",
       "===================================================================================================\n",
       "\"\"\""
      ]
     },
     "execution_count": 74,
     "metadata": {},
     "output_type": "execute_result"
    }
   ],
   "source": [
    "# Let's re-run the model using the selected variables\n",
    "X_train_sm = sm.add_constant(X_train[col])\n",
    "logm4 = sm.GLM(y_train,X_train_sm, family = sm.families.Binomial())\n",
    "res = logm4.fit()\n",
    "res.summary()"
   ]
  },
  {
   "cell_type": "code",
   "execution_count": 75,
   "id": "5a62b971-c63f-4600-b57f-92d8c4d773a3",
   "metadata": {},
   "outputs": [],
   "source": [
    "y_train_pred = res.predict(X_train_sm).values.reshape(-1)"
   ]
  },
  {
   "cell_type": "code",
   "execution_count": 76,
   "id": "8e3e66dc-7741-439d-b8f6-a14933b635b9",
   "metadata": {},
   "outputs": [
    {
     "data": {
      "text/plain": [
       "array([0.51357426, 0.14643772, 0.69525019, 0.82131373, 0.03154089,\n",
       "       0.17273528, 0.72916069, 0.01167618, 0.56325003, 0.360698  ])"
      ]
     },
     "execution_count": 76,
     "metadata": {},
     "output_type": "execute_result"
    }
   ],
   "source": [
    "y_train_pred[:10]"
   ]
  },
  {
   "cell_type": "code",
   "execution_count": 77,
   "id": "86606fed-ab2a-432b-82b5-d75e83d8d7fb",
   "metadata": {},
   "outputs": [],
   "source": [
    "y_train_pred_final['Churn_Prob'] = y_train_pred"
   ]
  },
  {
   "cell_type": "code",
   "execution_count": 78,
   "id": "45bd3e5e-5db8-40ed-a32a-71b07b01b48e",
   "metadata": {},
   "outputs": [
    {
     "data": {
      "text/html": [
       "<div>\n",
       "<style scoped>\n",
       "    .dataframe tbody tr th:only-of-type {\n",
       "        vertical-align: middle;\n",
       "    }\n",
       "\n",
       "    .dataframe tbody tr th {\n",
       "        vertical-align: top;\n",
       "    }\n",
       "\n",
       "    .dataframe thead th {\n",
       "        text-align: right;\n",
       "    }\n",
       "</style>\n",
       "<table border=\"1\" class=\"dataframe\">\n",
       "  <thead>\n",
       "    <tr style=\"text-align: right;\">\n",
       "      <th></th>\n",
       "      <th>Churn</th>\n",
       "      <th>Churn_Prob</th>\n",
       "      <th>cID</th>\n",
       "      <th>predicted</th>\n",
       "    </tr>\n",
       "  </thead>\n",
       "  <tbody>\n",
       "    <tr>\n",
       "      <th>4616</th>\n",
       "      <td>0</td>\n",
       "      <td>0.513574</td>\n",
       "      <td>4616</td>\n",
       "      <td>1</td>\n",
       "    </tr>\n",
       "    <tr>\n",
       "      <th>4806</th>\n",
       "      <td>0</td>\n",
       "      <td>0.146438</td>\n",
       "      <td>4806</td>\n",
       "      <td>0</td>\n",
       "    </tr>\n",
       "    <tr>\n",
       "      <th>381</th>\n",
       "      <td>1</td>\n",
       "      <td>0.695250</td>\n",
       "      <td>381</td>\n",
       "      <td>1</td>\n",
       "    </tr>\n",
       "    <tr>\n",
       "      <th>3378</th>\n",
       "      <td>1</td>\n",
       "      <td>0.821314</td>\n",
       "      <td>3378</td>\n",
       "      <td>1</td>\n",
       "    </tr>\n",
       "    <tr>\n",
       "      <th>2277</th>\n",
       "      <td>0</td>\n",
       "      <td>0.031541</td>\n",
       "      <td>2277</td>\n",
       "      <td>0</td>\n",
       "    </tr>\n",
       "  </tbody>\n",
       "</table>\n",
       "</div>"
      ],
      "text/plain": [
       "      Churn  Churn_Prob   cID  predicted\n",
       "4616      0    0.513574  4616          1\n",
       "4806      0    0.146438  4806          0\n",
       "381       1    0.695250   381          1\n",
       "3378      1    0.821314  3378          1\n",
       "2277      0    0.031541  2277          0"
      ]
     },
     "execution_count": 78,
     "metadata": {},
     "output_type": "execute_result"
    }
   ],
   "source": [
    "# Creating new column 'predicted' with 1 if Churn_Prob > 0.5 else 0\n",
    "y_train_pred_final['predicted'] = y_train_pred_final.Churn_Prob.map(lambda x: 1 if x > 0.5 else 0)\n",
    "y_train_pred_final.head()"
   ]
  },
  {
   "cell_type": "code",
   "execution_count": 79,
   "id": "c2213601-656e-40c9-a36a-e43a937a01e7",
   "metadata": {},
   "outputs": [
    {
     "name": "stdout",
     "output_type": "stream",
     "text": [
      "0.7992886178861789\n"
     ]
    }
   ],
   "source": [
    "# Let's check the overall accuracy.\n",
    "print(metrics.accuracy_score(y_train_pred_final.Churn, y_train_pred_final.predicted))"
   ]
  },
  {
   "cell_type": "markdown",
   "id": "9f8f7cf8-41bb-4347-8666-eb351bf5658e",
   "metadata": {},
   "source": [
    "The accuracy is still practically the same."
   ]
  },
  {
   "cell_type": "markdown",
   "id": "a748e43a-674e-4a7c-8b7d-be9e1911f6c8",
   "metadata": {},
   "source": [
    "#### Let's now check the VIFs again"
   ]
  },
  {
   "cell_type": "code",
   "execution_count": 80,
   "id": "2a486b84-5fbf-4ab5-a1e9-28f48d94b740",
   "metadata": {},
   "outputs": [
    {
     "data": {
      "text/html": [
       "<div>\n",
       "<style scoped>\n",
       "    .dataframe tbody tr th:only-of-type {\n",
       "        vertical-align: middle;\n",
       "    }\n",
       "\n",
       "    .dataframe tbody tr th {\n",
       "        vertical-align: top;\n",
       "    }\n",
       "\n",
       "    .dataframe thead th {\n",
       "        text-align: right;\n",
       "    }\n",
       "</style>\n",
       "<table border=\"1\" class=\"dataframe\">\n",
       "  <thead>\n",
       "    <tr style=\"text-align: right;\">\n",
       "      <th></th>\n",
       "      <th>Features</th>\n",
       "      <th>VIF</th>\n",
       "    </tr>\n",
       "  </thead>\n",
       "  <tbody>\n",
       "    <tr>\n",
       "      <th>5</th>\n",
       "      <td>Contract_Two year</td>\n",
       "      <td>3.07</td>\n",
       "    </tr>\n",
       "    <tr>\n",
       "      <th>12</th>\n",
       "      <td>Movie_Streaming_Yes</td>\n",
       "      <td>2.58</td>\n",
       "    </tr>\n",
       "    <tr>\n",
       "      <th>3</th>\n",
       "      <td>PaperlessBilling</td>\n",
       "      <td>2.53</td>\n",
       "    </tr>\n",
       "    <tr>\n",
       "      <th>11</th>\n",
       "      <td>TV_Streaming_Yes</td>\n",
       "      <td>2.53</td>\n",
       "    </tr>\n",
       "    <tr>\n",
       "      <th>7</th>\n",
       "      <td>InternetService_Fiber optic</td>\n",
       "      <td>2.45</td>\n",
       "    </tr>\n",
       "    <tr>\n",
       "      <th>8</th>\n",
       "      <td>InternetService_No</td>\n",
       "      <td>1.97</td>\n",
       "    </tr>\n",
       "    <tr>\n",
       "      <th>10</th>\n",
       "      <td>TechSupport_Yes</td>\n",
       "      <td>1.90</td>\n",
       "    </tr>\n",
       "    <tr>\n",
       "      <th>4</th>\n",
       "      <td>Contract_One year</td>\n",
       "      <td>1.85</td>\n",
       "    </tr>\n",
       "    <tr>\n",
       "      <th>2</th>\n",
       "      <td>tenure</td>\n",
       "      <td>1.84</td>\n",
       "    </tr>\n",
       "    <tr>\n",
       "      <th>6</th>\n",
       "      <td>Method_Payment_Electronic check</td>\n",
       "      <td>1.77</td>\n",
       "    </tr>\n",
       "    <tr>\n",
       "      <th>9</th>\n",
       "      <td>OnlineSecurity_Yes</td>\n",
       "      <td>1.73</td>\n",
       "    </tr>\n",
       "    <tr>\n",
       "      <th>1</th>\n",
       "      <td>Dependents</td>\n",
       "      <td>1.51</td>\n",
       "    </tr>\n",
       "    <tr>\n",
       "      <th>0</th>\n",
       "      <td>SeniorCitizen</td>\n",
       "      <td>1.31</td>\n",
       "    </tr>\n",
       "  </tbody>\n",
       "</table>\n",
       "</div>"
      ],
      "text/plain": [
       "                           Features   VIF\n",
       "5                 Contract_Two year  3.07\n",
       "12              Movie_Streaming_Yes  2.58\n",
       "3                  PaperlessBilling  2.53\n",
       "11                 TV_Streaming_Yes  2.53\n",
       "7       InternetService_Fiber optic  2.45\n",
       "8                InternetService_No  1.97\n",
       "10                  TechSupport_Yes  1.90\n",
       "4                 Contract_One year  1.85\n",
       "2                            tenure  1.84\n",
       "6   Method_Payment_Electronic check  1.77\n",
       "9                OnlineSecurity_Yes  1.73\n",
       "1                        Dependents  1.51\n",
       "0                     SeniorCitizen  1.31"
      ]
     },
     "execution_count": 80,
     "metadata": {},
     "output_type": "execute_result"
    }
   ],
   "source": [
    "vif = pd.DataFrame()\n",
    "vif['Features'] = X_train[col].columns\n",
    "vif['VIF'] = [variance_inflation_factor(X_train[col].values, i) for i in range(X_train[col].shape[1])]\n",
    "vif['VIF'] = round(vif['VIF'], 2)\n",
    "vif = vif.sort_values(by = \"VIF\", ascending = False)\n",
    "vif"
   ]
  },
  {
   "cell_type": "markdown",
   "id": "ed97e6a3-848a-4dcd-9bb9-e6761d76665a",
   "metadata": {},
   "source": [
    "All variables have a good value of VIF. So we need not drop any more variables and we can proceed with making predictions using this model only"
   ]
  },
  {
   "cell_type": "code",
   "execution_count": 81,
   "id": "f15d709a-bff5-4732-ac5d-785238258dff",
   "metadata": {},
   "outputs": [
    {
     "data": {
      "text/plain": [
       "array([[2602,  288],\n",
       "       [ 502,  544]], dtype=int64)"
      ]
     },
     "execution_count": 81,
     "metadata": {},
     "output_type": "execute_result"
    }
   ],
   "source": [
    "# Let's take a look at the confusion matrix again \n",
    "confusion = metrics.confusion_matrix(y_train_pred_final.Churn, y_train_pred_final.predicted )\n",
    "confusion"
   ]
  },
  {
   "cell_type": "code",
   "execution_count": 82,
   "id": "f5c01e94-fdbc-4074-9dc7-397cf0f6bf77",
   "metadata": {},
   "outputs": [],
   "source": [
    "# Actual/Predicted     not_churn    churn\n",
    "        # not_churn        2602      288\n",
    "        # churn            502       544 "
   ]
  },
  {
   "cell_type": "code",
   "execution_count": 83,
   "id": "961d14a2-4f91-49bc-bc64-bb7620ba7b7b",
   "metadata": {},
   "outputs": [
    {
     "data": {
      "text/plain": [
       "0.7992886178861789"
      ]
     },
     "execution_count": 83,
     "metadata": {},
     "output_type": "execute_result"
    }
   ],
   "source": [
    "# Let's check the overall accuracy.\n",
    "metrics.accuracy_score(y_train_pred_final.Churn, y_train_pred_final.predicted)"
   ]
  },
  {
   "cell_type": "markdown",
   "id": "eb75dec8-c883-487e-a5a9-2dc3ea5d4055",
   "metadata": {},
   "source": [
    "# Metrics beyond simply accuracy"
   ]
  },
  {
   "cell_type": "code",
   "execution_count": 84,
   "id": "9123a6d8-eec0-4691-b1d7-9cd425f235c3",
   "metadata": {},
   "outputs": [],
   "source": [
    "TP = confusion[1,1] # true positive \n",
    "TN = confusion[0,0] # true negatives\n",
    "FP = confusion[0,1] # false positives\n",
    "FN = confusion[1,0] # false negatives"
   ]
  },
  {
   "cell_type": "code",
   "execution_count": 85,
   "id": "968bb4b5-e384-437e-9bac-f69428ddc067",
   "metadata": {},
   "outputs": [
    {
     "data": {
      "text/plain": [
       "0.5200764818355641"
      ]
     },
     "execution_count": 85,
     "metadata": {},
     "output_type": "execute_result"
    }
   ],
   "source": [
    "# Let's see the sensitivity of our logistic regression model\n",
    "TP / float(TP+FN)"
   ]
  },
  {
   "cell_type": "code",
   "execution_count": 86,
   "id": "1c82e3e0-134d-4f28-9105-bfa10de32975",
   "metadata": {},
   "outputs": [
    {
     "data": {
      "text/plain": [
       "0.9003460207612457"
      ]
     },
     "execution_count": 86,
     "metadata": {},
     "output_type": "execute_result"
    }
   ],
   "source": [
    "# Let us calculate specificity\n",
    "TN / float(TN+FP)"
   ]
  },
  {
   "cell_type": "code",
   "execution_count": 87,
   "id": "ea761675-db7f-422e-b532-16aea4e5a071",
   "metadata": {},
   "outputs": [
    {
     "name": "stdout",
     "output_type": "stream",
     "text": [
      "0.09965397923875433\n"
     ]
    }
   ],
   "source": [
    "# Calculate false postive rate - predicting churn when customer does not have churned\n",
    "print(FP/ float(TN+FP))"
   ]
  },
  {
   "cell_type": "code",
   "execution_count": 88,
   "id": "35dc47a4-7787-491a-985a-ee9ae19da1d5",
   "metadata": {},
   "outputs": [
    {
     "name": "stdout",
     "output_type": "stream",
     "text": [
      "0.6538461538461539\n"
     ]
    }
   ],
   "source": [
    "# positive predictive value \n",
    "print (TP / float(TP+FP))"
   ]
  },
  {
   "cell_type": "code",
   "execution_count": 89,
   "id": "20372675-4a03-45bc-9e14-d52c570ad1cf",
   "metadata": {},
   "outputs": [
    {
     "name": "stdout",
     "output_type": "stream",
     "text": [
      "0.8382731958762887\n"
     ]
    }
   ],
   "source": [
    "# Negative predictive value\n",
    "print (TN / float(TN+ FN))"
   ]
  },
  {
   "cell_type": "markdown",
   "id": "bef636ab-c437-4cab-aa47-5fcaace140c2",
   "metadata": {},
   "source": [
    "## Precision and Recall"
   ]
  },
  {
   "cell_type": "code",
   "execution_count": 90,
   "id": "9bdd9b65-f807-4423-92e3-7965f72301ec",
   "metadata": {},
   "outputs": [],
   "source": [
    "#Looking at the confusion matrix again"
   ]
  },
  {
   "cell_type": "code",
   "execution_count": 91,
   "id": "8025efa5-3490-42b5-a88c-ea0f48a75cf0",
   "metadata": {},
   "outputs": [
    {
     "data": {
      "text/plain": [
       "array([[2602,  288],\n",
       "       [ 502,  544]], dtype=int64)"
      ]
     },
     "execution_count": 91,
     "metadata": {},
     "output_type": "execute_result"
    }
   ],
   "source": [
    "confusion = metrics.confusion_matrix(y_train_pred_final.Churn, y_train_pred_final.predicted )\n",
    "confusion"
   ]
  },
  {
   "cell_type": "markdown",
   "id": "1afd00bf-091a-4785-9016-bde1fcf02734",
   "metadata": {},
   "source": [
    "#### Precision\n",
    "TP / TP + FP"
   ]
  },
  {
   "cell_type": "code",
   "execution_count": 92,
   "id": "9a35a2e1-d8d1-4f2f-b081-75b75cb89cba",
   "metadata": {},
   "outputs": [
    {
     "data": {
      "text/plain": [
       "0.5200764818355641"
      ]
     },
     "execution_count": 92,
     "metadata": {},
     "output_type": "execute_result"
    }
   ],
   "source": [
    "confusion[1,1]/(confusion[1,0]+confusion[1,1])"
   ]
  },
  {
   "cell_type": "markdown",
   "id": "50589217-5385-40d9-b794-87bc5805f867",
   "metadata": {},
   "source": [
    "Using sklearn utilities for the same"
   ]
  },
  {
   "cell_type": "code",
   "execution_count": 93,
   "id": "534e4eab-868c-480f-a0de-f91582819191",
   "metadata": {},
   "outputs": [],
   "source": [
    "from sklearn.metrics import precision_score, recall_score"
   ]
  },
  {
   "cell_type": "code",
   "execution_count": 94,
   "id": "ec537042-60f7-4973-9974-8dadb0eef18e",
   "metadata": {},
   "outputs": [
    {
     "data": {
      "text/plain": [
       "0.6538461538461539"
      ]
     },
     "execution_count": 94,
     "metadata": {},
     "output_type": "execute_result"
    }
   ],
   "source": [
    "precision_score(y_train_pred_final.Churn, y_train_pred_final.predicted)"
   ]
  },
  {
   "cell_type": "markdown",
   "id": "9971b03e-c41d-45f8-9798-47ef85efdcf9",
   "metadata": {},
   "source": [
    "## Precision and recall tradeoff"
   ]
  },
  {
   "cell_type": "code",
   "execution_count": 95,
   "id": "55451b31-0b47-4cc5-8e6a-64f09e23ae53",
   "metadata": {},
   "outputs": [],
   "source": [
    "from sklearn.metrics import precision_recall_curve"
   ]
  },
  {
   "cell_type": "code",
   "execution_count": 96,
   "id": "89123865-dfce-4bc9-871a-861d325db980",
   "metadata": {},
   "outputs": [
    {
     "data": {
      "text/plain": [
       "(4616    0\n",
       " 4806    0\n",
       " 381     1\n",
       " 3378    1\n",
       " 2277    0\n",
       "        ..\n",
       " 4155    0\n",
       " 1892    0\n",
       " 352     1\n",
       " 80      0\n",
       " 3932    1\n",
       " Name: Churn, Length: 3936, dtype: int64,\n",
       " 4616    1\n",
       " 4806    0\n",
       " 381     1\n",
       " 3378    1\n",
       " 2277    0\n",
       "        ..\n",
       " 4155    0\n",
       " 1892    0\n",
       " 352     0\n",
       " 80      0\n",
       " 3932    1\n",
       " Name: predicted, Length: 3936, dtype: int64)"
      ]
     },
     "execution_count": 96,
     "metadata": {},
     "output_type": "execute_result"
    }
   ],
   "source": [
    "y_train_pred_final.Churn, y_train_pred_final.predicted"
   ]
  },
  {
   "cell_type": "code",
   "execution_count": 97,
   "id": "3c6269ee-299b-4c94-84a3-47514c9e78f0",
   "metadata": {},
   "outputs": [],
   "source": [
    "p, r, thresholds = precision_recall_curve(y_train_pred_final.Churn, y_train_pred_final.Churn_Prob)"
   ]
  },
  {
   "cell_type": "code",
   "execution_count": 98,
   "id": "e29eba7e-d1a9-4b88-86a3-2a52aa22631c",
   "metadata": {},
   "outputs": [
    {
     "data": {
      "image/png": "[encoded data removed]",
      "text/plain": [
       "<Figure size 640x480 with 1 Axes>"
      ]
     },
     "metadata": {},
     "output_type": "display_data"
    }
   ],
   "source": [
    "plt.plot(thresholds, p[:-1], \"g-\")\n",
    "plt.plot(thresholds, r[:-1], \"r-\")\n",
    "plt.show()"
   ]
  },
  {
   "cell_type": "markdown",
   "id": "4f98cf08-8117-4f88-aee5-e6625287c330",
   "metadata": {},
   "source": [
    "## Step 11: Making predictions on the test set"
   ]
  },
  {
   "cell_type": "code",
   "execution_count": 99,
   "id": "e9c9402c-f08c-47bf-abb7-cf417a6b8d6f",
   "metadata": {},
   "outputs": [],
   "source": [
    "X_test[['tenure','Charges_Month','TotalCharges']] = scaler.transform(X_test[['tenure','Charges_Month','TotalCharges']])"
   ]
  },
  {
   "cell_type": "code",
   "execution_count": 100,
   "id": "ed6d5cab-93af-4256-87ab-48bc4848fecb",
   "metadata": {},
   "outputs": [
    {
     "data": {
      "text/html": [
       "<div>\n",
       "<style scoped>\n",
       "    .dataframe tbody tr th:only-of-type {\n",
       "        vertical-align: middle;\n",
       "    }\n",
       "\n",
       "    .dataframe tbody tr th {\n",
       "        vertical-align: top;\n",
       "    }\n",
       "\n",
       "    .dataframe thead th {\n",
       "        text-align: right;\n",
       "    }\n",
       "</style>\n",
       "<table border=\"1\" class=\"dataframe\">\n",
       "  <thead>\n",
       "    <tr style=\"text-align: right;\">\n",
       "      <th></th>\n",
       "      <th>SeniorCitizen</th>\n",
       "      <th>Dependents</th>\n",
       "      <th>tenure</th>\n",
       "      <th>PaperlessBilling</th>\n",
       "      <th>Contract_One year</th>\n",
       "      <th>Contract_Two year</th>\n",
       "      <th>Method_Payment_Electronic check</th>\n",
       "      <th>InternetService_Fiber optic</th>\n",
       "      <th>InternetService_No</th>\n",
       "      <th>OnlineSecurity_Yes</th>\n",
       "      <th>TechSupport_Yes</th>\n",
       "      <th>TV_Streaming_Yes</th>\n",
       "      <th>Movie_Streaming_Yes</th>\n",
       "    </tr>\n",
       "  </thead>\n",
       "  <tbody>\n",
       "    <tr>\n",
       "      <th>2289</th>\n",
       "      <td>0</td>\n",
       "      <td>1</td>\n",
       "      <td>-0.744633</td>\n",
       "      <td>0</td>\n",
       "      <td>1</td>\n",
       "      <td>0</td>\n",
       "      <td>0</td>\n",
       "      <td>0</td>\n",
       "      <td>1</td>\n",
       "      <td>0</td>\n",
       "      <td>0</td>\n",
       "      <td>0</td>\n",
       "      <td>0</td>\n",
       "    </tr>\n",
       "    <tr>\n",
       "      <th>4486</th>\n",
       "      <td>0</td>\n",
       "      <td>1</td>\n",
       "      <td>0.275227</td>\n",
       "      <td>1</td>\n",
       "      <td>1</td>\n",
       "      <td>0</td>\n",
       "      <td>1</td>\n",
       "      <td>1</td>\n",
       "      <td>0</td>\n",
       "      <td>0</td>\n",
       "      <td>1</td>\n",
       "      <td>0</td>\n",
       "      <td>0</td>\n",
       "    </tr>\n",
       "    <tr>\n",
       "      <th>943</th>\n",
       "      <td>0</td>\n",
       "      <td>0</td>\n",
       "      <td>-0.989399</td>\n",
       "      <td>1</td>\n",
       "      <td>0</td>\n",
       "      <td>0</td>\n",
       "      <td>0</td>\n",
       "      <td>0</td>\n",
       "      <td>0</td>\n",
       "      <td>0</td>\n",
       "      <td>0</td>\n",
       "      <td>0</td>\n",
       "      <td>0</td>\n",
       "    </tr>\n",
       "    <tr>\n",
       "      <th>1879</th>\n",
       "      <td>1</td>\n",
       "      <td>0</td>\n",
       "      <td>-0.785427</td>\n",
       "      <td>1</td>\n",
       "      <td>0</td>\n",
       "      <td>0</td>\n",
       "      <td>1</td>\n",
       "      <td>1</td>\n",
       "      <td>0</td>\n",
       "      <td>0</td>\n",
       "      <td>0</td>\n",
       "      <td>1</td>\n",
       "      <td>1</td>\n",
       "    </tr>\n",
       "    <tr>\n",
       "      <th>2819</th>\n",
       "      <td>1</td>\n",
       "      <td>0</td>\n",
       "      <td>0.805555</td>\n",
       "      <td>1</td>\n",
       "      <td>0</td>\n",
       "      <td>0</td>\n",
       "      <td>1</td>\n",
       "      <td>1</td>\n",
       "      <td>0</td>\n",
       "      <td>0</td>\n",
       "      <td>1</td>\n",
       "      <td>1</td>\n",
       "      <td>1</td>\n",
       "    </tr>\n",
       "  </tbody>\n",
       "</table>\n",
       "</div>"
      ],
      "text/plain": [
       "      SeniorCitizen  Dependents    tenure  PaperlessBilling  \\\n",
       "2289              0           1 -0.744633                 0   \n",
       "4486              0           1  0.275227                 1   \n",
       "943               0           0 -0.989399                 1   \n",
       "1879              1           0 -0.785427                 1   \n",
       "2819              1           0  0.805555                 1   \n",
       "\n",
       "      Contract_One year  Contract_Two year  Method_Payment_Electronic check  \\\n",
       "2289                  1                  0                                0   \n",
       "4486                  1                  0                                1   \n",
       "943                   0                  0                                0   \n",
       "1879                  0                  0                                1   \n",
       "2819                  0                  0                                1   \n",
       "\n",
       "      InternetService_Fiber optic  InternetService_No  OnlineSecurity_Yes  \\\n",
       "2289                            0                   1                   0   \n",
       "4486                            1                   0                   0   \n",
       "943                             0                   0                   0   \n",
       "1879                            1                   0                   0   \n",
       "2819                            1                   0                   0   \n",
       "\n",
       "      TechSupport_Yes  TV_Streaming_Yes  Movie_Streaming_Yes  \n",
       "2289                0                 0                    0  \n",
       "4486                1                 0                    0  \n",
       "943                 0                 0                    0  \n",
       "1879                0                 1                    1  \n",
       "2819                1                 1                    1  "
      ]
     },
     "execution_count": 100,
     "metadata": {},
     "output_type": "execute_result"
    }
   ],
   "source": [
    "X_test = X_test[col]\n",
    "X_test.head()"
   ]
  },
  {
   "cell_type": "code",
   "execution_count": 101,
   "id": "61db5e06-21a6-47c4-a1dd-a6bb66911147",
   "metadata": {},
   "outputs": [],
   "source": [
    "X_test_sm = sm.add_constant(X_test)"
   ]
  },
  {
   "cell_type": "markdown",
   "id": "b517aacf-4d6c-4712-a3d3-489a04384176",
   "metadata": {},
   "source": [
    "Making predictions on the test set"
   ]
  },
  {
   "cell_type": "code",
   "execution_count": 102,
   "id": "22e2c852-2821-465e-87b1-48618efef0aa",
   "metadata": {},
   "outputs": [],
   "source": [
    "y_test_pred = res.predict(X_test_sm)"
   ]
  },
  {
   "cell_type": "code",
   "execution_count": 103,
   "id": "4c543382-0263-4885-a9cc-65b92e66f3e0",
   "metadata": {},
   "outputs": [
    {
     "data": {
      "text/plain": [
       "2289    0.061438\n",
       "4486    0.187216\n",
       "943     0.375381\n",
       "1879    0.791381\n",
       "2819    0.432612\n",
       "5280    0.021294\n",
       "1726    0.704834\n",
       "3518    0.594973\n",
       "1483    0.038083\n",
       "1208    0.148652\n",
       "dtype: float64"
      ]
     },
     "execution_count": 103,
     "metadata": {},
     "output_type": "execute_result"
    }
   ],
   "source": [
    "y_test_pred[:10]"
   ]
  },
  {
   "cell_type": "code",
   "execution_count": 104,
   "id": "b237867f-83b6-45a9-8923-ca689167ebd4",
   "metadata": {},
   "outputs": [],
   "source": [
    "# Converting y_pred to a dataframe which is an array\n",
    "y_pred_1 = pd.DataFrame(y_test_pred)"
   ]
  },
  {
   "cell_type": "code",
   "execution_count": 105,
   "id": "c0df1e3c-4170-4eb4-a39c-7a045814adf9",
   "metadata": {},
   "outputs": [
    {
     "data": {
      "text/html": [
       "<div>\n",
       "<style scoped>\n",
       "    .dataframe tbody tr th:only-of-type {\n",
       "        vertical-align: middle;\n",
       "    }\n",
       "\n",
       "    .dataframe tbody tr th {\n",
       "        vertical-align: top;\n",
       "    }\n",
       "\n",
       "    .dataframe thead th {\n",
       "        text-align: right;\n",
       "    }\n",
       "</style>\n",
       "<table border=\"1\" class=\"dataframe\">\n",
       "  <thead>\n",
       "    <tr style=\"text-align: right;\">\n",
       "      <th></th>\n",
       "      <th>0</th>\n",
       "    </tr>\n",
       "  </thead>\n",
       "  <tbody>\n",
       "    <tr>\n",
       "      <th>2289</th>\n",
       "      <td>0.061438</td>\n",
       "    </tr>\n",
       "    <tr>\n",
       "      <th>4486</th>\n",
       "      <td>0.187216</td>\n",
       "    </tr>\n",
       "    <tr>\n",
       "      <th>943</th>\n",
       "      <td>0.375381</td>\n",
       "    </tr>\n",
       "    <tr>\n",
       "      <th>1879</th>\n",
       "      <td>0.791381</td>\n",
       "    </tr>\n",
       "    <tr>\n",
       "      <th>2819</th>\n",
       "      <td>0.432612</td>\n",
       "    </tr>\n",
       "  </tbody>\n",
       "</table>\n",
       "</div>"
      ],
      "text/plain": [
       "             0\n",
       "2289  0.061438\n",
       "4486  0.187216\n",
       "943   0.375381\n",
       "1879  0.791381\n",
       "2819  0.432612"
      ]
     },
     "execution_count": 105,
     "metadata": {},
     "output_type": "execute_result"
    }
   ],
   "source": [
    "# Let's see the head\n",
    "y_pred_1.head()"
   ]
  },
  {
   "cell_type": "code",
   "execution_count": 106,
   "id": "e810d590-0bfc-4a1f-8481-b855abe25b60",
   "metadata": {},
   "outputs": [],
   "source": [
    "# Converting y_test to dataframe\n",
    "y_test_df = pd.DataFrame(y_test)"
   ]
  },
  {
   "cell_type": "code",
   "execution_count": 107,
   "id": "39e14067-54e5-490f-ba36-8be80af79029",
   "metadata": {},
   "outputs": [],
   "source": [
    "# Putting CustID to index\n",
    "y_test_df['CustID'] = y_test_df.index"
   ]
  },
  {
   "cell_type": "code",
   "execution_count": 108,
   "id": "6681cf22-23a0-4f72-9de8-7d30962224e0",
   "metadata": {},
   "outputs": [],
   "source": [
    "# Removing index for both dataframes to append them side by side \n",
    "y_pred_1.reset_index(drop=True, inplace=True)\n",
    "y_test_df.reset_index(drop=True, inplace=True)"
   ]
  },
  {
   "cell_type": "code",
   "execution_count": 109,
   "id": "fea5af62-94aa-4c55-886b-de71ee7c2f06",
   "metadata": {},
   "outputs": [],
   "source": [
    "# Appending y_test_df and y_pred_1\n",
    "y_pred_final = pd.concat([y_test_df, y_pred_1],axis=1)"
   ]
  },
  {
   "cell_type": "code",
   "execution_count": 110,
   "id": "b4c7b3ff-5a98-413c-9bad-6158a9844f80",
   "metadata": {},
   "outputs": [
    {
     "data": {
      "text/html": [
       "<div>\n",
       "<style scoped>\n",
       "    .dataframe tbody tr th:only-of-type {\n",
       "        vertical-align: middle;\n",
       "    }\n",
       "\n",
       "    .dataframe tbody tr th {\n",
       "        vertical-align: top;\n",
       "    }\n",
       "\n",
       "    .dataframe thead th {\n",
       "        text-align: right;\n",
       "    }\n",
       "</style>\n",
       "<table border=\"1\" class=\"dataframe\">\n",
       "  <thead>\n",
       "    <tr style=\"text-align: right;\">\n",
       "      <th></th>\n",
       "      <th>Churn</th>\n",
       "      <th>CustID</th>\n",
       "      <th>0</th>\n",
       "    </tr>\n",
       "  </thead>\n",
       "  <tbody>\n",
       "    <tr>\n",
       "      <th>0</th>\n",
       "      <td>0</td>\n",
       "      <td>2289</td>\n",
       "      <td>0.061438</td>\n",
       "    </tr>\n",
       "    <tr>\n",
       "      <th>1</th>\n",
       "      <td>1</td>\n",
       "      <td>4486</td>\n",
       "      <td>0.187216</td>\n",
       "    </tr>\n",
       "    <tr>\n",
       "      <th>2</th>\n",
       "      <td>0</td>\n",
       "      <td>943</td>\n",
       "      <td>0.375381</td>\n",
       "    </tr>\n",
       "    <tr>\n",
       "      <th>3</th>\n",
       "      <td>0</td>\n",
       "      <td>1879</td>\n",
       "      <td>0.791381</td>\n",
       "    </tr>\n",
       "    <tr>\n",
       "      <th>4</th>\n",
       "      <td>0</td>\n",
       "      <td>2819</td>\n",
       "      <td>0.432612</td>\n",
       "    </tr>\n",
       "  </tbody>\n",
       "</table>\n",
       "</div>"
      ],
      "text/plain": [
       "   Churn  CustID         0\n",
       "0      0    2289  0.061438\n",
       "1      1    4486  0.187216\n",
       "2      0     943  0.375381\n",
       "3      0    1879  0.791381\n",
       "4      0    2819  0.432612"
      ]
     },
     "execution_count": 110,
     "metadata": {},
     "output_type": "execute_result"
    }
   ],
   "source": [
    "y_pred_final.head()"
   ]
  },
  {
   "cell_type": "code",
   "execution_count": 111,
   "id": "c561f996-323f-467b-b737-1d18c45bcd93",
   "metadata": {},
   "outputs": [],
   "source": [
    "# Renaming the column \n",
    "y_pred_final= y_pred_final.rename(columns={ 0 : 'Churn_Prob'})"
   ]
  },
  {
   "cell_type": "code",
   "execution_count": 114,
   "id": "0353871e-78a5-47ef-a5ac-216e44d6e9e9",
   "metadata": {},
   "outputs": [],
   "source": [
    "# Rearranging the columns\n",
    "y_pred_final = y_pred_final.reindex(['CustID', 'Churn', 'Churn_Prob'], axis=1)"
   ]
  },
  {
   "cell_type": "code",
   "execution_count": 115,
   "id": "f82e2abe-c8ce-40e9-a116-9ee8942082ae",
   "metadata": {},
   "outputs": [
    {
     "data": {
      "text/html": [
       "<div>\n",
       "<style scoped>\n",
       "    .dataframe tbody tr th:only-of-type {\n",
       "        vertical-align: middle;\n",
       "    }\n",
       "\n",
       "    .dataframe tbody tr th {\n",
       "        vertical-align: top;\n",
       "    }\n",
       "\n",
       "    .dataframe thead th {\n",
       "        text-align: right;\n",
       "    }\n",
       "</style>\n",
       "<table border=\"1\" class=\"dataframe\">\n",
       "  <thead>\n",
       "    <tr style=\"text-align: right;\">\n",
       "      <th></th>\n",
       "      <th>CustID</th>\n",
       "      <th>Churn</th>\n",
       "      <th>Churn_Prob</th>\n",
       "    </tr>\n",
       "  </thead>\n",
       "  <tbody>\n",
       "    <tr>\n",
       "      <th>0</th>\n",
       "      <td>2289</td>\n",
       "      <td>0</td>\n",
       "      <td>0.061438</td>\n",
       "    </tr>\n",
       "    <tr>\n",
       "      <th>1</th>\n",
       "      <td>4486</td>\n",
       "      <td>1</td>\n",
       "      <td>0.187216</td>\n",
       "    </tr>\n",
       "    <tr>\n",
       "      <th>2</th>\n",
       "      <td>943</td>\n",
       "      <td>0</td>\n",
       "      <td>0.375381</td>\n",
       "    </tr>\n",
       "    <tr>\n",
       "      <th>3</th>\n",
       "      <td>1879</td>\n",
       "      <td>0</td>\n",
       "      <td>0.791381</td>\n",
       "    </tr>\n",
       "    <tr>\n",
       "      <th>4</th>\n",
       "      <td>2819</td>\n",
       "      <td>0</td>\n",
       "      <td>0.432612</td>\n",
       "    </tr>\n",
       "  </tbody>\n",
       "</table>\n",
       "</div>"
      ],
      "text/plain": [
       "   CustID  Churn  Churn_Prob\n",
       "0    2289      0    0.061438\n",
       "1    4486      1    0.187216\n",
       "2     943      0    0.375381\n",
       "3    1879      0    0.791381\n",
       "4    2819      0    0.432612"
      ]
     },
     "execution_count": 115,
     "metadata": {},
     "output_type": "execute_result"
    }
   ],
   "source": [
    "# Let's see the head of y_pred_final\n",
    "y_pred_final.head()"
   ]
  },
  {
   "cell_type": "code",
   "execution_count": 116,
   "id": "e84ba8b4-5e6c-486a-a898-f4cd7eaa41df",
   "metadata": {},
   "outputs": [],
   "source": [
    "y_pred_final['final_predicted'] = y_pred_final.Churn_Prob.map(lambda x: 1 if x > 0.42 else 0)"
   ]
  },
  {
   "cell_type": "code",
   "execution_count": 117,
   "id": "9fa1aae8-0d27-4e13-a2fe-f24a4265f6b6",
   "metadata": {},
   "outputs": [
    {
     "data": {
      "text/html": [
       "<div>\n",
       "<style scoped>\n",
       "    .dataframe tbody tr th:only-of-type {\n",
       "        vertical-align: middle;\n",
       "    }\n",
       "\n",
       "    .dataframe tbody tr th {\n",
       "        vertical-align: top;\n",
       "    }\n",
       "\n",
       "    .dataframe thead th {\n",
       "        text-align: right;\n",
       "    }\n",
       "</style>\n",
       "<table border=\"1\" class=\"dataframe\">\n",
       "  <thead>\n",
       "    <tr style=\"text-align: right;\">\n",
       "      <th></th>\n",
       "      <th>CustID</th>\n",
       "      <th>Churn</th>\n",
       "      <th>Churn_Prob</th>\n",
       "      <th>final_predicted</th>\n",
       "    </tr>\n",
       "  </thead>\n",
       "  <tbody>\n",
       "    <tr>\n",
       "      <th>0</th>\n",
       "      <td>2289</td>\n",
       "      <td>0</td>\n",
       "      <td>0.061438</td>\n",
       "      <td>0</td>\n",
       "    </tr>\n",
       "    <tr>\n",
       "      <th>1</th>\n",
       "      <td>4486</td>\n",
       "      <td>1</td>\n",
       "      <td>0.187216</td>\n",
       "      <td>0</td>\n",
       "    </tr>\n",
       "    <tr>\n",
       "      <th>2</th>\n",
       "      <td>943</td>\n",
       "      <td>0</td>\n",
       "      <td>0.375381</td>\n",
       "      <td>0</td>\n",
       "    </tr>\n",
       "    <tr>\n",
       "      <th>3</th>\n",
       "      <td>1879</td>\n",
       "      <td>0</td>\n",
       "      <td>0.791381</td>\n",
       "      <td>1</td>\n",
       "    </tr>\n",
       "    <tr>\n",
       "      <th>4</th>\n",
       "      <td>2819</td>\n",
       "      <td>0</td>\n",
       "      <td>0.432612</td>\n",
       "      <td>1</td>\n",
       "    </tr>\n",
       "  </tbody>\n",
       "</table>\n",
       "</div>"
      ],
      "text/plain": [
       "   CustID  Churn  Churn_Prob  final_predicted\n",
       "0    2289      0    0.061438                0\n",
       "1    4486      1    0.187216                0\n",
       "2     943      0    0.375381                0\n",
       "3    1879      0    0.791381                1\n",
       "4    2819      0    0.432612                1"
      ]
     },
     "execution_count": 117,
     "metadata": {},
     "output_type": "execute_result"
    }
   ],
   "source": [
    "y_pred_final.head()"
   ]
  },
  {
   "cell_type": "code",
   "execution_count": 118,
   "id": "982661c7-3b7b-40e3-8ea3-f2475f8cac99",
   "metadata": {},
   "outputs": [
    {
     "data": {
      "text/plain": [
       "0.792654028436019"
      ]
     },
     "execution_count": 118,
     "metadata": {},
     "output_type": "execute_result"
    }
   ],
   "source": [
    "# Let's check the overall accuracy.\n",
    "metrics.accuracy_score(y_pred_final.Churn, y_pred_final.final_predicted)"
   ]
  },
  {
   "cell_type": "code",
   "execution_count": 119,
   "id": "2e1e5154-b165-44d5-9980-7e20dd522499",
   "metadata": {},
   "outputs": [
    {
     "data": {
      "text/plain": [
       "array([[1048,  190],\n",
       "       [ 160,  290]], dtype=int64)"
      ]
     },
     "execution_count": 119,
     "metadata": {},
     "output_type": "execute_result"
    }
   ],
   "source": [
    "confusion2 = metrics.confusion_matrix(y_pred_final.Churn, y_pred_final.final_predicted )\n",
    "confusion2"
   ]
  },
  {
   "cell_type": "code",
   "execution_count": 120,
   "id": "7862c13d-2a4b-4a3c-98ad-8987a2d0478c",
   "metadata": {},
   "outputs": [],
   "source": [
    "TP = confusion2[1,1] # true positive \n",
    "TN = confusion2[0,0] # true negatives\n",
    "FP = confusion2[0,1] # false positives\n",
    "FN = confusion2[1,0] # false negatives"
   ]
  },
  {
   "cell_type": "code",
   "execution_count": 121,
   "id": "eff705bb-3ae6-4caa-870a-b7321279d6f2",
   "metadata": {},
   "outputs": [
    {
     "data": {
      "text/plain": [
       "0.6444444444444445"
      ]
     },
     "execution_count": 121,
     "metadata": {},
     "output_type": "execute_result"
    }
   ],
   "source": [
    "# Let's see the sensitivity of our logistic regression model\n",
    "TP / float(TP+FN)"
   ]
  },
  {
   "cell_type": "code",
   "execution_count": 122,
   "id": "d78dcdad-3385-4d01-94d1-e96870cfc78a",
   "metadata": {},
   "outputs": [
    {
     "data": {
      "text/plain": [
       "0.8465266558966075"
      ]
     },
     "execution_count": 122,
     "metadata": {},
     "output_type": "execute_result"
    }
   ],
   "source": [
    "# Let us calculate specificity\n",
    "TN / float(TN+FP)"
   ]
  }
 ],
 "metadata": {
  "kernelspec": {
   "display_name": "Python 3 (ipykernel)",
   "language": "python",
   "name": "python3"
  },
  "language_info": {
   "codemirror_mode": {
    "name": "ipython",
    "version": 3
   },
   "file_extension": ".py",
   "mimetype": "text/x-python",
   "name": "python",
   "nbconvert_exporter": "python",
   "pygments_lexer": "ipython3",
   "version": "3.11.7"
  }
 },
 "nbformat": 4,
 "nbformat_minor": 5
}
